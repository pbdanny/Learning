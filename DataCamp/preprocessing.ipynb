{
    "cells": [
        {
            "cell_type": "markdown",
            "source": [
                "# DataCamp - Preprocessing"
            ],
            "metadata": {}
        },
        {
            "cell_type": "markdown",
            "source": [
                "## Scaling (Normalization / Standardization)"
            ],
            "metadata": {}
        },
        {
            "cell_type": "code",
            "execution_count": 41,
            "source": [
                "from sklearn.model_selection import train_test_split\n",
                "from sklearn.datasets import load_wine\n",
                "from sklearn.neighbors import KNeighborsClassifier\n",
                "from sklearn.preprocessing import FunctionTransformer, StandardScaler\n",
                "from sklearn.pipeline import Pipeline\n",
                "from sklearn.compose import ColumnTransformer\n",
                "import numpy as np\n",
                "\n",
                "X, y = load_wine(return_X_y = True, as_frame = True)\n",
                "X_train, X_test, y_train, y_test = train_test_split(X, y, stratify=y)"
            ],
            "outputs": [],
            "metadata": {}
        },
        {
            "cell_type": "code",
            "execution_count": 39,
            "source": [
                "# Fit with out scaling\n",
                "knn = KNeighborsClassifier()\n",
                "knn.fit(X_train, y_train)\n",
                "knn.score(X_test, y_test)"
            ],
            "outputs": [
                {
                    "output_type": "execute_result",
                    "data": {
                        "text/plain": [
                            "0.7111111111111111"
                        ]
                    },
                    "metadata": {},
                    "execution_count": 39
                }
            ],
            "metadata": {}
        },
        {
            "cell_type": "code",
            "execution_count": 40,
            "source": [
                "# Fit with scaled 1 columns data\n",
                "log_trans = FunctionTransformer(lambda x : np.log(x+1e-10), validate=False)\n",
                "col_trans = ColumnTransformer([('log_trans', log_trans, ['proline'])], remainder='passthrough')\n",
                "pipe = Pipeline([('col_trans', col_trans), ('knn', knn)])\n",
                "\n",
                "pipe.fit(X_train, y_train)\n",
                "pipe.score(X_test, y_test)"
            ],
            "outputs": [
                {
                    "output_type": "execute_result",
                    "data": {
                        "text/plain": [
                            "0.8222222222222222"
                        ]
                    },
                    "metadata": {},
                    "execution_count": 40
                }
            ],
            "metadata": {}
        },
        {
            "cell_type": "code",
            "execution_count": 43,
            "source": [
                "# fit with all features scaled\n",
                "std_scale = StandardScaler()\n",
                "\n",
                "pipe = Pipeline([('std_scalar', std_scale), ('knn', knn)])\n",
                "pipe.fit(X_train, y_train)\n",
                "pipe.score(X_test, y_test)"
            ],
            "outputs": [
                {
                    "output_type": "execute_result",
                    "data": {
                        "text/plain": [
                            "0.9333333333333333"
                        ]
                    },
                    "metadata": {},
                    "execution_count": 43
                }
            ],
            "metadata": {}
        },
        {
            "cell_type": "markdown",
            "source": [
                "# Feature Engineering"
            ],
            "metadata": {}
        }
    ],
    "metadata": {
        "orig_nbformat": 4,
        "language_info": {
            "name": "python",
            "version": "3.8.2",
            "mimetype": "text/x-python",
            "codemirror_mode": {
                "name": "ipython",
                "version": 3
            },
            "pygments_lexer": "ipython3",
            "nbconvert_exporter": "python",
            "file_extension": ".py"
        },
        "kernelspec": {
            "name": "python3",
            "display_name": "Python 3.8.2 64-bit ('base': conda)"
        },
        "interpreter": {
            "hash": "569d6b7e9215e11aba41c6454007e5c1b78bad7df09dab765d8cf00362c40f03"
        }
    },
    "nbformat": 4,
    "nbformat_minor": 2
}
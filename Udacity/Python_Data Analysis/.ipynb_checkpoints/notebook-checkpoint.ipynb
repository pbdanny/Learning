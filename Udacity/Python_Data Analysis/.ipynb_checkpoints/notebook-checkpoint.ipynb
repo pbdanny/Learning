{
 "cells": [
  {
   "cell_type": "code",
   "execution_count": null,
   "metadata": {
    "_cell_guid": "25ff2a99-5555-45a3-8e7b-3455ac9bc867",
    "_uuid": "64b39898fcdbacce9d11d9a41306e752cca38d70",
    "scrolled": true
   },
   "outputs": [],
   "source": [
    "csv = [['A', 'B', 'C'],\n",
    "      ['1', '2', '3']]\n",
    "csv1 = [{'num1':1, 'num2':2, 'num3':3},\n",
    "       {'num1':5, 'num2':4, 'num3':3}]"
   ]
  },
  {
   "cell_type": "code",
   "execution_count": null,
   "metadata": {
    "_cell_guid": "1c85eb9c-3c50-4b60-a6a8-144827811a85",
    "_uuid": "7d80c16a0221184d68b45f33eb3e49b3007a042e",
    "scrolled": true
   },
   "outputs": [],
   "source": [
    "print(csv)\n",
    "print(csv1)"
   ]
  },
  {
   "cell_type": "code",
   "execution_count": null,
   "metadata": {
    "_cell_guid": "e1a84129-f02b-403c-b78e-e973c4c08be2",
    "_uuid": "b4dad33224f4965ff1b23ed74ec398e475656609",
    "scrolled": true
   },
   "outputs": [],
   "source": [
    "with open('enrollments.csv', 'r') as f:\n",
    "    reader = csv.DictReader(f)\n",
    "    # reader = csv.reader(f)\n",
    "    enrollments = list(reader)\n",
    "    # enrollments = [x for x in reader]\n",
    "enrollments[0]"
   ]
  },
  {
   "cell_type": "code",
   "execution_count": null,
   "metadata": {
    "_cell_guid": "a622ff3e-2dcd-4361-8dd0-87f87a0e4dcb",
    "_uuid": "978366270b6d6c0e2cec50694bb6a80422a4da9f"
   },
   "outputs": [],
   "source": [
    "daily_engagement[0]['account_key']"
   ]
  },
  {
   "cell_type": "markdown",
   "metadata": {
    "_cell_guid": "dd64555e-5c9a-449f-97c5-182b594a7246",
    "_uuid": "60b74f59cac63f7cfa3ab60d588004688efff609"
   },
   "source": [
    "# Learning Code start here"
   ]
  },
  {
   "cell_type": "code",
   "execution_count": null,
   "metadata": {
    "_cell_guid": "c07cf54d-f2ae-47c2-9020-da87eb027350",
    "_uuid": "e4fa6f46daccb379eaf03bee7946ab49bfbd2f80"
   },
   "outputs": [],
   "source": [
    "import csv\n",
    "\n",
    "def csv_read(filename):\n",
    "    with open(filename, 'r') as f:\n",
    "        reader = csv.DictReader(f)\n",
    "        return list(reader)"
   ]
  },
  {
   "cell_type": "code",
   "execution_count": null,
   "metadata": {
    "_cell_guid": "373fb2c9-06fe-4ee7-b025-76ce1fc08882",
    "_uuid": "a4db1043baa4af64fc6d66cc2dbb3cf654c96ac1"
   },
   "outputs": [],
   "source": [
    "import sys\n",
    "# if run local then sys.platform = darwin, read data from local\n",
    "if sys.platform == 'darwin':\n",
    "    enrollments = csv_read('enrollments.csv')\n",
    "    daily_engagement = csv_read('daily_engagement.csv')\n",
    "    project_submissions = csv_read('project_submissions.csv')\n",
    "# if run from kaggle sys.platform != darwin, read data from cloud \n",
    "else:\n",
    "    enrollments = csv_read('../input/udacity-enrollments/enrollments.csv')\n",
    "    daily_engagement = csv_read('../input/udacity-daily-engagement/daily_engagement.csv')\n",
    "    project_submissions = csv_read('../input/udacity-project-submissions/project_submissions.csv')"
   ]
  },
  {
   "cell_type": "markdown",
   "metadata": {
    "_cell_guid": "04911b27-bfd8-4578-8fd0-aa5b96eb3e44",
    "_uuid": "0d3e98ff8153ccbdc6872cdbaa62a7acd1311f9c"
   },
   "source": [
    "## Data cleaning"
   ]
  },
  {
   "cell_type": "code",
   "execution_count": null,
   "metadata": {
    "_cell_guid": "1f51d417-27e4-453f-84af-9ef4965798bc",
    "_uuid": "f04296433679144887c11e1b2eadb2f239858892",
    "scrolled": true
   },
   "outputs": [],
   "source": [
    "from datetime import datetime as dt\n",
    "\n",
    "# Takes a date as a string, and returns a Python datetime object. \n",
    "# If there is no date given, returns None\n",
    "def parse_date(date):\n",
    "    try: \n",
    "        return dt.strptime(date, '%Y-%m-%d')\n",
    "    except:\n",
    "        return date\n",
    "    \n",
    "# Takes a string which is either an empty string or represents an integer,\n",
    "# and returns an int or None.\n",
    "def parse_maybe_int(i):\n",
    "    try:\n",
    "        return int(i)\n",
    "    except:\n",
    "        return None"
   ]
  },
  {
   "cell_type": "code",
   "execution_count": null,
   "metadata": {
    "_cell_guid": "91a64a1a-9f09-4ad3-bcc8-5c38c5991a8f",
    "_uuid": "c9eb7191d0016082ecb7787c7e5086dab41dbbd6"
   },
   "outputs": [],
   "source": [
    "# Clean up the data types in the enrollments table\n",
    "for enrollment in enrollments:\n",
    "    enrollment['cancel_date'] = parse_date(enrollment['cancel_date'])\n",
    "    enrollment['days_to_cancel'] = parse_maybe_int(enrollment['days_to_cancel'])\n",
    "    enrollment['is_canceled'] = enrollment['is_canceled'] == 'True'\n",
    "    enrollment['is_udacity'] = enrollment['is_udacity'] == 'True'\n",
    "    enrollment['join_date'] = parse_date(enrollment['join_date'])"
   ]
  },
  {
   "cell_type": "code",
   "execution_count": null,
   "metadata": {
    "_cell_guid": "8e8e81f5-add1-4bbe-9b94-91b4061bc88d",
    "_uuid": "19c1819ed36299c266cf25a73af4c7062ec758c9"
   },
   "outputs": [],
   "source": [
    "# Clean up the data types in the engagement table\n",
    "for engagement_record in daily_engagement:\n",
    "    engagement_record['lessons_completed'] = int(float(engagement_record['lessons_completed']))\n",
    "    engagement_record['num_courses_visited'] = int(float(engagement_record['num_courses_visited']))\n",
    "    engagement_record['projects_completed'] = int(float(engagement_record['projects_completed']))\n",
    "    engagement_record['total_minutes_visited'] = float(engagement_record['total_minutes_visited'])\n",
    "    engagement_record['utc_date'] = parse_date(engagement_record['utc_date'])"
   ]
  },
  {
   "cell_type": "code",
   "execution_count": null,
   "metadata": {
    "_cell_guid": "122d7fd1-04e1-4031-9119-b917af493794",
    "_uuid": "95a5f74de4dea577812cbefa0dbbb7cfa390530f"
   },
   "outputs": [],
   "source": [
    "# Clean up the data types in the submissions table\n",
    "for submission in project_submissions:\n",
    "    submission['completion_date'] = parse_date(submission['completion_date'])\n",
    "    submission['creation_date'] = parse_date(submission['creation_date'])"
   ]
  },
  {
   "cell_type": "code",
   "execution_count": null,
   "metadata": {
    "_cell_guid": "29d7dffe-f227-4f7a-a599-ec18d183b9d4",
    "_uuid": "37e5f35707f6a057520245a2aa704d480f52a699"
   },
   "outputs": [],
   "source": [
    "# replace dict key 'acct' with key 'account_key'\n",
    "for x in daily_engagement:\n",
    "    x['account_key'] = x.pop('acct')  # pop items with account key 'acct' then create new one dict with new key"
   ]
  },
  {
   "cell_type": "markdown",
   "metadata": {
    "_cell_guid": "2ea8eb64-8a60-40f8-b029-8ad99cec7338",
    "_uuid": "53f71741f77878192aeb26b6de28dde69ab5cd71"
   },
   "source": [
    "## Investigating\n",
    "\n",
    "Find the account key enrolled but not engaged"
   ]
  },
  {
   "cell_type": "code",
   "execution_count": null,
   "metadata": {
    "_cell_guid": "7a792054-60df-46e2-bec4-7f06ba589bf2",
    "_uuid": "e6379c41b63c13e94b638e8d117d2c331e585708"
   },
   "outputs": [],
   "source": [
    "# find number of row in tables and number unique student in table\n",
    "print('enrollments with :', len(enrollments) , \\\n",
    "      'rows and', len(set(x['account_key'] for x in enrollments)), 'accounts')\n",
    "print('daily_engagement with :', len(daily_engagement) , \\\n",
    "      'rows and', len(set(x['account_key'] for x in daily_engagement)), 'accounts')\n",
    "print('project_submissions with :', len(project_submissions) , \\\n",
    "      'rows and', len(set(x['account_key'] for x in project_submissions)), 'accounts')"
   ]
  },
  {
   "cell_type": "code",
   "execution_count": null,
   "metadata": {
    "_cell_guid": "3ebfda6e-da7e-4fa7-a1a7-e46d24ce81e9",
    "_uuid": "0cc61e90060798cb087a041c5791b64fbd7a1733"
   },
   "outputs": [],
   "source": [
    "# creaete set of unique enrollment account key and engagement account key\n",
    "enroll_acct_unique = set(x['account_key'] for x in enrollments)\n",
    "eng_acct_unique = set(x['account_key'] for x in daily_engagement)"
   ]
  },
  {
   "cell_type": "code",
   "execution_count": null,
   "metadata": {
    "_cell_guid": "80cf3176-be4b-49c3-a576-0f1aee1ba148",
    "_uuid": "319f064ca2a45cbe11bd7298bea78f17740096af"
   },
   "outputs": [],
   "source": [
    "# create set of diff account form subsetting enrollment account key with engagement account key\n",
    "diff_enroll_eng_acct = enroll_acct_unique.difference(eng_acct_unique)\n",
    "enroll_diff_eng = [x for x in enrollments if x['account_key'] in diff_enroll_eng_acct]"
   ]
  },
  {
   "cell_type": "code",
   "execution_count": null,
   "metadata": {
    "_cell_guid": "48680bc7-1af0-4236-bc03-71ed52d852fe",
    "_uuid": "a963c8301efb42ea9e77bfbfe507ca079b9f7a53"
   },
   "outputs": [],
   "source": [
    "# count how duplication in diff account\n",
    "all_diff_acct = [x['account_key'] for x in enroll_diff_eng]\n",
    "for x in diff_enroll_eng_acct:\n",
    "    print(x, \"count\", all_diff_acct.count(x))\n",
    "del(all_diff_acct)"
   ]
  },
  {
   "cell_type": "markdown",
   "metadata": {
    "_cell_guid": "b7353bd4-970f-4067-873b-3bfc298af5a0",
    "_uuid": "83ee25296e5862333b35ce90623c09c6e4d975b1"
   },
   "source": [
    "## Remove udacity test account\n",
    "\n",
    "Excluding udacity test account, 'is_udacity' = 'True'"
   ]
  },
  {
   "cell_type": "code",
   "execution_count": null,
   "metadata": {
    "_cell_guid": "613ce833-2090-4209-8b27-69e8df6022e5",
    "_uuid": "d25566d732034fd7e9a112b1380ecf632ee77706"
   },
   "outputs": [],
   "source": [
    "# use datatype Set property of keeping only one itmes in set to create unique key account data\n",
    "# use List comprehension + condition 'is_udacity' is True, to create set of account_key of udacity test account \n",
    "udacity_test_acct = set(x['account_key'] for x in enrollments if x['is_udacity'])\n",
    "\n",
    "# Create new list of data without Udacity test account\n",
    "# use list comprehension + condition account_key not in set of udacity test account to create new list\n",
    "non_udacity_enrollments = [x for x in enrollments if x['account_key'] not in udacity_test_acct]\n",
    "non_udacity_engagement = [x for x in daily_engagement if x['account_key'] not in udacity_test_acct]\n",
    "non_udacity_submissions = [x for x in project_submissions if x['account_key'] not in udacity_test_acct]"
   ]
  },
  {
   "cell_type": "code",
   "execution_count": null,
   "metadata": {
    "_cell_guid": "f45c72b9-11ec-4822-b228-ac7d07a353b5",
    "_uuid": "25b22e00f583ae029c7c4c16633b64b17107ee46"
   },
   "outputs": [],
   "source": [
    "# check if record correct\n",
    "print(len(non_udacity_enrollments))\n",
    "print(len(non_udacity_engagement))\n",
    "print(len(non_udacity_submissions))"
   ]
  },
  {
   "cell_type": "markdown",
   "metadata": {
    "_cell_guid": "d0591612-88a7-4933-aa59-af626d01849b",
    "_uuid": "c450bdcada417c6c4aec6e87f814c560aee021ce"
   },
   "source": [
    "## Exploration\n",
    "\n",
    "create Dict by account key with list of each account key data\n",
    "Paid student 'days_to_cancel' = None and 'days_to_cancel' > 7 (first 7 day is trial period)"
   ]
  },
  {
   "cell_type": "code",
   "execution_count": null,
   "metadata": {
    "_cell_guid": "a146f017-92a8-44fa-81f0-ee10fa2ed47f",
    "_uuid": "6dc3ead340061d9e229606f480b65774c68f5027"
   },
   "outputs": [],
   "source": [
    "# create dict of paid_student to store data\n",
    "paid_students = dict()\n",
    "\n",
    "# list comprehension to Dict with key by each parameter\n",
    "for enrollment in non_udacity_enrollments:\n",
    "    \n",
    "    # select list dict key days_to_cancel that is None or days to cancel more than 7 days\n",
    "    if enrollment['days_to_cancel'] is None or enrollment['days_to_cancel'] > 7:\n",
    "        account_key = enrollment['account_key']\n",
    "        enrollment_date = enrollment['join_date']\n",
    "            \n",
    "        # check if account_key not in paid_students then add account key and enrollment date\n",
    "        # or if account_key existed in paid_students and enrollment date more than in old value, then update enrollment_date\n",
    "        if account_key not in paid_students or enrollment_date > paid_students[account_key]:\n",
    "            paid_students[account_key] = enrollment_date"
   ]
  },
  {
   "cell_type": "code",
   "execution_count": null,
   "metadata": {
    "_cell_guid": "7acefd02-db4c-461e-bdb8-00028aa8a69b",
    "_uuid": "b9d4fae8b8d4436d42ad3c43b3b0742f7f86ac45"
   },
   "outputs": [],
   "source": [
    "# create function to remove free trail cancels\n",
    "def remove_free_trial_cancels(data):\n",
    "    \n",
    "    # create output data as list\n",
    "    output_data = list()\n",
    "    \n",
    "    # List comprehension to each record of data\n",
    "    for row in data:\n",
    "        \n",
    "        # if row with account_key that in paid students, append row to output list\n",
    "        if row['account_key'] in paid_students:\n",
    "            output_data.append(row)\n",
    "            \n",
    "    return output_data"
   ]
  },
  {
   "cell_type": "code",
   "execution_count": null,
   "metadata": {
    "_cell_guid": "0396e881-5195-493f-9a08-563b7a941ff0",
    "_uuid": "0db8a9416f31991d8db83ac9525d8b8757dc0ffb"
   },
   "outputs": [],
   "source": [
    "# use created function to extract only paid students of each table\n",
    "paid_enrollments = remove_free_trial_cancels(non_udacity_enrollments)\n",
    "paid_engagement = remove_free_trial_cancels(non_udacity_engagement)\n",
    "paid_submissions = remove_free_trial_cancels(non_udacity_submissions)\n",
    "\n",
    "print(len(paid_enrollments))\n",
    "print(len(paid_engagement))\n",
    "print(len(paid_submissions))"
   ]
  },
  {
   "cell_type": "code",
   "execution_count": null,
   "metadata": {
    "_cell_guid": "63e6dfac-aff7-4f34-862c-bdf77024ff39",
    "_uuid": "07dfd4fbd91c522ce0503e0e42f8b575b01f8d17"
   },
   "outputs": [],
   "source": [
    "# Add 'has_visited' in paid_engagement if num_course_visited > 0\n",
    "for engagement in paid_engagement:\n",
    "    engagement['has_visited'] = 1 if engagement['num_courses_visited'] > 0 else 0"
   ]
  },
  {
   "cell_type": "code",
   "execution_count": null,
   "metadata": {
    "_cell_guid": "259ecaed-bc80-474b-a81b-9d419c3b6b96",
    "_uuid": "510895b23db3c51979153a8cf28fe724e44b209d"
   },
   "outputs": [],
   "source": [
    "# Filter out only first week of engagement after join date\n",
    "# use function engagement - join < 7, within one week\n",
    "# and engagement - join > 0, some account re-join after some course completion\n",
    "def within_one_week(join_date, engagement_date):\n",
    "    time_delta = engagement_date - join_date\n",
    "    return time_delta.days < 7 and time_delta.days >= 0"
   ]
  },
  {
   "cell_type": "code",
   "execution_count": null,
   "metadata": {
    "_cell_guid": "59aac62c-b623-4be1-ab9f-e435962ee1d2",
    "_uuid": "d6bc7bdacb8bad244aa0c295db2b849b6eeafa1e"
   },
   "outputs": [],
   "source": [
    "# create list of paid_engagement_in_first_week\n",
    "paid_engagement_in_first_week = []\n",
    "\n",
    "# append data in non_udacity_engagement if criteria ma\n",
    "for engagement in paid_engagement:\n",
    "    account_key = engagement['account_key']\n",
    "    # find join date from paid student dict item\n",
    "    join_date = paid_students[account_key]\n",
    "    engagement_date = engagement['utc_date']\n",
    "    \n",
    "    if within_one_week(join_date, engagement_date):\n",
    "        paid_engagement_in_first_week.append(engagement)\n",
    "\n",
    "# check record\n",
    "len(paid_engagement_in_first_week)"
   ]
  },
  {
   "cell_type": "markdown",
   "metadata": {
    "_cell_guid": "9ea5e216-cb6e-409d-a661-2154d3ca6ed4",
    "_uuid": "03609350c9fae7bf26e92d9600740c0e1227498e"
   },
   "source": [
    "### Exploring student engagement\n",
    "\n",
    "Calculate total minute and average minute of engagemnet. "
   ]
  },
  {
   "cell_type": "code",
   "execution_count": null,
   "metadata": {
    "_cell_guid": "d20e3b66-d9c8-490d-bd56-319802e360a0",
    "_uuid": "132269ac72e3283edbcb4d5df560a4b3a5bb07f2"
   },
   "outputs": [],
   "source": [
    "# use defaultdict for handle missing value\n",
    "from collections import defaultdict\n",
    "\n",
    "def group_data(data, key_name):\n",
    "    \n",
    "    group_data = defaultdict(list)\n",
    "\n",
    "    # group engagement in first week by dict of 'account_key' with list of engagement records\n",
    "    for x in data:\n",
    "        key = x[key_name]\n",
    "        group_data[key].append(x)\n",
    "    return group_data\n",
    "\n",
    "engagement_by_account = group_data(paid_engagement_in_first_week, 'account_key')"
   ]
  },
  {
   "cell_type": "code",
   "execution_count": null,
   "metadata": {
    "_cell_guid": "c4d2a870-4347-4a5f-b19c-a1f6d4963458",
    "_uuid": "8fe1dae1fcada0701188b1c889e9b2d44e04e0bb"
   },
   "outputs": [],
   "source": [
    "def sum_grouped_items(grouped_data, field_name):\n",
    "\n",
    "    # create dict of account key and sum of total minutes visited\n",
    "    total_items_by_account = {}\n",
    "\n",
    "    # dict comprehension in form of key, value \n",
    "    for key, records in grouped_data.items():\n",
    "        total_items = 0\n",
    "        # since value is list then do list comprehension, create list of total minutes visited, then summ\n",
    "        # total_minutes = sum([x['total_minutes_visited'] for x in engagement_for_students])\n",
    "        for record in records:\n",
    "            total_items += record[field_name]\n",
    "        total_items_by_account[key] = total_items\n",
    "    return total_items_by_account\n",
    "\n",
    "total_minutes_by_account = sum_grouped_items(engagement_by_account, 'total_minutes_visited')"
   ]
  },
  {
   "cell_type": "code",
   "execution_count": null,
   "metadata": {
    "_cell_guid": "ed13363e-6163-4fc3-9483-76dab9f245e0",
    "_uuid": "d4bdc141048a0d081854b5729b8a8ec46697cded"
   },
   "outputs": [],
   "source": [
    "# test code dict value comprehension to list and sum\n",
    "sum([v for k,v in total_minutes_by_account.items()])/len(total_minutes_by_account)"
   ]
  },
  {
   "cell_type": "code",
   "execution_count": null,
   "metadata": {
    "_cell_guid": "afd8f6c0-a5fd-4359-91e8-386a71a68b18",
    "_uuid": "820a47e7312e4786e6826d47cc902f5b5e60ae7d"
   },
   "outputs": [],
   "source": [
    "import numpy as np\n",
    "\n",
    "def describe_data(data):\n",
    "    print('Mean :', np.mean(data))\n",
    "    print('Std Dev :', np.std(data))\n",
    "    print('Min :', np.min(data))\n",
    "    print('Max :', np.max(data))\n",
    "\n",
    "# numpy input as list , convert dict.values to list\n",
    "total_minutes = list(total_minutes_by_account.values())\n",
    "describe_data(total_minutes)"
   ]
  },
  {
   "cell_type": "markdown",
   "metadata": {
    "_cell_guid": "d673c632-af8c-43e3-a316-d98e8fff99a1",
    "_uuid": "12f32b6de11f4cbf168ecd7a10c8cf3a1d4e1c12"
   },
   "source": [
    "### Finding error in total minutes\n",
    "\n",
    "The total minute in one week exceed minute in one week"
   ]
  },
  {
   "cell_type": "code",
   "execution_count": null,
   "metadata": {
    "_cell_guid": "3deaaa15-1583-4680-8fa2-bb91d960bfc5",
    "_uuid": "5c7c2a45a052787fd8818e1d34dbcef62a912807"
   },
   "outputs": [],
   "source": [
    "# find which account key having total minute exceeding minutes in a week (7*24*60)\n",
    "[k for k,v in total_minutes_by_account.items() if v > 10000]"
   ]
  },
  {
   "cell_type": "code",
   "execution_count": null,
   "metadata": {
    "_cell_guid": "f6cdcb4a-89db-4898-8217-9894485c5814",
    "_uuid": "da2138f00d6cfece695a1acd678366388bb7b961"
   },
   "outputs": [],
   "source": [
    "# List out the enrollment date of target students in 'paid_students'\n",
    "paid_students['108']"
   ]
  },
  {
   "cell_type": "code",
   "execution_count": null,
   "metadata": {
    "_cell_guid": "362f5655-45f4-4348-8860-5c7a4b64854a",
    "_uuid": "9f7850e244c3beffafcfa5d26c9c154c43c41d74"
   },
   "outputs": [],
   "source": [
    "# List out all the enrollment records of target students in 'non_udacity_enrollments' \n",
    "[x for x in non_udacity_enrollments if x['account_key'] == '108']"
   ]
  },
  {
   "cell_type": "markdown",
   "metadata": {
    "_cell_guid": "5fedb57b-f0fc-4170-b752-44f391e66a43",
    "_uuid": "63dd27fd25a7e57ea478be5929c519c8154bc604"
   },
   "source": [
    "Most of target students are re-enrollments paid students."
   ]
  },
  {
   "cell_type": "code",
   "execution_count": null,
   "metadata": {
    "_cell_guid": "20e4022c-28ff-4d85-b2ab-5793721f49dd",
    "_uuid": "5d2404b904e90fda204508d62876a9dcdd7c1a95"
   },
   "outputs": [],
   "source": [
    "# List out the paid minutes of target students in 'paid_engagement_in_first_week'\n",
    "[x for x in paid_engagement_in_first_week if x['account_key'] == '108']"
   ]
  },
  {
   "cell_type": "markdown",
   "metadata": {
    "_cell_guid": "d04e3901-be29-4b1c-a554-d438887afd77",
    "_uuid": "a68276cf6b1a53424893cb3ba08e4d704c4619a9"
   },
   "source": [
    "The 'paid_engagement_in_first_week' took the engagement records from prior enrollments in calculation."
   ]
  },
  {
   "cell_type": "markdown",
   "metadata": {
    "_cell_guid": "4c6b94c6-91cf-4397-b8c9-77257d185510",
    "_uuid": "f386237227524852bf601199c81ff67148e02128"
   },
   "source": [
    "### Exploring number of lessons completed "
   ]
  },
  {
   "cell_type": "code",
   "execution_count": null,
   "metadata": {
    "_cell_guid": "7e7b9dd1-3dad-418b-913e-186d248021f3",
    "_uuid": "f3d5e2e9cf2536f510aec578d06e4393627a0820"
   },
   "outputs": [],
   "source": [
    "# dict whith \n",
    "total_lesson_completed_by_account = {}\n",
    "\n",
    "# dict comprehension to find the total lesson completed by acccount\n",
    "for account_key, engagement_records in engagement_by_account.items():\n",
    "    total_lesson_completed = 0\n",
    "    for x in engagement_records:\n",
    "        total_lesson_completed += x['lessons_completed']\n",
    "    total_lesson_completed_by_account[account_key] = total_lesson_completed"
   ]
  },
  {
   "cell_type": "code",
   "execution_count": null,
   "metadata": {
    "_cell_guid": "3bffe1e6-fb2d-47eb-bbe2-a6425cab9fcf",
    "_uuid": "069dfa292864f7c79176f66dde55683dbe8bfe6c"
   },
   "outputs": [],
   "source": [
    "len(total_lesson_completed_by_account)"
   ]
  },
  {
   "cell_type": "code",
   "execution_count": null,
   "metadata": {
    "_cell_guid": "bb41fc52-66cd-4c69-8265-cb71d21a3ca4",
    "_uuid": "6c2603dd49984ceca1c0ada9dd1bbcd9c7bb7a81"
   },
   "outputs": [],
   "source": [
    "# convert dict to list of values for numpy calculation\n",
    "total_lesson = list(total_lesson_completed_by_account.values())\n",
    "\n",
    "import numpy as np\n",
    "print('Mean :', np.mean(total_lesson))\n",
    "print('Std Dev :', np.std(total_lesson))\n",
    "print('Min :', np.min(total_lesson))\n",
    "print('Max :', np.max(total_lesson))"
   ]
  },
  {
   "cell_type": "markdown",
   "metadata": {
    "_cell_guid": "f3bc105a-0471-41e3-af0d-d547da129ec6",
    "_uuid": "2a9d7fdb8ca86bbccf56ef63258e93bb72f5366b"
   },
   "source": [
    "### Exploring number of day with course visited"
   ]
  },
  {
   "cell_type": "code",
   "execution_count": null,
   "metadata": {
    "_cell_guid": "f0c13794-d1c9-4ccf-b47a-3dd94f99e7b2",
    "_uuid": "c8205c63388a3f61f53041eeae335da33630a7b7"
   },
   "outputs": [],
   "source": [
    "def describe_grouped_items(data, key, field):\n",
    "    \n",
    "    # summarized\n",
    "    dict_key_group_items = {}\n",
    "\n",
    "    for key, items in data.items():\n",
    "        sum_field = 0\n",
    "        \n",
    "        for item in items:\n",
    "            sum_field += item[field]\n",
    "        dict_key_group_items[key] = sum_field\n",
    "\n",
    "    # print data\n",
    "\n",
    "    grouped_data = list(dict_key_group_items.values())\n",
    "\n",
    "    import numpy as np\n",
    "    \n",
    "    print('Mean :', np.mean(grouped_data))\n",
    "    print('Std Dev :', np.std(grouped_data))\n",
    "    print('Min :', np.min(grouped_data))\n",
    "    print('Max :', np.max(grouped_data))"
   ]
  },
  {
   "cell_type": "code",
   "execution_count": 116,
   "metadata": {},
   "outputs": [],
   "source": [
    "# Function to create list of summarized data by key\n",
    "# Output as list of summarized data of each key\n",
    "def summary_grouped_items(data, key, field):\n",
    "    \n",
    "    # summarized\n",
    "    dict_key_group_items = {}\n",
    "\n",
    "    for key, items in data.items():\n",
    "        sum_field = 0\n",
    "        \n",
    "        for item in items:\n",
    "            sum_field += item[field]\n",
    "        dict_key_group_items[key] = sum_field\n",
    "        \n",
    "    return(list(dict_key_group_items.values()))"
   ]
  },
  {
   "cell_type": "code",
   "execution_count": null,
   "metadata": {
    "_cell_guid": "c3c2b3fd-b652-46a5-8870-2cc23d33a61d",
    "_uuid": "c4a6b2f399a4df85b4c7249eba88b6747fe9e2fc"
   },
   "outputs": [],
   "source": [
    "describe_grouped_items(engagement_by_account, 'account_key', 'has_visited')"
   ]
  },
  {
   "cell_type": "code",
   "execution_count": null,
   "metadata": {
    "_cell_guid": "14d7b740-6dcd-4812-9e86-42db8f818f95",
    "_uuid": "a462a2d71d3a3be9c92171cb991dd50d21448dcc"
   },
   "outputs": [],
   "source": [
    "######################################\n",
    "#                 11                 #\n",
    "######################################\n",
    "## Create two lists of engagement data for paid students in the first week\n",
    "## The first list should contain data for students who eventually pass the\n",
    "## subway project, and the second list should contain data for students\n",
    "## who do not.\n",
    "subway_project_lesson_keys = ['746169184', '3176718735']"
   ]
  },
  {
   "cell_type": "code",
   "execution_count": null,
   "metadata": {
    "_cell_guid": "6e5e5942-37dd-49ba-bf7d-fc1d418d9221",
    "_uuid": "6214a369fd53732b513e9199b0c83db766fa1006"
   },
   "outputs": [],
   "source": [
    "# Check if the submission status is passed or not \n",
    "\n",
    "all_status = defaultdict(int)\n",
    "\n",
    "for row in paid_submissions:\n",
    "    status = row['assigned_rating']\n",
    "    all_status[status] += 1\n",
    "    \n",
    "all_status"
   ]
  },
  {
   "cell_type": "code",
   "execution_count": null,
   "metadata": {
    "_cell_guid": "6e5e5942-37dd-49ba-bf7d-fc1d418d9221",
    "_uuid": "6214a369fd53732b513e9199b0c83db766fa1006"
   },
   "outputs": [],
   "source": [
    "# Check all the possible project code\n",
    "\n",
    "all_project = defaultdict(int)\n",
    "\n",
    "for row in paid_submissions:\n",
    "    key = row['lesson_key']\n",
    "    all_project[key] += 1\n",
    "    \n",
    "all_project"
   ]
  },
  {
   "cell_type": "code",
   "execution_count": null,
   "metadata": {
    "_cell_guid": "14d7b740-6dcd-4812-9e86-42db8f818f95",
    "_uuid": "a462a2d71d3a3be9c92171cb991dd50d21448dcc"
   },
   "outputs": [],
   "source": [
    "\"\"\"\n",
    "Udacity ambiguous questions, not passed students include other projects not only not passed the 'subway' project\n",
    "\n",
    "# create list of submission in subway project \n",
    "submission_subway_account = set([row['account_key'] \\\n",
    "                                 for row in paid_submissions \\\n",
    "                                 if row['lesson_key'] in subway_project_lesson_keys])\n",
    "\n",
    "submission_subway_not_pass_account = submission_subway_account.difference(submission_subway_pass_account)\n",
    "\n",
    "non_passing_engagement = [row for row in paid_engagement_in_first_week if row['account_key'] in submission_subway_not_pass_account]\n",
    "\"\"\"\n",
    "# create list if account that in project 'subway' and rating is pass or distinction\n",
    "submission_subway_pass_account = set([row['account_key'] \\\n",
    "                                      for row in paid_submissions \\\n",
    "                                      if row['lesson_key'] in subway_project_lesson_keys \\\n",
    "                                      and row['assigned_rating'] in {'PASSED','DISTINCTION'}])\n",
    "\n",
    "passing_engagement = [row \\\n",
    "                      for row in paid_engagement_in_first_week \\\n",
    "                      if row['account_key'] in submission_subway_pass_account]\n",
    "\n",
    "non_passing_engagement = [row \\\n",
    "                          for row in paid_engagement_in_first_week \\\n",
    "                          if row['account_key'] not in submission_subway_pass_account]"
   ]
  },
  {
   "cell_type": "code",
   "execution_count": null,
   "metadata": {
    "_cell_guid": "628a8814-28f1-4224-945f-9806a26a0cca",
    "_uuid": "827263421f1eaa8f76adcd0d5870bc510f30e0e2"
   },
   "outputs": [],
   "source": [
    "print('Count of unique accounts that pass the Subway project :', len(submission_subway_pass_account))\n",
    "print('Count of all engagement records in first week :', len(paid_engagement_in_first_week))\n",
    "print('Count of engagement records in first week, passed Subway project :', len(passing_engagement))\n",
    "print('Count of engagement records in first week, not in above  :', len(non_passing_engagement))"
   ]
  },
  {
   "cell_type": "markdown",
   "metadata": {},
   "source": [
    "### Differenc between passing and nonpass students\n",
    "\n",
    "Exploring parameter :-\n",
    "- Minutes spend\n",
    "- Lessens completed\n",
    "- Days visited"
   ]
  },
  {
   "cell_type": "code",
   "execution_count": 124,
   "metadata": {},
   "outputs": [],
   "source": [
    "# Create dict of account key with list from passing as passing_engagement_by_account\n",
    "# and dict of not pass as not_pass_engagement_by_account\n",
    "pass_engagement_by_account = group_data(passing_engagement, 'account_key')\n",
    "non_pass_engagement_by_account = group_data(non_passing_engagement, 'account_key')"
   ]
  },
  {
   "cell_type": "code",
   "execution_count": 125,
   "metadata": {},
   "outputs": [
    {
     "name": "stdout",
     "output_type": "stream",
     "text": [
      "647\n",
      "348\n"
     ]
    }
   ],
   "source": [
    "print(len(pass_engagement_by_account))\n",
    "print(len(non_pass_engagement_by_account))"
   ]
  },
  {
   "cell_type": "markdown",
   "metadata": {},
   "source": [
    "- minutes spend"
   ]
  },
  {
   "cell_type": "code",
   "execution_count": 108,
   "metadata": {},
   "outputs": [
    {
     "name": "stdout",
     "output_type": "stream",
     "text": [
      "Mean : 394.58604648350865\n",
      "Std Dev : 448.4995193265521\n",
      "Min : 0.0\n",
      "Max : 3564.7332644989997\n",
      "\n",
      "Mean : 143.32647426675584\n",
      "Std Dev : 269.5386190114951\n",
      "Min : 0.0\n",
      "Max : 1768.5227493319999\n"
     ]
    }
   ],
   "source": [
    "describe_grouped_items(pass_engagement_by_account, 'account_key', 'total_minutes_visited')\n",
    "print('')\n",
    "describe_grouped_items(non_pass_engagement_by_account, 'account_key', 'total_minutes_visited')"
   ]
  },
  {
   "cell_type": "markdown",
   "metadata": {},
   "source": [
    "- lessons completed"
   ]
  },
  {
   "cell_type": "code",
   "execution_count": 126,
   "metadata": {},
   "outputs": [
    {
     "name": "stdout",
     "output_type": "stream",
     "text": [
      "Mean : 2.052550231839258\n",
      "Std Dev : 3.1422270555779344\n",
      "Min : 0\n",
      "Max : 36\n",
      "\n",
      "Mean : 0.8620689655172413\n",
      "Std Dev : 2.5491599418312028\n",
      "Min : 0\n",
      "Max : 27\n"
     ]
    }
   ],
   "source": [
    "describe_grouped_items(pass_engagement_by_account, 'account_key', 'lessons_completed')\n",
    "print('')\n",
    "describe_grouped_items(non_pass_engagement_by_account, 'account_key', 'lessons_completed')"
   ]
  },
  {
   "cell_type": "markdown",
   "metadata": {},
   "source": [
    "- days visited"
   ]
  },
  {
   "cell_type": "code",
   "execution_count": 127,
   "metadata": {},
   "outputs": [
    {
     "name": "stdout",
     "output_type": "stream",
     "text": [
      "Mean : 3.384853168469861\n",
      "Std Dev : 2.2588214709184595\n",
      "Min : 0\n",
      "Max : 7\n",
      "\n",
      "Mean : 1.9051724137931034\n",
      "Std Dev : 1.9057314413619046\n",
      "Min : 0\n",
      "Max : 7\n"
     ]
    }
   ],
   "source": [
    "describe_grouped_items(pass_engagement_by_account, 'account_key', 'has_visited')\n",
    "print('')\n",
    "describe_grouped_items(non_pass_engagement_by_account, 'account_key', 'has_visited')"
   ]
  },
  {
   "cell_type": "markdown",
   "metadata": {},
   "source": [
    "- projects completed"
   ]
  },
  {
   "cell_type": "code",
   "execution_count": 128,
   "metadata": {},
   "outputs": [
    {
     "name": "stdout",
     "output_type": "stream",
     "text": [
      "Mean : 0.00927357032457496\n",
      "Std Dev : 0.1108095723581757\n",
      "Min : 0\n",
      "Max : 2\n",
      "\n",
      "Mean : 0.0\n",
      "Std Dev : 0.0\n",
      "Min : 0\n",
      "Max : 0\n"
     ]
    }
   ],
   "source": [
    "describe_grouped_items(pass_engagement_by_account, 'account_key', 'projects_completed')\n",
    "print('')\n",
    "describe_grouped_items(non_pass_engagement_by_account, 'account_key', 'projects_completed')"
   ]
  },
  {
   "cell_type": "markdown",
   "metadata": {},
   "source": [
    "## Visualization"
   ]
  },
  {
   "cell_type": "code",
   "execution_count": 129,
   "metadata": {},
   "outputs": [
    {
     "data": {
      "text/plain": [
       "(array([272.,  34.,  17.,   9.,   6.,   2.,   1.,   5.,   0.,   2.]),\n",
       " array([   0.        ,  176.85227493,  353.70454987,  530.5568248 ,\n",
       "         707.40909973,  884.26137467, 1061.1136496 , 1237.96592453,\n",
       "        1414.81819947, 1591.6704744 , 1768.52274933]),\n",
       " <a list of 10 Patch objects>)"
      ]
     },
     "execution_count": 129,
     "metadata": {},
     "output_type": "execute_result"
    },
    {
     "data": {
      "image/png": "[encoded data removed]",
      "text/plain": [
       "<Figure size 432x288 with 1 Axes>"
      ]
     },
     "metadata": {},
     "output_type": "display_data"
    }
   ],
   "source": [
    "import matplotlib.pyplot as plt\n",
    "%matplotlib inline\n",
    "\n",
    "plt.hist(summary_grouped_items(pass_engagement_by_account, 'account_key', 'total_minutes_visited'))\n",
    "plt.hist(summary_grouped_items(non_pass_engagement_by_account, 'account_key', 'total_minutes_visited'))"
   ]
  },
  {
   "cell_type": "code",
   "execution_count": 130,
   "metadata": {},
   "outputs": [
    {
     "data": {
      "text/plain": [
       "(array([317.,  17.,   6.,   4.,   1.,   1.,   0.,   1.,   0.,   1.]),\n",
       " array([ 0. ,  2.7,  5.4,  8.1, 10.8, 13.5, 16.2, 18.9, 21.6, 24.3, 27. ]),\n",
       " <a list of 10 Patch objects>)"
      ]
     },
     "execution_count": 130,
     "metadata": {},
     "output_type": "execute_result"
    },
    {
     "data": {
      "image/png": "[encoded data removed]",
      "text/plain": [
       "<Figure size 432x288 with 1 Axes>"
      ]
     },
     "metadata": {},
     "output_type": "display_data"
    }
   ],
   "source": [
    "plt.hist(summary_grouped_items(pass_engagement_by_account, 'account_key', 'lessons_completed'))\n",
    "plt.hist(summary_grouped_items(non_pass_engagement_by_account, 'account_key', 'lessons_completed'))"
   ]
  },
  {
   "cell_type": "code",
   "execution_count": 131,
   "metadata": {},
   "outputs": [
    {
     "data": {
      "text/plain": [
       "(array([97., 90., 56.,  0., 41., 15.,  0., 24., 17.,  8.]),\n",
       " array([0. , 0.7, 1.4, 2.1, 2.8, 3.5, 4.2, 4.9, 5.6, 6.3, 7. ]),\n",
       " <a list of 10 Patch objects>)"
      ]
     },
     "execution_count": 131,
     "metadata": {},
     "output_type": "execute_result"
    },
    {
     "data": {
      "image/png": "[encoded data removed]",
      "text/plain": [
       "<Figure size 432x288 with 1 Axes>"
      ]
     },
     "metadata": {},
     "output_type": "display_data"
    }
   ],
   "source": [
    "plt.hist(summary_grouped_items(pass_engagement_by_account, 'account_key', 'has_visited'))\n",
    "plt.hist(summary_grouped_items(non_pass_engagement_by_account, 'account_key', 'has_visited'))"
   ]
  },
  {
   "cell_type": "code",
   "execution_count": 132,
   "metadata": {
    "_cell_guid": "f0c13794-d1c9-4ccf-b47a-3dd94f99e7b2",
    "_uuid": "c8205c63388a3f61f53041eeae335da33630a7b7"
   },
   "outputs": [],
   "source": [
    "# update describe with ploting at the end\n",
    "import matplotlib.pyplot as plt\n",
    "%matplotlib inline\n",
    "\n",
    "import numpy as np\n",
    "\n",
    "def describe_grouped_items(data, key, field):\n",
    "    \n",
    "    # summarized\n",
    "    dict_key_group_items = {}\n",
    "\n",
    "    for key, items in data.items():\n",
    "        sum_field = 0\n",
    "        \n",
    "        for item in items:\n",
    "            sum_field += item[field]\n",
    "        dict_key_group_items[key] = sum_field\n",
    "\n",
    "    # print data\n",
    "\n",
    "    grouped_data = list(dict_key_group_items.values())\n",
    "\n",
    "    print('Mean :', np.mean(grouped_data))\n",
    "    print('Std Dev :', np.std(grouped_data))\n",
    "    print('Min :', np.min(grouped_data))\n",
    "    print('Max :', np.max(grouped_data))\n",
    "    \n",
    "    plt.hist(grouped_data)"
   ]
  },
  {
   "cell_type": "code",
   "execution_count": 133,
   "metadata": {},
   "outputs": [
    {
     "name": "stdout",
     "output_type": "stream",
     "text": [
      "Mean : 394.58604648350865\n",
      "Std Dev : 448.4995193265521\n",
      "Min : 0.0\n",
      "Max : 3564.7332644989997\n"
     ]
    },
    {
     "data": {
      "image/png": "[encoded data removed]",
      "text/plain": [
       "<Figure size 432x288 with 1 Axes>"
      ]
     },
     "metadata": {},
     "output_type": "display_data"
    }
   ],
   "source": [
    "describe_grouped_items(pass_engagement_by_account, 'account_key', 'total_minutes_visited')"
   ]
  },
  {
   "cell_type": "markdown",
   "metadata": {},
   "source": [
    "### Beautify matplotlit with seaborn"
   ]
  },
  {
   "cell_type": "code",
   "execution_count": 140,
   "metadata": {},
   "outputs": [],
   "source": [
    "import seaborn as sns"
   ]
  },
  {
   "cell_type": "code",
   "execution_count": 144,
   "metadata": {},
   "outputs": [
    {
     "data": {
      "text/plain": [
       "(array([97., 90., 56., 41., 15., 24., 17.,  8.]),\n",
       " array([0.   , 0.875, 1.75 , 2.625, 3.5  , 4.375, 5.25 , 6.125, 7.   ]),\n",
       " <a list of 8 Patch objects>)"
      ]
     },
     "execution_count": 144,
     "metadata": {},
     "output_type": "execute_result"
    },
    {
     "data": {
      "image/png": "[encoded data removed]",
      "text/plain": [
       "<Figure size 432x288 with 1 Axes>"
      ]
     },
     "metadata": {},
     "output_type": "display_data"
    }
   ],
   "source": [
    "plt.hist(summary_grouped_items(pass_engagement_by_account, 'account_key', 'has_visited'), bins=8)\n",
    "plt.hist(summary_grouped_items(non_pass_engagement_by_account, 'account_key', 'has_visited'), bins=8)"
   ]
  }
 ],
 "metadata": {
  "kernelspec": {
   "display_name": "Python 3",
   "language": "python",
   "name": "python3"
  },
  "language_info": {
   "codemirror_mode": {
    "name": "ipython",
    "version": 3
   },
   "file_extension": ".py",
   "mimetype": "text/x-python",
   "name": "python",
   "nbconvert_exporter": "python",
   "pygments_lexer": "ipython3",
   "version": "3.6.5"
  }
 },
 "nbformat": 4,
 "nbformat_minor": 1
}

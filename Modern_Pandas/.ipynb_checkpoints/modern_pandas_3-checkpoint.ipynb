{
 "cells": [
  {
   "cell_type": "code",
   "execution_count": 2,
   "metadata": {},
   "outputs": [],
   "source": [
    "import json\n",
    "import glob\n",
    "import datetime\n",
    "from io import StringIO\n",
    "\n",
    "import requests\n",
    "import numpy as np\n",
    "import pandas as pd\n",
    "import seaborn as sns\n",
    "import matplotlib.pyplot as plt\n",
    "\n",
    "sns.set_style('ticks')"
   ]
  },
  {
   "cell_type": "code",
   "execution_count": 2,
   "metadata": {},
   "outputs": [],
   "source": [
    "# States are broken into networks. The networks have a list of ids, each representing a station.\n",
    "# We will take that list of ids and pass them as query parameters to the URL we built up ealier.\n",
    "states = \"\"\"AK AL AR AZ CA CO CT DE FL GA HI IA ID IL IN KS KY LA MA MD ME\n",
    " MI MN MO MS MT NC ND NE NH NJ NM NV NY OH OK OR PA RI SC SD TN TX UT VA VT\n",
    " WA WI WV WY\"\"\".split()"
   ]
  },
  {
   "cell_type": "code",
   "execution_count": 3,
   "metadata": {},
   "outputs": [],
   "source": [
    "# IEM has Iowa AWOS sites in its own labeled network\n",
    "networks = ['AWOS'] + ['{}_ASOS'.format(state) for state in states]"
   ]
  },
  {
   "cell_type": "code",
   "execution_count": 35,
   "metadata": {},
   "outputs": [],
   "source": [
    "def get_weather(stations, start=pd.Timestamp('2014-01-01'),\n",
    "                end=pd.Timestamp('2014-01-31')):\n",
    "    '''\n",
    "    Fetch weather data from MESONet between ``start`` and ``stop``.\n",
    "    '''\n",
    "    url = (\"http://mesonet.agron.iastate.edu/cgi-bin/request/asos.py?\"\n",
    "           \"&data=tmpf&data=relh&data=sped&data=mslp&data=p01i&data=vsby&data=gust_mph&data=skyc1&data=skyc2&data=skyc3\"\n",
    "           \"&tz=Etc/UTC&format=comma&latlon=no\"\n",
    "           \"&{start:year1=%Y&month1=%m&day1=%d}\"\n",
    "           \"&{end:year2=%Y&month2=%m&day2=%d}&{stations}\")\n",
    "    stations = \"&\".join(\"station=%s\" % s for s in stations)\n",
    "    weather = (pd.read_csv(url.format(start=start, end=end, stations=stations),\n",
    "                           comment=\"#\")\n",
    "                 .rename(columns={\"valid\": \"date\"})\n",
    "                 .rename(columns=str.strip)\n",
    "                 .assign(date=lambda df: pd.to_datetime(df['date']))\n",
    "                 .set_index([\"station\", \"date\"])\n",
    "                 .sort_index())\n",
    "    float_cols = ['tmpf', 'relh', 'sped', 'mslp', 'p01i', 'vsby', \"gust_mph\"]\n",
    "    weather[float_cols] = weather[float_cols].apply(pd.to_numeric, errors=\"coerce\")\n",
    "    return weather"
   ]
  },
  {
   "cell_type": "code",
   "execution_count": 31,
   "metadata": {},
   "outputs": [],
   "source": [
    "def get_ids(network):\n",
    "    url = \"http://mesonet.agron.iastate.edu/geojson/network.php?network={}\"\n",
    "    r = requests.get(url.format(network))\n",
    "    md = pd.json_normalize(r.json()['features'])\n",
    "    md['network'] = network\n",
    "    return md"
   ]
  },
  {
   "cell_type": "code",
   "execution_count": 9,
   "metadata": {},
   "outputs": [],
   "source": [
    "url = \"http://mesonet.agron.iastate.edu/geojson/network.php?network={}\"\n",
    "r = requests.get(url.format(\"AWOS\"))\n",
    "js = r.json()"
   ]
  },
  {
   "cell_type": "code",
   "execution_count": 22,
   "metadata": {
    "collapsed": true,
    "jupyter": {
     "outputs_hidden": true
    }
   },
   "outputs": [
    {
     "data": {
      "text/plain": [
       "[{'type': 'Feature',\n",
       "  'id': 'AXA',\n",
       "  'properties': {'elevation': 368.8,\n",
       "   'sname': 'ALGONA',\n",
       "   'state': 'IA',\n",
       "   'country': 'US',\n",
       "   'climate_site': 'IA0133',\n",
       "   'wfo': 'DMX',\n",
       "   'tzname': 'America/Chicago',\n",
       "   'ncdc81': 'USC00130133',\n",
       "   'ugc_county': 'IAC109',\n",
       "   'ugc_zone': 'IAZ005',\n",
       "   'county': 'Kossuth',\n",
       "   'sid': 'AXA'},\n",
       "  'geometry': {'type': 'Point', 'coordinates': [-94.2724, 43.0796]}},\n",
       " {'type': 'Feature',\n",
       "  'id': 'IKV',\n",
       "  'properties': {'elevation': 270.7,\n",
       "   'sname': 'ANKENY',\n",
       "   'state': 'IA',\n",
       "   'country': 'US',\n",
       "   'climate_site': 'IA0241',\n",
       "   'wfo': 'DMX',\n",
       "   'tzname': 'America/Chicago',\n",
       "   'ncdc81': 'USC00130241',\n",
       "   'ugc_county': 'IAC153',\n",
       "   'ugc_zone': 'IAZ060',\n",
       "   'county': 'Polk',\n",
       "   'sid': 'IKV'},\n",
       "  'geometry': {'type': 'Point', 'coordinates': [-93.5695, 41.6878]}}]"
      ]
     },
     "execution_count": 22,
     "metadata": {},
     "output_type": "execute_result"
    }
   ],
   "source": [
    "js['features'][:2]"
   ]
  },
  {
   "cell_type": "code",
   "execution_count": 25,
   "metadata": {},
   "outputs": [
    {
     "data": {
      "text/html": [
       "<div>\n",
       "<style scoped>\n",
       "    .dataframe tbody tr th:only-of-type {\n",
       "        vertical-align: middle;\n",
       "    }\n",
       "\n",
       "    .dataframe tbody tr th {\n",
       "        vertical-align: top;\n",
       "    }\n",
       "\n",
       "    .dataframe thead th {\n",
       "        text-align: right;\n",
       "    }\n",
       "</style>\n",
       "<table border=\"1\" class=\"dataframe\">\n",
       "  <thead>\n",
       "    <tr style=\"text-align: right;\">\n",
       "      <th></th>\n",
       "      <th>type</th>\n",
       "      <th>id</th>\n",
       "      <th>properties</th>\n",
       "      <th>geometry</th>\n",
       "    </tr>\n",
       "  </thead>\n",
       "  <tbody>\n",
       "    <tr>\n",
       "      <th>0</th>\n",
       "      <td>Feature</td>\n",
       "      <td>AXA</td>\n",
       "      <td>{'elevation': 368.8, 'sname': 'ALGONA', 'state...</td>\n",
       "      <td>{'type': 'Point', 'coordinates': [-94.2724, 43...</td>\n",
       "    </tr>\n",
       "    <tr>\n",
       "      <th>1</th>\n",
       "      <td>Feature</td>\n",
       "      <td>IKV</td>\n",
       "      <td>{'elevation': 270.7, 'sname': 'ANKENY', 'state...</td>\n",
       "      <td>{'type': 'Point', 'coordinates': [-93.5695, 41...</td>\n",
       "    </tr>\n",
       "    <tr>\n",
       "      <th>2</th>\n",
       "      <td>Feature</td>\n",
       "      <td>AIO</td>\n",
       "      <td>{'elevation': 351.7, 'sname': 'ATLANTIC', 'sta...</td>\n",
       "      <td>{'type': 'Point', 'coordinates': [-95.0465, 41...</td>\n",
       "    </tr>\n",
       "    <tr>\n",
       "      <th>3</th>\n",
       "      <td>Feature</td>\n",
       "      <td>ADU</td>\n",
       "      <td>{'elevation': 399.3, 'sname': 'AUDUBON', 'stat...</td>\n",
       "      <td>{'type': 'Point', 'coordinates': [-94.9204, 41...</td>\n",
       "    </tr>\n",
       "    <tr>\n",
       "      <th>4</th>\n",
       "      <td>Feature</td>\n",
       "      <td>BNW</td>\n",
       "      <td>{'elevation': 349.3, 'sname': 'BOONE MUNI', 's...</td>\n",
       "      <td>{'type': 'Point', 'coordinates': [-93.8486, 42...</td>\n",
       "    </tr>\n",
       "  </tbody>\n",
       "</table>\n",
       "</div>"
      ],
      "text/plain": [
       "      type   id                                         properties  \\\n",
       "0  Feature  AXA  {'elevation': 368.8, 'sname': 'ALGONA', 'state...   \n",
       "1  Feature  IKV  {'elevation': 270.7, 'sname': 'ANKENY', 'state...   \n",
       "2  Feature  AIO  {'elevation': 351.7, 'sname': 'ATLANTIC', 'sta...   \n",
       "3  Feature  ADU  {'elevation': 399.3, 'sname': 'AUDUBON', 'stat...   \n",
       "4  Feature  BNW  {'elevation': 349.3, 'sname': 'BOONE MUNI', 's...   \n",
       "\n",
       "                                            geometry  \n",
       "0  {'type': 'Point', 'coordinates': [-94.2724, 43...  \n",
       "1  {'type': 'Point', 'coordinates': [-93.5695, 41...  \n",
       "2  {'type': 'Point', 'coordinates': [-95.0465, 41...  \n",
       "3  {'type': 'Point', 'coordinates': [-94.9204, 41...  \n",
       "4  {'type': 'Point', 'coordinates': [-93.8486, 42...  "
      ]
     },
     "execution_count": 25,
     "metadata": {},
     "output_type": "execute_result"
    }
   ],
   "source": [
    "pd.DataFrame(js['features']).head()"
   ]
  },
  {
   "cell_type": "code",
   "execution_count": 26,
   "metadata": {},
   "outputs": [
    {
     "data": {
      "text/plain": [
       "{'type': 'Feature',\n",
       " 'id': 'AXA',\n",
       " 'properties': {'elevation': 368.8,\n",
       "  'sname': 'ALGONA',\n",
       "  'state': 'IA',\n",
       "  'country': 'US',\n",
       "  'climate_site': 'IA0133',\n",
       "  'wfo': 'DMX',\n",
       "  'tzname': 'America/Chicago',\n",
       "  'ncdc81': 'USC00130133',\n",
       "  'ugc_county': 'IAC109',\n",
       "  'ugc_zone': 'IAZ005',\n",
       "  'county': 'Kossuth',\n",
       "  'sid': 'AXA'},\n",
       " 'geometry': {'type': 'Point', 'coordinates': [-94.2724, 43.0796]}}"
      ]
     },
     "execution_count": 26,
     "metadata": {},
     "output_type": "execute_result"
    }
   ],
   "source": [
    "js['features'][0]"
   ]
  },
  {
   "cell_type": "code",
   "execution_count": 28,
   "metadata": {},
   "outputs": [],
   "source": [
    "stations = pd.json_normalize(js['features']).id\n",
    "url = (\"http://mesonet.agron.iastate.edu/cgi-bin/request/asos.py?\"\n",
    "       \"&data=tmpf&data=relh&data=sped&data=mslp&data=p01i&data=vsby&data=gust_mph&data=skyc1&data=skyc2&data=skyc3\"\n",
    "       \"&tz=Etc/UTC&format=comma&latlon=no\"\n",
    "       \"&{start:year1=%Y&month1=%m&day1=%d}\"\n",
    "       \"&{end:year2=%Y&month2=%m&day2=%d}&{stations}\")\n",
    "stations = \"&\".join(\"station=%s\" % s for s in stations)\n",
    "start = pd.Timestamp('2014-01-01')\n",
    "end=pd.Timestamp('2014-01-31')\n",
    "\n",
    "weather = (pd.read_csv(url.format(start=start, end=end, stations=stations),\n",
    "                       comment=\"#\"))"
   ]
  },
  {
   "cell_type": "code",
   "execution_count": 36,
   "metadata": {},
   "outputs": [],
   "source": [
    "import os\n",
    "ids = pd.concat([get_ids(network) for network in networks], ignore_index=True)\n",
    "gr = ids.groupby('network')\n",
    "\n",
    "os.makedirs(\"weather\", exist_ok=True)\n",
    "\n",
    "for i, (k, v) in enumerate(gr):\n",
    "    print(\"{}/{}\".format(i, len(networks)), end='\\r')\n",
    "    weather = get_weather(v['id'])\n",
    "    weather.to_csv(\"weather/{}.csv\".format(k))"
   ]
  },
  {
   "cell_type": "code",
   "execution_count": 25,
   "metadata": {},
   "outputs": [],
   "source": [
    "weather = pd.concat([\n",
    "    pd.read_csv(f, parse_dates=['date'], index_col=['station', 'date'])\n",
    "    for f in glob.glob('weather/*.csv')])\n",
    "\n",
    "weather.to_hdf('./data/weather.h5', key='weather', format='table')"
   ]
  },
  {
   "cell_type": "code",
   "execution_count": 44,
   "metadata": {},
   "outputs": [],
   "source": [
    "weather = pd.read_hdf('./data/weather.h5')"
   ]
  },
  {
   "cell_type": "code",
   "execution_count": 20,
   "metadata": {},
   "outputs": [
    {
     "data": {
      "text/plain": [
       "<seaborn.axisgrid.FacetGrid at 0x7ff55417fd50>"
      ]
     },
     "execution_count": 20,
     "metadata": {},
     "output_type": "execute_result"
    },
    {
     "data": {
      "image/png": "[encoded data removed]",
      "text/plain": [
       "<Figure size 1152x288 with 4 Axes>"
      ]
     },
     "metadata": {},
     "output_type": "display_data"
    }
   ],
   "source": [
    "airports = ['DSM', 'ORD', 'JFK', 'PDX']\n",
    "\n",
    "g = sns.FacetGrid(weather.sort_index().loc[airports].reset_index(),\n",
    "                  col='station', hue='station', col_wrap=4, height=4)\n",
    "g.map(sns.regplot, 'sped', 'gust_mph')"
   ]
  },
  {
   "cell_type": "code",
   "execution_count": 45,
   "metadata": {},
   "outputs": [],
   "source": [
    "flights = pd.read_hdf('./data/flights.h5', 'flights')"
   ]
  },
  {
   "cell_type": "code",
   "execution_count": 22,
   "metadata": {},
   "outputs": [],
   "source": [
    "weather_locs = weather.index.levels[0]\n",
    "# The `categories` attribute of a Categorical is an Index\n",
    "origin_locs = flights.origin.cat.categories\n",
    "dest_locs = flights.dest.cat.categories"
   ]
  },
  {
   "cell_type": "markdown",
   "metadata": {},
   "source": [
    "### Index = FrozenSet\n",
    "All set operation could apply with index  "
   ]
  },
  {
   "cell_type": "code",
   "execution_count": 33,
   "metadata": {},
   "outputs": [],
   "source": [
    "# find airport have index in weather, flights '&' as set intersection\n",
    "airports = weather_locs & origin_locs & dest_locs"
   ]
  },
  {
   "cell_type": "code",
   "execution_count": 36,
   "metadata": {},
   "outputs": [
    {
     "name": "stdout",
     "output_type": "stream",
     "text": [
      "Weather, no flights:\n",
      "\t Index(['01M', '04V', '04W', '05U', '06D', '08D', '0A9', '0CO', '0E0', '0F2',\n",
      "       ...\n",
      "       'Y50', 'Y51', 'Y63', 'Y70', 'YIP', 'YKM', 'YKN', 'YNG', 'ZPH', 'ZZV'],\n",
      "      dtype='object', length=1910)\n",
      "\n"
     ]
    }
   ],
   "source": [
    "# '|' as set union, 'difference' as set diff\n",
    "print(\"Weather, no flights:\\n\\t\", weather_locs.difference(origin_locs | dest_locs), end='\\n\\n')"
   ]
  },
  {
   "cell_type": "code",
   "execution_count": 41,
   "metadata": {},
   "outputs": [
    {
     "name": "stdout",
     "output_type": "stream",
     "text": [
      "Flights, no weather:\n",
      "\t Index(['ADK', 'ADQ', 'ANC', 'BET', 'BQN', 'BRW', 'CDV', 'FAI', 'FCA', 'GUM',\n",
      "       'HNL', 'ITO', 'JNU', 'KOA', 'KTN', 'LIH', 'MQT', 'OGG', 'OME', 'OTZ',\n",
      "       'PPG', 'PSE', 'PSG', 'SCC', 'SCE', 'SIT', 'SJU', 'STT', 'STX', 'WRG',\n",
      "       'YAK', 'YUM'],\n",
      "      dtype='object')\n",
      "\n"
     ]
    }
   ],
   "source": [
    "print(\"Flights, no weather:\\n\\t\", (origin_locs | dest_locs).difference(weather_locs), end='\\n\\n')"
   ]
  },
  {
   "cell_type": "code",
   "execution_count": 42,
   "metadata": {},
   "outputs": [
    {
     "name": "stdout",
     "output_type": "stream",
     "text": [
      "Dropped Stations:\n",
      "\t Index(['01M', '04V', '04W', '05U', '06D', '08D', '0A9', '0CO', '0E0', '0F2',\n",
      "       ...\n",
      "       'Y63', 'Y70', 'YAK', 'YIP', 'YKM', 'YKN', 'YNG', 'YUM', 'ZPH', 'ZZV'],\n",
      "      dtype='object', length=1942)\n"
     ]
    }
   ],
   "source": [
    "print(\"Dropped Stations:\\n\\t\", (origin_locs | dest_locs) ^ weather_locs)"
   ]
  },
  {
   "cell_type": "code",
   "execution_count": 46,
   "metadata": {},
   "outputs": [],
   "source": [
    "temp = weather['tmpf']"
   ]
  },
  {
   "cell_type": "code",
   "execution_count": 51,
   "metadata": {},
   "outputs": [],
   "source": [
    "c = (temp - 32)/9*5"
   ]
  },
  {
   "cell_type": "markdown",
   "metadata": {},
   "source": [
    "### Index is shared between , source and derivates\n",
    "easy to align between same index"
   ]
  },
  {
   "cell_type": "code",
   "execution_count": 60,
   "metadata": {},
   "outputs": [
    {
     "data": {
      "text/plain": [
       "True"
      ]
     },
     "execution_count": 60,
     "metadata": {},
     "output_type": "execute_result"
    }
   ],
   "source": [
    "temp.index is c.index"
   ]
  },
  {
   "cell_type": "code",
   "execution_count": 61,
   "metadata": {},
   "outputs": [],
   "source": [
    "c_f = pd.DataFrame({'c':c, 'f':temp})"
   ]
  },
  {
   "cell_type": "code",
   "execution_count": 63,
   "metadata": {},
   "outputs": [
    {
     "data": {
      "text/plain": [
       "station  date               \n",
       "BXK      2014-01-01 00:15:00   -4.440892e-16\n",
       "         2014-01-01 00:35:00   -4.440892e-16\n",
       "         2014-01-01 00:55:00    0.000000e+00\n",
       "         2014-01-01 01:15:00    0.000000e+00\n",
       "         2014-01-01 01:35:00    0.000000e+00\n",
       "                                    ...     \n",
       "ZPH      2014-01-30 22:35:00    0.000000e+00\n",
       "         2014-01-30 22:55:00    0.000000e+00\n",
       "         2014-01-30 23:15:00    0.000000e+00\n",
       "         2014-01-30 23:35:00    0.000000e+00\n",
       "         2014-01-30 23:55:00    0.000000e+00\n",
       "Length: 3303647, dtype: float64"
      ]
     },
     "execution_count": 63,
     "metadata": {},
     "output_type": "execute_result"
    }
   ],
   "source": [
    "c_f['c']/5 - (c_f['f']-32)/9"
   ]
  },
  {
   "cell_type": "markdown",
   "metadata": {},
   "source": [
    "## All binary operations (add, multiply, etc...) between Series/DataFrames first align and then proceed."
   ]
  },
  {
   "cell_type": "code",
   "execution_count": 79,
   "metadata": {},
   "outputs": [],
   "source": [
    "dsm = weather.loc['DSM']\n",
    "hourly = dsm.resample('H').mean()\n",
    "temp = hourly['tmpf'].sample(frac=0.5, random_state=1).sort_index()\n",
    "sped = hourly['sped'].sample(frac=0.5, random_state=2).sort_index()"
   ]
  },
  {
   "cell_type": "code",
   "execution_count": 80,
   "metadata": {},
   "outputs": [
    {
     "data": {
      "text/plain": [
       "date\n",
       "2014-01-01 00:00:00    10.94\n",
       "2014-01-01 02:00:00    10.94\n",
       "2014-01-01 03:00:00    10.94\n",
       "2014-01-01 04:00:00    10.04\n",
       "2014-01-01 05:00:00    10.04\n",
       "Name: tmpf, dtype: float64"
      ]
     },
     "execution_count": 80,
     "metadata": {},
     "output_type": "execute_result"
    }
   ],
   "source": [
    "temp.head()"
   ]
  },
  {
   "cell_type": "code",
   "execution_count": 81,
   "metadata": {},
   "outputs": [
    {
     "data": {
      "text/plain": [
       "date\n",
       "2014-01-01 01:00:00    11.50\n",
       "2014-01-01 02:00:00     8.05\n",
       "2014-01-01 03:00:00     9.20\n",
       "2014-01-01 04:00:00     9.20\n",
       "2014-01-01 05:00:00    10.35\n",
       "Name: sped, dtype: float64"
      ]
     },
     "execution_count": 81,
     "metadata": {},
     "output_type": "execute_result"
    }
   ],
   "source": [
    "sped.head()"
   ]
  },
  {
   "cell_type": "code",
   "execution_count": 84,
   "metadata": {},
   "outputs": [
    {
     "data": {
      "text/plain": [
       "date\n",
       "2014-01-01 00:00:00         NaN\n",
       "2014-01-01 01:00:00         NaN\n",
       "2014-01-01 02:00:00    0.735832\n",
       "2014-01-01 03:00:00    0.840951\n",
       "2014-01-01 04:00:00    0.916335\n",
       "                         ...   \n",
       "2014-01-30 13:00:00         NaN\n",
       "2014-01-30 14:00:00    0.590416\n",
       "2014-01-30 17:00:00         NaN\n",
       "2014-01-30 21:00:00         NaN\n",
       "2014-01-30 23:00:00         NaN\n",
       "Length: 550, dtype: float64"
      ]
     },
     "execution_count": 84,
     "metadata": {},
     "output_type": "execute_result"
    }
   ],
   "source": [
    "sped/temp"
   ]
  },
  {
   "cell_type": "code",
   "execution_count": 83,
   "metadata": {},
   "outputs": [
    {
     "data": {
      "text/plain": [
       "date\n",
       "2014-01-01 00:00:00     0.091408\n",
       "2014-01-01 01:00:00    11.500000\n",
       "2014-01-01 02:00:00     0.735832\n",
       "2014-01-01 03:00:00     0.840951\n",
       "2014-01-01 04:00:00     0.916335\n",
       "                         ...    \n",
       "2014-01-30 13:00:00     0.027809\n",
       "2014-01-30 14:00:00     0.590416\n",
       "2014-01-30 17:00:00     0.023267\n",
       "2014-01-30 21:00:00     0.035663\n",
       "2014-01-30 23:00:00    13.800000\n",
       "Length: 550, dtype: float64"
      ]
     },
     "execution_count": 83,
     "metadata": {},
     "output_type": "execute_result"
    }
   ],
   "source": [
    "# Auto alignment of index\n",
    "sped.div(temp, fill_value=1)"
   ]
  },
  {
   "cell_type": "code",
   "execution_count": 87,
   "metadata": {},
   "outputs": [
    {
     "data": {
      "text/html": [
       "<div>\n",
       "<style scoped>\n",
       "    .dataframe tbody tr th:only-of-type {\n",
       "        vertical-align: middle;\n",
       "    }\n",
       "\n",
       "    .dataframe tbody tr th {\n",
       "        vertical-align: top;\n",
       "    }\n",
       "\n",
       "    .dataframe thead th {\n",
       "        text-align: right;\n",
       "    }\n",
       "</style>\n",
       "<table border=\"1\" class=\"dataframe\">\n",
       "  <thead>\n",
       "    <tr style=\"text-align: right;\">\n",
       "      <th></th>\n",
       "      <th>tmpf</th>\n",
       "      <th>relh</th>\n",
       "      <th>sped</th>\n",
       "      <th>mslp</th>\n",
       "      <th>p01i</th>\n",
       "      <th>vsby</th>\n",
       "      <th>gust_mph</th>\n",
       "    </tr>\n",
       "    <tr>\n",
       "      <th>date</th>\n",
       "      <th></th>\n",
       "      <th></th>\n",
       "      <th></th>\n",
       "      <th></th>\n",
       "      <th></th>\n",
       "      <th></th>\n",
       "      <th></th>\n",
       "    </tr>\n",
       "  </thead>\n",
       "  <tbody>\n",
       "    <tr>\n",
       "      <th>2014-01-01 00:00:00</th>\n",
       "      <td>NaN</td>\n",
       "      <td>NaN</td>\n",
       "      <td>NaN</td>\n",
       "      <td>NaN</td>\n",
       "      <td>NaN</td>\n",
       "      <td>NaN</td>\n",
       "      <td>NaN</td>\n",
       "    </tr>\n",
       "    <tr>\n",
       "      <th>2014-01-01 01:00:00</th>\n",
       "      <td>0.951304</td>\n",
       "      <td>6.329565</td>\n",
       "      <td>1.0</td>\n",
       "      <td>89.165217</td>\n",
       "      <td>0.0</td>\n",
       "      <td>0.869565</td>\n",
       "      <td>NaN</td>\n",
       "    </tr>\n",
       "    <tr>\n",
       "      <th>2014-01-01 02:00:00</th>\n",
       "      <td>1.359006</td>\n",
       "      <td>9.042236</td>\n",
       "      <td>1.0</td>\n",
       "      <td>127.366460</td>\n",
       "      <td>0.0</td>\n",
       "      <td>1.242236</td>\n",
       "      <td>NaN</td>\n",
       "    </tr>\n",
       "    <tr>\n",
       "      <th>2014-01-01 03:00:00</th>\n",
       "      <td>1.189130</td>\n",
       "      <td>7.911957</td>\n",
       "      <td>1.0</td>\n",
       "      <td>111.445652</td>\n",
       "      <td>0.0</td>\n",
       "      <td>1.086957</td>\n",
       "      <td>NaN</td>\n",
       "    </tr>\n",
       "    <tr>\n",
       "      <th>2014-01-01 04:00:00</th>\n",
       "      <td>1.091304</td>\n",
       "      <td>7.901087</td>\n",
       "      <td>1.0</td>\n",
       "      <td>111.380435</td>\n",
       "      <td>0.0</td>\n",
       "      <td>1.086957</td>\n",
       "      <td>NaN</td>\n",
       "    </tr>\n",
       "    <tr>\n",
       "      <th>...</th>\n",
       "      <td>...</td>\n",
       "      <td>...</td>\n",
       "      <td>...</td>\n",
       "      <td>...</td>\n",
       "      <td>...</td>\n",
       "      <td>...</td>\n",
       "      <td>...</td>\n",
       "    </tr>\n",
       "    <tr>\n",
       "      <th>2014-01-30 19:00:00</th>\n",
       "      <td>NaN</td>\n",
       "      <td>NaN</td>\n",
       "      <td>NaN</td>\n",
       "      <td>NaN</td>\n",
       "      <td>NaN</td>\n",
       "      <td>NaN</td>\n",
       "      <td>NaN</td>\n",
       "    </tr>\n",
       "    <tr>\n",
       "      <th>2014-01-30 20:00:00</th>\n",
       "      <td>NaN</td>\n",
       "      <td>NaN</td>\n",
       "      <td>NaN</td>\n",
       "      <td>NaN</td>\n",
       "      <td>NaN</td>\n",
       "      <td>NaN</td>\n",
       "      <td>NaN</td>\n",
       "    </tr>\n",
       "    <tr>\n",
       "      <th>2014-01-30 21:00:00</th>\n",
       "      <td>NaN</td>\n",
       "      <td>NaN</td>\n",
       "      <td>NaN</td>\n",
       "      <td>NaN</td>\n",
       "      <td>NaN</td>\n",
       "      <td>NaN</td>\n",
       "      <td>NaN</td>\n",
       "    </tr>\n",
       "    <tr>\n",
       "      <th>2014-01-30 22:00:00</th>\n",
       "      <td>NaN</td>\n",
       "      <td>NaN</td>\n",
       "      <td>NaN</td>\n",
       "      <td>NaN</td>\n",
       "      <td>NaN</td>\n",
       "      <td>NaN</td>\n",
       "      <td>NaN</td>\n",
       "    </tr>\n",
       "    <tr>\n",
       "      <th>2014-01-30 23:00:00</th>\n",
       "      <td>1.588406</td>\n",
       "      <td>4.502174</td>\n",
       "      <td>1.0</td>\n",
       "      <td>73.434783</td>\n",
       "      <td>0.0</td>\n",
       "      <td>0.724638</td>\n",
       "      <td>NaN</td>\n",
       "    </tr>\n",
       "  </tbody>\n",
       "</table>\n",
       "<p>720 rows × 7 columns</p>\n",
       "</div>"
      ],
      "text/plain": [
       "                         tmpf      relh  sped        mslp  p01i      vsby  \\\n",
       "date                                                                        \n",
       "2014-01-01 00:00:00       NaN       NaN   NaN         NaN   NaN       NaN   \n",
       "2014-01-01 01:00:00  0.951304  6.329565   1.0   89.165217   0.0  0.869565   \n",
       "2014-01-01 02:00:00  1.359006  9.042236   1.0  127.366460   0.0  1.242236   \n",
       "2014-01-01 03:00:00  1.189130  7.911957   1.0  111.445652   0.0  1.086957   \n",
       "2014-01-01 04:00:00  1.091304  7.901087   1.0  111.380435   0.0  1.086957   \n",
       "...                       ...       ...   ...         ...   ...       ...   \n",
       "2014-01-30 19:00:00       NaN       NaN   NaN         NaN   NaN       NaN   \n",
       "2014-01-30 20:00:00       NaN       NaN   NaN         NaN   NaN       NaN   \n",
       "2014-01-30 21:00:00       NaN       NaN   NaN         NaN   NaN       NaN   \n",
       "2014-01-30 22:00:00       NaN       NaN   NaN         NaN   NaN       NaN   \n",
       "2014-01-30 23:00:00  1.588406  4.502174   1.0   73.434783   0.0  0.724638   \n",
       "\n",
       "                     gust_mph  \n",
       "date                           \n",
       "2014-01-01 00:00:00       NaN  \n",
       "2014-01-01 01:00:00       NaN  \n",
       "2014-01-01 02:00:00       NaN  \n",
       "2014-01-01 03:00:00       NaN  \n",
       "2014-01-01 04:00:00       NaN  \n",
       "...                       ...  \n",
       "2014-01-30 19:00:00       NaN  \n",
       "2014-01-30 20:00:00       NaN  \n",
       "2014-01-30 21:00:00       NaN  \n",
       "2014-01-30 22:00:00       NaN  \n",
       "2014-01-30 23:00:00       NaN  \n",
       "\n",
       "[720 rows x 7 columns]"
      ]
     },
     "execution_count": 87,
     "metadata": {},
     "output_type": "execute_result"
    }
   ],
   "source": [
    "hourly.div(sped, axis='index')"
   ]
  },
  {
   "cell_type": "markdown",
   "metadata": {},
   "source": [
    "### Merging\n",
    "Relational `pd.merge`  \n",
    "Array `pd.concat`"
   ]
  },
  {
   "cell_type": "code",
   "execution_count": 94,
   "metadata": {},
   "outputs": [
    {
     "data": {
      "text/plain": [
       "date\n",
       "2014-01-01 00:00:00    10.94\n",
       "2014-01-01 02:00:00    10.94\n",
       "2014-01-01 03:00:00    10.94\n",
       "2014-01-01 04:00:00    10.04\n",
       "2014-01-01 05:00:00    10.04\n",
       "dtype: float64"
      ]
     },
     "execution_count": 94,
     "metadata": {},
     "output_type": "execute_result"
    }
   ],
   "source": [
    "# Concat axis = column -> convert Series -> DF\n",
    "pd.concat([temp, sped], axis=0).head()"
   ]
  },
  {
   "cell_type": "code",
   "execution_count": 96,
   "metadata": {},
   "outputs": [
    {
     "data": {
      "text/html": [
       "<div>\n",
       "<style scoped>\n",
       "    .dataframe tbody tr th:only-of-type {\n",
       "        vertical-align: middle;\n",
       "    }\n",
       "\n",
       "    .dataframe tbody tr th {\n",
       "        vertical-align: top;\n",
       "    }\n",
       "\n",
       "    .dataframe thead th {\n",
       "        text-align: right;\n",
       "    }\n",
       "</style>\n",
       "<table border=\"1\" class=\"dataframe\">\n",
       "  <thead>\n",
       "    <tr style=\"text-align: right;\">\n",
       "      <th></th>\n",
       "      <th>tmpf</th>\n",
       "      <th>sped</th>\n",
       "    </tr>\n",
       "    <tr>\n",
       "      <th>date</th>\n",
       "      <th></th>\n",
       "      <th></th>\n",
       "    </tr>\n",
       "  </thead>\n",
       "  <tbody>\n",
       "    <tr>\n",
       "      <th>2014-01-01 02:00:00</th>\n",
       "      <td>10.94</td>\n",
       "      <td>8.05</td>\n",
       "    </tr>\n",
       "    <tr>\n",
       "      <th>2014-01-01 03:00:00</th>\n",
       "      <td>10.94</td>\n",
       "      <td>9.20</td>\n",
       "    </tr>\n",
       "    <tr>\n",
       "      <th>2014-01-01 04:00:00</th>\n",
       "      <td>10.04</td>\n",
       "      <td>9.20</td>\n",
       "    </tr>\n",
       "    <tr>\n",
       "      <th>2014-01-01 05:00:00</th>\n",
       "      <td>10.04</td>\n",
       "      <td>10.35</td>\n",
       "    </tr>\n",
       "    <tr>\n",
       "      <th>2014-01-01 13:00:00</th>\n",
       "      <td>8.96</td>\n",
       "      <td>13.80</td>\n",
       "    </tr>\n",
       "  </tbody>\n",
       "</table>\n",
       "</div>"
      ],
      "text/plain": [
       "                      tmpf   sped\n",
       "date                             \n",
       "2014-01-01 02:00:00  10.94   8.05\n",
       "2014-01-01 03:00:00  10.94   9.20\n",
       "2014-01-01 04:00:00  10.04   9.20\n",
       "2014-01-01 05:00:00  10.04  10.35\n",
       "2014-01-01 13:00:00   8.96  13.80"
      ]
     },
     "execution_count": 96,
     "metadata": {},
     "output_type": "execute_result"
    }
   ],
   "source": [
    "# use join = 'inner', for common index\n",
    "pd.concat([temp, sped], axis=1, join='inner').head()"
   ]
  },
  {
   "cell_type": "code",
   "execution_count": 103,
   "metadata": {},
   "outputs": [
    {
     "data": {
      "text/html": [
       "<div>\n",
       "<style scoped>\n",
       "    .dataframe tbody tr th:only-of-type {\n",
       "        vertical-align: middle;\n",
       "    }\n",
       "\n",
       "    .dataframe tbody tr th {\n",
       "        vertical-align: top;\n",
       "    }\n",
       "\n",
       "    .dataframe thead th {\n",
       "        text-align: right;\n",
       "    }\n",
       "</style>\n",
       "<table border=\"1\" class=\"dataframe\">\n",
       "  <thead>\n",
       "    <tr style=\"text-align: right;\">\n",
       "      <th></th>\n",
       "      <th>tmpf</th>\n",
       "      <th>sped</th>\n",
       "    </tr>\n",
       "    <tr>\n",
       "      <th>date</th>\n",
       "      <th></th>\n",
       "      <th></th>\n",
       "    </tr>\n",
       "  </thead>\n",
       "  <tbody>\n",
       "    <tr>\n",
       "      <th>2014-01-01 01:00:00</th>\n",
       "      <td>NaN</td>\n",
       "      <td>11.50</td>\n",
       "    </tr>\n",
       "    <tr>\n",
       "      <th>2014-01-01 02:00:00</th>\n",
       "      <td>10.94</td>\n",
       "      <td>8.05</td>\n",
       "    </tr>\n",
       "    <tr>\n",
       "      <th>2014-01-01 03:00:00</th>\n",
       "      <td>10.94</td>\n",
       "      <td>9.20</td>\n",
       "    </tr>\n",
       "    <tr>\n",
       "      <th>2014-01-01 04:00:00</th>\n",
       "      <td>10.04</td>\n",
       "      <td>9.20</td>\n",
       "    </tr>\n",
       "    <tr>\n",
       "      <th>2014-01-01 05:00:00</th>\n",
       "      <td>10.04</td>\n",
       "      <td>10.35</td>\n",
       "    </tr>\n",
       "    <tr>\n",
       "      <th>...</th>\n",
       "      <td>...</td>\n",
       "      <td>...</td>\n",
       "    </tr>\n",
       "    <tr>\n",
       "      <th>2014-01-30 06:00:00</th>\n",
       "      <td>NaN</td>\n",
       "      <td>14.95</td>\n",
       "    </tr>\n",
       "    <tr>\n",
       "      <th>2014-01-30 09:00:00</th>\n",
       "      <td>35.06</td>\n",
       "      <td>16.10</td>\n",
       "    </tr>\n",
       "    <tr>\n",
       "      <th>2014-01-30 10:00:00</th>\n",
       "      <td>35.06</td>\n",
       "      <td>21.85</td>\n",
       "    </tr>\n",
       "    <tr>\n",
       "      <th>2014-01-30 14:00:00</th>\n",
       "      <td>35.06</td>\n",
       "      <td>20.70</td>\n",
       "    </tr>\n",
       "    <tr>\n",
       "      <th>2014-01-30 23:00:00</th>\n",
       "      <td>NaN</td>\n",
       "      <td>13.80</td>\n",
       "    </tr>\n",
       "  </tbody>\n",
       "</table>\n",
       "<p>360 rows × 2 columns</p>\n",
       "</div>"
      ],
      "text/plain": [
       "                      tmpf   sped\n",
       "date                             \n",
       "2014-01-01 01:00:00    NaN  11.50\n",
       "2014-01-01 02:00:00  10.94   8.05\n",
       "2014-01-01 03:00:00  10.94   9.20\n",
       "2014-01-01 04:00:00  10.04   9.20\n",
       "2014-01-01 05:00:00  10.04  10.35\n",
       "...                    ...    ...\n",
       "2014-01-30 06:00:00    NaN  14.95\n",
       "2014-01-30 09:00:00  35.06  16.10\n",
       "2014-01-30 10:00:00  35.06  21.85\n",
       "2014-01-30 14:00:00  35.06  20.70\n",
       "2014-01-30 23:00:00    NaN  13.80\n",
       "\n",
       "[360 rows x 2 columns]"
      ]
     },
     "execution_count": 103,
     "metadata": {},
     "output_type": "execute_result"
    }
   ],
   "source": [
    "pd.merge(temp, sped, left_index=True, right_index=True, how = 'right')"
   ]
  },
  {
   "cell_type": "code",
   "execution_count": 106,
   "metadata": {},
   "outputs": [],
   "source": [
    "idx_cols = ['unique_carrier', 'origin', 'dest', 'tail_num', 'fl_num', 'fl_date']\n",
    "data_cols = ['crs_dep_time', 'dep_delay', 'crs_arr_time', 'arr_delay',\n",
    "             'taxi_out', 'taxi_in', 'wheels_off', 'wheels_on']\n",
    "\n",
    "df = flights.set_index(idx_cols)[data_cols].sort_index()"
   ]
  },
  {
   "cell_type": "code",
   "execution_count": 107,
   "metadata": {},
   "outputs": [
    {
     "data": {
      "text/html": [
       "<div>\n",
       "<style scoped>\n",
       "    .dataframe tbody tr th:only-of-type {\n",
       "        vertical-align: middle;\n",
       "    }\n",
       "\n",
       "    .dataframe tbody tr th {\n",
       "        vertical-align: top;\n",
       "    }\n",
       "\n",
       "    .dataframe thead th {\n",
       "        text-align: right;\n",
       "    }\n",
       "</style>\n",
       "<table border=\"1\" class=\"dataframe\">\n",
       "  <thead>\n",
       "    <tr style=\"text-align: right;\">\n",
       "      <th></th>\n",
       "      <th></th>\n",
       "      <th></th>\n",
       "      <th></th>\n",
       "      <th></th>\n",
       "      <th></th>\n",
       "      <th>crs_dep_time</th>\n",
       "      <th>dep_delay</th>\n",
       "      <th>crs_arr_time</th>\n",
       "      <th>arr_delay</th>\n",
       "      <th>taxi_out</th>\n",
       "      <th>taxi_in</th>\n",
       "      <th>wheels_off</th>\n",
       "      <th>wheels_on</th>\n",
       "    </tr>\n",
       "    <tr>\n",
       "      <th>unique_carrier</th>\n",
       "      <th>origin</th>\n",
       "      <th>dest</th>\n",
       "      <th>tail_num</th>\n",
       "      <th>fl_num</th>\n",
       "      <th>fl_date</th>\n",
       "      <th></th>\n",
       "      <th></th>\n",
       "      <th></th>\n",
       "      <th></th>\n",
       "      <th></th>\n",
       "      <th></th>\n",
       "      <th></th>\n",
       "      <th></th>\n",
       "    </tr>\n",
       "  </thead>\n",
       "  <tbody>\n",
       "    <tr>\n",
       "      <th rowspan=\"5\" valign=\"top\">AA</th>\n",
       "      <th rowspan=\"5\" valign=\"top\">ABQ</th>\n",
       "      <th rowspan=\"5\" valign=\"top\">DFW</th>\n",
       "      <th rowspan=\"2\" valign=\"top\">N3ABAA</th>\n",
       "      <th>1282</th>\n",
       "      <th>2017-01-29</th>\n",
       "      <td>2017-01-29 08:00:00</td>\n",
       "      <td>-3.0</td>\n",
       "      <td>2017-01-29 10:50:00</td>\n",
       "      <td>-11.0</td>\n",
       "      <td>13.0</td>\n",
       "      <td>10.0</td>\n",
       "      <td>810.0</td>\n",
       "      <td>1029.0</td>\n",
       "    </tr>\n",
       "    <tr>\n",
       "      <th>2611</th>\n",
       "      <th>2017-01-15</th>\n",
       "      <td>2017-01-15 05:00:00</td>\n",
       "      <td>0.0</td>\n",
       "      <td>2017-01-15 07:46:00</td>\n",
       "      <td>0.0</td>\n",
       "      <td>12.0</td>\n",
       "      <td>9.0</td>\n",
       "      <td>512.0</td>\n",
       "      <td>737.0</td>\n",
       "    </tr>\n",
       "    <tr>\n",
       "      <th>N3AEAA</th>\n",
       "      <th>2511</th>\n",
       "      <th>2017-01-11</th>\n",
       "      <td>2017-01-11 15:00:00</td>\n",
       "      <td>-9.0</td>\n",
       "      <td>2017-01-11 17:45:00</td>\n",
       "      <td>19.0</td>\n",
       "      <td>23.0</td>\n",
       "      <td>35.0</td>\n",
       "      <td>1514.0</td>\n",
       "      <td>1729.0</td>\n",
       "    </tr>\n",
       "    <tr>\n",
       "      <th>N3AJAA</th>\n",
       "      <th>2511</th>\n",
       "      <th>2017-01-24</th>\n",
       "      <td>2017-01-24 15:00:00</td>\n",
       "      <td>2.0</td>\n",
       "      <td>2017-01-24 17:45:00</td>\n",
       "      <td>-8.0</td>\n",
       "      <td>13.0</td>\n",
       "      <td>10.0</td>\n",
       "      <td>1515.0</td>\n",
       "      <td>1727.0</td>\n",
       "    </tr>\n",
       "    <tr>\n",
       "      <th>N3AVAA</th>\n",
       "      <th>1282</th>\n",
       "      <th>2017-01-11</th>\n",
       "      <td>2017-01-11 08:00:00</td>\n",
       "      <td>-8.0</td>\n",
       "      <td>2017-01-11 10:50:00</td>\n",
       "      <td>-3.0</td>\n",
       "      <td>10.0</td>\n",
       "      <td>34.0</td>\n",
       "      <td>802.0</td>\n",
       "      <td>1013.0</td>\n",
       "    </tr>\n",
       "  </tbody>\n",
       "</table>\n",
       "</div>"
      ],
      "text/plain": [
       "                                                             crs_dep_time  \\\n",
       "unique_carrier origin dest tail_num fl_num fl_date                          \n",
       "AA             ABQ    DFW  N3ABAA   1282   2017-01-29 2017-01-29 08:00:00   \n",
       "                                    2611   2017-01-15 2017-01-15 05:00:00   \n",
       "                           N3AEAA   2511   2017-01-11 2017-01-11 15:00:00   \n",
       "                           N3AJAA   2511   2017-01-24 2017-01-24 15:00:00   \n",
       "                           N3AVAA   1282   2017-01-11 2017-01-11 08:00:00   \n",
       "\n",
       "                                                       dep_delay  \\\n",
       "unique_carrier origin dest tail_num fl_num fl_date                 \n",
       "AA             ABQ    DFW  N3ABAA   1282   2017-01-29       -3.0   \n",
       "                                    2611   2017-01-15        0.0   \n",
       "                           N3AEAA   2511   2017-01-11       -9.0   \n",
       "                           N3AJAA   2511   2017-01-24        2.0   \n",
       "                           N3AVAA   1282   2017-01-11       -8.0   \n",
       "\n",
       "                                                             crs_arr_time  \\\n",
       "unique_carrier origin dest tail_num fl_num fl_date                          \n",
       "AA             ABQ    DFW  N3ABAA   1282   2017-01-29 2017-01-29 10:50:00   \n",
       "                                    2611   2017-01-15 2017-01-15 07:46:00   \n",
       "                           N3AEAA   2511   2017-01-11 2017-01-11 17:45:00   \n",
       "                           N3AJAA   2511   2017-01-24 2017-01-24 17:45:00   \n",
       "                           N3AVAA   1282   2017-01-11 2017-01-11 10:50:00   \n",
       "\n",
       "                                                       arr_delay  taxi_out  \\\n",
       "unique_carrier origin dest tail_num fl_num fl_date                           \n",
       "AA             ABQ    DFW  N3ABAA   1282   2017-01-29      -11.0      13.0   \n",
       "                                    2611   2017-01-15        0.0      12.0   \n",
       "                           N3AEAA   2511   2017-01-11       19.0      23.0   \n",
       "                           N3AJAA   2511   2017-01-24       -8.0      13.0   \n",
       "                           N3AVAA   1282   2017-01-11       -3.0      10.0   \n",
       "\n",
       "                                                       taxi_in  wheels_off  \\\n",
       "unique_carrier origin dest tail_num fl_num fl_date                           \n",
       "AA             ABQ    DFW  N3ABAA   1282   2017-01-29     10.0       810.0   \n",
       "                                    2611   2017-01-15      9.0       512.0   \n",
       "                           N3AEAA   2511   2017-01-11     35.0      1514.0   \n",
       "                           N3AJAA   2511   2017-01-24     10.0      1515.0   \n",
       "                           N3AVAA   1282   2017-01-11     34.0       802.0   \n",
       "\n",
       "                                                       wheels_on  \n",
       "unique_carrier origin dest tail_num fl_num fl_date                \n",
       "AA             ABQ    DFW  N3ABAA   1282   2017-01-29     1029.0  \n",
       "                                    2611   2017-01-15      737.0  \n",
       "                           N3AEAA   2511   2017-01-11     1729.0  \n",
       "                           N3AJAA   2511   2017-01-24     1727.0  \n",
       "                           N3AVAA   1282   2017-01-11     1013.0  "
      ]
     },
     "execution_count": 107,
     "metadata": {},
     "output_type": "execute_result"
    }
   ],
   "source": [
    "df.head()"
   ]
  },
  {
   "cell_type": "code",
   "execution_count": 112,
   "metadata": {},
   "outputs": [],
   "source": [
    "def mode(x):\n",
    "    '''\n",
    "    Arbitrarily break ties.\n",
    "    '''\n",
    "    return x.value_counts().index[0]\n",
    "\n",
    "aggfuncs = {'tmpf': 'mean', 'relh': 'mean',\n",
    "            'sped': 'mean', 'mslp': 'mean',\n",
    "            'p01i': 'mean', 'vsby': 'mean',\n",
    "            'gust_mph': 'mean', 'skyc1': mode,\n",
    "            'skyc2': mode, 'skyc3': mode}"
   ]
  },
  {
   "cell_type": "code",
   "execution_count": 113,
   "metadata": {},
   "outputs": [],
   "source": [
    "# TimeGrouper works on a DatetimeIndex, so we move `station` to the\n",
    "# columns and then groupby it as well.\n",
    "daily = (weather.reset_index(level=\"station\")\n",
    "                .groupby([pd.Grouper(freq='D'), \"station\"])\n",
    "                .agg(aggfuncs))"
   ]
  },
  {
   "cell_type": "code",
   "execution_count": 118,
   "metadata": {},
   "outputs": [
    {
     "data": {
      "text/html": [
       "<div>\n",
       "<style scoped>\n",
       "    .dataframe tbody tr th:only-of-type {\n",
       "        vertical-align: middle;\n",
       "    }\n",
       "\n",
       "    .dataframe tbody tr th {\n",
       "        vertical-align: top;\n",
       "    }\n",
       "\n",
       "    .dataframe thead th {\n",
       "        text-align: right;\n",
       "    }\n",
       "</style>\n",
       "<table border=\"1\" class=\"dataframe\">\n",
       "  <thead>\n",
       "    <tr style=\"text-align: right;\">\n",
       "      <th></th>\n",
       "      <th></th>\n",
       "      <th>tmpf</th>\n",
       "      <th>relh</th>\n",
       "      <th>sped</th>\n",
       "      <th>mslp</th>\n",
       "      <th>p01i</th>\n",
       "      <th>vsby</th>\n",
       "      <th>gust_mph</th>\n",
       "      <th>skyc1</th>\n",
       "      <th>skyc2</th>\n",
       "      <th>skyc3</th>\n",
       "    </tr>\n",
       "    <tr>\n",
       "      <th>date</th>\n",
       "      <th>station</th>\n",
       "      <th></th>\n",
       "      <th></th>\n",
       "      <th></th>\n",
       "      <th></th>\n",
       "      <th></th>\n",
       "      <th></th>\n",
       "      <th></th>\n",
       "      <th></th>\n",
       "      <th></th>\n",
       "      <th></th>\n",
       "    </tr>\n",
       "  </thead>\n",
       "  <tbody>\n",
       "    <tr>\n",
       "      <th rowspan=\"5\" valign=\"top\">2014-01-01</th>\n",
       "      <th>01M</th>\n",
       "      <td>35.747500</td>\n",
       "      <td>81.117917</td>\n",
       "      <td>2.284028</td>\n",
       "      <td>NaN</td>\n",
       "      <td>0.000000</td>\n",
       "      <td>9.229167</td>\n",
       "      <td>NaN</td>\n",
       "      <td>CLR</td>\n",
       "      <td>M</td>\n",
       "      <td>M</td>\n",
       "    </tr>\n",
       "    <tr>\n",
       "      <th>04V</th>\n",
       "      <td>18.350000</td>\n",
       "      <td>72.697778</td>\n",
       "      <td>11.228472</td>\n",
       "      <td>NaN</td>\n",
       "      <td>0.000000</td>\n",
       "      <td>9.861111</td>\n",
       "      <td>31.583929</td>\n",
       "      <td>CLR</td>\n",
       "      <td>M</td>\n",
       "      <td>M</td>\n",
       "    </tr>\n",
       "    <tr>\n",
       "      <th>04W</th>\n",
       "      <td>-9.075000</td>\n",
       "      <td>69.908056</td>\n",
       "      <td>3.625694</td>\n",
       "      <td>NaN</td>\n",
       "      <td>0.000000</td>\n",
       "      <td>10.000000</td>\n",
       "      <td>NaN</td>\n",
       "      <td>OVC</td>\n",
       "      <td>M</td>\n",
       "      <td>M</td>\n",
       "    </tr>\n",
       "    <tr>\n",
       "      <th>05U</th>\n",
       "      <td>26.321127</td>\n",
       "      <td>71.519859</td>\n",
       "      <td>3.806338</td>\n",
       "      <td>NaN</td>\n",
       "      <td>0.000000</td>\n",
       "      <td>9.929577</td>\n",
       "      <td>NaN</td>\n",
       "      <td>CLR</td>\n",
       "      <td>M</td>\n",
       "      <td>M</td>\n",
       "    </tr>\n",
       "    <tr>\n",
       "      <th>06D</th>\n",
       "      <td>-11.388060</td>\n",
       "      <td>73.784179</td>\n",
       "      <td>5.334722</td>\n",
       "      <td>NaN</td>\n",
       "      <td>0.000000</td>\n",
       "      <td>9.576389</td>\n",
       "      <td>NaN</td>\n",
       "      <td>CLR</td>\n",
       "      <td>M</td>\n",
       "      <td>M</td>\n",
       "    </tr>\n",
       "    <tr>\n",
       "      <th>...</th>\n",
       "      <th>...</th>\n",
       "      <td>...</td>\n",
       "      <td>...</td>\n",
       "      <td>...</td>\n",
       "      <td>...</td>\n",
       "      <td>...</td>\n",
       "      <td>...</td>\n",
       "      <td>...</td>\n",
       "      <td>...</td>\n",
       "      <td>...</td>\n",
       "      <td>...</td>\n",
       "    </tr>\n",
       "    <tr>\n",
       "      <th rowspan=\"5\" valign=\"top\">2014-01-30</th>\n",
       "      <th>YKM</th>\n",
       "      <td>32.480000</td>\n",
       "      <td>89.307917</td>\n",
       "      <td>3.282292</td>\n",
       "      <td>1009.391667</td>\n",
       "      <td>0.000004</td>\n",
       "      <td>3.166667</td>\n",
       "      <td>NaN</td>\n",
       "      <td>VV</td>\n",
       "      <td>M</td>\n",
       "      <td>M</td>\n",
       "    </tr>\n",
       "    <tr>\n",
       "      <th>YKN</th>\n",
       "      <td>30.326761</td>\n",
       "      <td>53.978310</td>\n",
       "      <td>17.444366</td>\n",
       "      <td>NaN</td>\n",
       "      <td>0.000704</td>\n",
       "      <td>9.901408</td>\n",
       "      <td>28.160976</td>\n",
       "      <td>CLR</td>\n",
       "      <td>M</td>\n",
       "      <td>M</td>\n",
       "    </tr>\n",
       "    <tr>\n",
       "      <th>YNG</th>\n",
       "      <td>14.262500</td>\n",
       "      <td>48.225417</td>\n",
       "      <td>10.493750</td>\n",
       "      <td>1023.762500</td>\n",
       "      <td>0.000000</td>\n",
       "      <td>10.000000</td>\n",
       "      <td>20.412500</td>\n",
       "      <td>CLR</td>\n",
       "      <td>M</td>\n",
       "      <td>M</td>\n",
       "    </tr>\n",
       "    <tr>\n",
       "      <th>ZPH</th>\n",
       "      <td>42.625000</td>\n",
       "      <td>100.000000</td>\n",
       "      <td>8.097917</td>\n",
       "      <td>NaN</td>\n",
       "      <td>0.007917</td>\n",
       "      <td>8.569444</td>\n",
       "      <td>16.100000</td>\n",
       "      <td>OVC</td>\n",
       "      <td>M</td>\n",
       "      <td>M</td>\n",
       "    </tr>\n",
       "    <tr>\n",
       "      <th>ZZV</th>\n",
       "      <td>11.817500</td>\n",
       "      <td>53.519167</td>\n",
       "      <td>5.558333</td>\n",
       "      <td>1024.983333</td>\n",
       "      <td>0.000000</td>\n",
       "      <td>9.916667</td>\n",
       "      <td>NaN</td>\n",
       "      <td>CLR</td>\n",
       "      <td>M</td>\n",
       "      <td>M</td>\n",
       "    </tr>\n",
       "  </tbody>\n",
       "</table>\n",
       "<p>64348 rows × 10 columns</p>\n",
       "</div>"
      ],
      "text/plain": [
       "                         tmpf        relh       sped         mslp      p01i  \\\n",
       "date       station                                                            \n",
       "2014-01-01 01M      35.747500   81.117917   2.284028          NaN  0.000000   \n",
       "           04V      18.350000   72.697778  11.228472          NaN  0.000000   \n",
       "           04W      -9.075000   69.908056   3.625694          NaN  0.000000   \n",
       "           05U      26.321127   71.519859   3.806338          NaN  0.000000   \n",
       "           06D     -11.388060   73.784179   5.334722          NaN  0.000000   \n",
       "...                       ...         ...        ...          ...       ...   \n",
       "2014-01-30 YKM      32.480000   89.307917   3.282292  1009.391667  0.000004   \n",
       "           YKN      30.326761   53.978310  17.444366          NaN  0.000704   \n",
       "           YNG      14.262500   48.225417  10.493750  1023.762500  0.000000   \n",
       "           ZPH      42.625000  100.000000   8.097917          NaN  0.007917   \n",
       "           ZZV      11.817500   53.519167   5.558333  1024.983333  0.000000   \n",
       "\n",
       "                         vsby   gust_mph skyc1 skyc2 skyc3  \n",
       "date       station                                          \n",
       "2014-01-01 01M       9.229167        NaN   CLR     M     M  \n",
       "           04V       9.861111  31.583929   CLR     M     M  \n",
       "           04W      10.000000        NaN   OVC     M     M  \n",
       "           05U       9.929577        NaN   CLR     M     M  \n",
       "           06D       9.576389        NaN   CLR     M     M  \n",
       "...                       ...        ...   ...   ...   ...  \n",
       "2014-01-30 YKM       3.166667        NaN   VV      M     M  \n",
       "           YKN       9.901408  28.160976   CLR     M     M  \n",
       "           YNG      10.000000  20.412500   CLR     M     M  \n",
       "           ZPH       8.569444  16.100000   OVC     M     M  \n",
       "           ZZV       9.916667        NaN   CLR     M     M  \n",
       "\n",
       "[64348 rows x 10 columns]"
      ]
     },
     "execution_count": 118,
     "metadata": {},
     "output_type": "execute_result"
    }
   ],
   "source": [
    "daily"
   ]
  },
  {
   "cell_type": "code",
   "execution_count": 172,
   "metadata": {},
   "outputs": [],
   "source": [
    "m = pd.merge(flights, \n",
    "         daily.rename_axis(index={'date':'fl_date', 'station':'origin'})\n",
    "         .reset_index()\n",
    "         .assign(fl_date=lambda x : x['fl_date'] + pd.offsets.DateOffset(years=3)), # add 3 years to daily to match year with flights\n",
    "         on=['fl_date', 'origin']).set_index(idx_cols).sort_index()"
   ]
  },
  {
   "cell_type": "code",
   "execution_count": 174,
   "metadata": {},
   "outputs": [
    {
     "data": {
      "text/plain": [
       "<seaborn.axisgrid.JointGrid at 0x7ff4c6532ad0>"
      ]
     },
     "execution_count": 174,
     "metadata": {},
     "output_type": "execute_result"
    },
    {
     "data": {
      "image/png": "[encoded data removed]",
      "text/plain": [
       "<Figure size 432x432 with 3 Axes>"
      ]
     },
     "metadata": {},
     "output_type": "display_data"
    }
   ],
   "source": [
    "plt.style.use('ggplot')\n",
    "m.sample(n=10000).pipe((sns.jointplot, 'data'), 'sped', 'dep_delay')"
   ]
  },
  {
   "cell_type": "code",
   "execution_count": 175,
   "metadata": {},
   "outputs": [],
   "source": [
    "import statsmodels.api as sm"
   ]
  },
  {
   "cell_type": "code",
   "execution_count": 177,
   "metadata": {},
   "outputs": [
    {
     "data": {
      "text/html": [
       "<table class=\"simpletable\">\n",
       "<caption>OLS Regression Results</caption>\n",
       "<tr>\n",
       "  <th>Dep. Variable:</th>        <td>dep_delay</td>    <th>  R-squared:         </th>  <td>   0.002</td>  \n",
       "</tr>\n",
       "<tr>\n",
       "  <th>Model:</th>                   <td>OLS</td>       <th>  Adj. R-squared:    </th>  <td>   0.002</td>  \n",
       "</tr>\n",
       "<tr>\n",
       "  <th>Method:</th>             <td>Least Squares</td>  <th>  F-statistic:       </th>  <td>   85.55</td>  \n",
       "</tr>\n",
       "<tr>\n",
       "  <th>Date:</th>             <td>Tue, 28 Jul 2020</td> <th>  Prob (F-statistic):</th>  <td>3.68e-177</td> \n",
       "</tr>\n",
       "<tr>\n",
       "  <th>Time:</th>                 <td>17:50:39</td>     <th>  Log-Likelihood:    </th> <td>-2.1649e+06</td>\n",
       "</tr>\n",
       "<tr>\n",
       "  <th>No. Observations:</th>      <td>410537</td>      <th>  AIC:               </th>  <td>4.330e+06</td> \n",
       "</tr>\n",
       "<tr>\n",
       "  <th>Df Residuals:</th>          <td>410526</td>      <th>  BIC:               </th>  <td>4.330e+06</td> \n",
       "</tr>\n",
       "<tr>\n",
       "  <th>Df Model:</th>              <td>    10</td>      <th>                     </th>      <td> </td>     \n",
       "</tr>\n",
       "<tr>\n",
       "  <th>Covariance Type:</th>      <td>nonrobust</td>    <th>                     </th>      <td> </td>     \n",
       "</tr>\n",
       "</table>\n",
       "<table class=\"simpletable\">\n",
       "<tr>\n",
       "         <td></td>            <th>coef</th>     <th>std err</th>      <th>t</th>      <th>P>|t|</th>  <th>[0.025</th>    <th>0.975]</th>  \n",
       "</tr>\n",
       "<tr>\n",
       "  <th>Intercept</th>       <td> -219.2746</td> <td>   11.235</td> <td>  -19.517</td> <td> 0.000</td> <td> -241.295</td> <td> -197.254</td>\n",
       "</tr>\n",
       "<tr>\n",
       "  <th>C(skyc1)[T.CLR]</th> <td>    0.5706</td> <td>    0.259</td> <td>    2.206</td> <td> 0.027</td> <td>    0.064</td> <td>    1.078</td>\n",
       "</tr>\n",
       "<tr>\n",
       "  <th>C(skyc1)[T.FEW]</th> <td>    1.8005</td> <td>    0.231</td> <td>    7.809</td> <td> 0.000</td> <td>    1.349</td> <td>    2.252</td>\n",
       "</tr>\n",
       "<tr>\n",
       "  <th>C(skyc1)[T.M]</th>   <td>    9.9807</td> <td>    9.259</td> <td>    1.078</td> <td> 0.281</td> <td>   -8.167</td> <td>   28.128</td>\n",
       "</tr>\n",
       "<tr>\n",
       "  <th>C(skyc1)[T.OVC]</th> <td>   -0.2377</td> <td>    0.283</td> <td>   -0.840</td> <td> 0.401</td> <td>   -0.793</td> <td>    0.317</td>\n",
       "</tr>\n",
       "<tr>\n",
       "  <th>C(skyc1)[T.SCT]</th> <td>    3.3001</td> <td>    0.405</td> <td>    8.158</td> <td> 0.000</td> <td>    2.507</td> <td>    4.093</td>\n",
       "</tr>\n",
       "<tr>\n",
       "  <th>C(skyc1)[T.VV ]</th> <td>   -0.7208</td> <td>    0.480</td> <td>   -1.502</td> <td> 0.133</td> <td>   -1.662</td> <td>    0.220</td>\n",
       "</tr>\n",
       "<tr>\n",
       "  <th>tmpf</th>            <td>   -0.0344</td> <td>    0.005</td> <td>   -6.951</td> <td> 0.000</td> <td>   -0.044</td> <td>   -0.025</td>\n",
       "</tr>\n",
       "<tr>\n",
       "  <th>relh</th>            <td>    0.0370</td> <td>    0.004</td> <td>    8.324</td> <td> 0.000</td> <td>    0.028</td> <td>    0.046</td>\n",
       "</tr>\n",
       "<tr>\n",
       "  <th>sped</th>            <td>    0.1064</td> <td>    0.019</td> <td>    5.592</td> <td> 0.000</td> <td>    0.069</td> <td>    0.144</td>\n",
       "</tr>\n",
       "<tr>\n",
       "  <th>mslp</th>            <td>    0.2248</td> <td>    0.011</td> <td>   20.716</td> <td> 0.000</td> <td>    0.204</td> <td>    0.246</td>\n",
       "</tr>\n",
       "</table>\n",
       "<table class=\"simpletable\">\n",
       "<tr>\n",
       "  <th>Omnibus:</th>       <td>611644.075</td> <th>  Durbin-Watson:     </th>   <td>   1.932</td>   \n",
       "</tr>\n",
       "<tr>\n",
       "  <th>Prob(Omnibus):</th>   <td> 0.000</td>   <th>  Jarque-Bera (JB):  </th> <td>493466998.129</td>\n",
       "</tr>\n",
       "<tr>\n",
       "  <th>Skew:</th>            <td> 8.962</td>   <th>  Prob(JB):          </th>   <td>    0.00</td>   \n",
       "</tr>\n",
       "<tr>\n",
       "  <th>Kurtosis:</th>        <td>171.899</td>  <th>  Cond. No.          </th>   <td>1.56e+05</td>   \n",
       "</tr>\n",
       "</table><br/><br/>Warnings:<br/>[1] Standard Errors assume that the covariance matrix of the errors is correctly specified.<br/>[2] The condition number is large, 1.56e+05. This might indicate that there are<br/>strong multicollinearity or other numerical problems."
      ],
      "text/plain": [
       "<class 'statsmodels.iolib.summary.Summary'>\n",
       "\"\"\"\n",
       "                            OLS Regression Results                            \n",
       "==============================================================================\n",
       "Dep. Variable:              dep_delay   R-squared:                       0.002\n",
       "Model:                            OLS   Adj. R-squared:                  0.002\n",
       "Method:                 Least Squares   F-statistic:                     85.55\n",
       "Date:                Tue, 28 Jul 2020   Prob (F-statistic):          3.68e-177\n",
       "Time:                        17:50:39   Log-Likelihood:            -2.1649e+06\n",
       "No. Observations:              410537   AIC:                         4.330e+06\n",
       "Df Residuals:                  410526   BIC:                         4.330e+06\n",
       "Df Model:                          10                                         \n",
       "Covariance Type:            nonrobust                                         \n",
       "===================================================================================\n",
       "                      coef    std err          t      P>|t|      [0.025      0.975]\n",
       "-----------------------------------------------------------------------------------\n",
       "Intercept        -219.2746     11.235    -19.517      0.000    -241.295    -197.254\n",
       "C(skyc1)[T.CLR]     0.5706      0.259      2.206      0.027       0.064       1.078\n",
       "C(skyc1)[T.FEW]     1.8005      0.231      7.809      0.000       1.349       2.252\n",
       "C(skyc1)[T.M]       9.9807      9.259      1.078      0.281      -8.167      28.128\n",
       "C(skyc1)[T.OVC]    -0.2377      0.283     -0.840      0.401      -0.793       0.317\n",
       "C(skyc1)[T.SCT]     3.3001      0.405      8.158      0.000       2.507       4.093\n",
       "C(skyc1)[T.VV ]    -0.7208      0.480     -1.502      0.133      -1.662       0.220\n",
       "tmpf               -0.0344      0.005     -6.951      0.000      -0.044      -0.025\n",
       "relh                0.0370      0.004      8.324      0.000       0.028       0.046\n",
       "sped                0.1064      0.019      5.592      0.000       0.069       0.144\n",
       "mslp                0.2248      0.011     20.716      0.000       0.204       0.246\n",
       "==============================================================================\n",
       "Omnibus:                   611644.075   Durbin-Watson:                   1.932\n",
       "Prob(Omnibus):                  0.000   Jarque-Bera (JB):        493466998.129\n",
       "Skew:                           8.962   Prob(JB):                         0.00\n",
       "Kurtosis:                     171.899   Cond. No.                     1.56e+05\n",
       "==============================================================================\n",
       "\n",
       "Warnings:\n",
       "[1] Standard Errors assume that the covariance matrix of the errors is correctly specified.\n",
       "[2] The condition number is large, 1.56e+05. This might indicate that there are\n",
       "strong multicollinearity or other numerical problems.\n",
       "\"\"\""
      ]
     },
     "execution_count": 177,
     "metadata": {},
     "output_type": "execute_result"
    }
   ],
   "source": [
    "mod = sm.OLS.from_formula('dep_delay ~ C(skyc1) + tmpf + relh + sped + mslp', data=m)\n",
    "res = mod.fit()\n",
    "res.summary()"
   ]
  },
  {
   "cell_type": "code",
   "execution_count": 181,
   "metadata": {},
   "outputs": [
    {
     "data": {
      "image/png": "[encoded data removed]",
      "text/plain": [
       "<Figure size 432x288 with 1 Axes>"
      ]
     },
     "metadata": {},
     "output_type": "display_data"
    }
   ],
   "source": [
    "fig, ax = plt.subplots()\n",
    "ax.scatter(res.fittedvalues, res.resid, color='k', marker='.', alpha=0.25)\n",
    "ax.set(xlabel='Predicted', ylabel='Residual')\n",
    "sns.despine()"
   ]
  },
  {
   "cell_type": "code",
   "execution_count": null,
   "metadata": {},
   "outputs": [],
   "source": []
  }
 ],
 "metadata": {
  "kernelspec": {
   "display_name": "Python 3",
   "language": "python",
   "name": "python3"
  },
  "language_info": {
   "codemirror_mode": {
    "name": "ipython",
    "version": 3
   },
   "file_extension": ".py",
   "mimetype": "text/x-python",
   "name": "python",
   "nbconvert_exporter": "python",
   "pygments_lexer": "ipython3",
   "version": "3.7.7"
  }
 },
 "nbformat": 4,
 "nbformat_minor": 4
}

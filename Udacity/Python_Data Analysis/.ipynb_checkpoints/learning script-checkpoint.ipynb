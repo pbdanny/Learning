{
 "cells": [
  {
   "cell_type": "code",
   "execution_count": null,
   "metadata": {
    "scrolled": true
   },
   "outputs": [],
   "source": [
    "csv = [['A', 'B', 'C'],\n",
    "      ['1', '2', '3']]\n",
    "csv1 = [{'num1':1, 'num2':2, 'num3':3},\n",
    "       {'num1':5, 'num2':4, 'num3':3}]"
   ]
  },
  {
   "cell_type": "code",
   "execution_count": null,
   "metadata": {
    "scrolled": true
   },
   "outputs": [],
   "source": [
    "print(csv)\n",
    "print(csv1)"
   ]
  },
  {
   "cell_type": "code",
   "execution_count": null,
   "metadata": {
    "scrolled": true
   },
   "outputs": [],
   "source": [
    "with open('enrollments.csv', 'r') as f:\n",
    "    reader = csv.DictReader(f)\n",
    "    # reader = csv.reader(f)\n",
    "    enrollments = list(reader)\n",
    "    # enrollments = [x for x in reader]\n",
    "enrollments[0]"
   ]
  },
  {
   "cell_type": "code",
   "execution_count": null,
   "metadata": {},
   "outputs": [],
   "source": [
    "daily_engagement[0]['account_key']"
   ]
  },
  {
   "cell_type": "markdown",
   "metadata": {},
   "source": [
    "# Learning Code start here"
   ]
  },
  {
   "cell_type": "code",
   "execution_count": 3,
   "metadata": {},
   "outputs": [],
   "source": [
    "import csv\n",
    "\n",
    "def csv_read(filename):\n",
    "    with open(filename, 'r') as f:\n",
    "        reader = csv.DictReader(f)\n",
    "        return list(reader)"
   ]
  },
  {
   "cell_type": "code",
   "execution_count": 4,
   "metadata": {},
   "outputs": [],
   "source": [
    "enrollments = csv_read('enrollments.csv')\n",
    "daily_engagement = csv_read('daily_engagement.csv')\n",
    "project_submissions = csv_read('project_submissions.csv')"
   ]
  },
  {
   "cell_type": "markdown",
   "metadata": {},
   "source": [
    "## Data cleaning"
   ]
  },
  {
   "cell_type": "code",
   "execution_count": 5,
   "metadata": {
    "scrolled": true
   },
   "outputs": [],
   "source": [
    "from datetime import datetime as dt\n",
    "\n",
    "# Takes a date as a string, and returns a Python datetime object. \n",
    "# If there is no date given, returns None\n",
    "def parse_date(date):\n",
    "    try: \n",
    "        return dt.strptime(date, '%Y-%m-%d')\n",
    "    except:\n",
    "        return date\n",
    "    \n",
    "# Takes a string which is either an empty string or represents an integer,\n",
    "# and returns an int or None.\n",
    "def parse_maybe_int(i):\n",
    "    try:\n",
    "        return int(i)\n",
    "    except:\n",
    "        return None"
   ]
  },
  {
   "cell_type": "code",
   "execution_count": 6,
   "metadata": {},
   "outputs": [],
   "source": [
    "# Clean up the data types in the enrollments table\n",
    "for enrollment in enrollments:\n",
    "    enrollment['cancel_date'] = parse_date(enrollment['cancel_date'])\n",
    "    enrollment['days_to_cancel'] = parse_maybe_int(enrollment['days_to_cancel'])\n",
    "    enrollment['is_canceled'] = enrollment['is_canceled'] == 'True'\n",
    "    enrollment['is_udacity'] = enrollment['is_udacity'] == 'True'\n",
    "    enrollment['join_date'] = parse_date(enrollment['join_date'])"
   ]
  },
  {
   "cell_type": "code",
   "execution_count": 7,
   "metadata": {},
   "outputs": [],
   "source": [
    "# Clean up the data types in the engagement table\n",
    "for engagement_record in daily_engagement:\n",
    "    engagement_record['lessons_completed'] = int(float(engagement_record['lessons_completed']))\n",
    "    engagement_record['num_courses_visited'] = int(float(engagement_record['num_courses_visited']))\n",
    "    engagement_record['projects_completed'] = int(float(engagement_record['projects_completed']))\n",
    "    engagement_record['total_minutes_visited'] = float(engagement_record['total_minutes_visited'])\n",
    "    engagement_record['utc_date'] = parse_date(engagement_record['utc_date'])"
   ]
  },
  {
   "cell_type": "code",
   "execution_count": 8,
   "metadata": {},
   "outputs": [],
   "source": [
    "# Clean up the data types in the submissions table\n",
    "for submission in project_submissions:\n",
    "    submission['completion_date'] = parse_date(submission['completion_date'])\n",
    "    submission['creation_date'] = parse_date(submission['creation_date'])"
   ]
  },
  {
   "cell_type": "code",
   "execution_count": 9,
   "metadata": {},
   "outputs": [],
   "source": [
    "# replace dict key 'acct' with key 'account_key'\n",
    "for x in daily_engagement:\n",
    "    x['account_key'] = x.pop('acct')  # pop items with account key 'acct' then create new one dict with new key"
   ]
  },
  {
   "cell_type": "markdown",
   "metadata": {},
   "source": [
    "## Investigating\n",
    "\n",
    "Find the account key enrolled but not engaged"
   ]
  },
  {
   "cell_type": "code",
   "execution_count": 10,
   "metadata": {},
   "outputs": [
    {
     "name": "stdout",
     "output_type": "stream",
     "text": [
      "enrollments with : 1640 rows and 1302 accounts\n",
      "daily_engagement with : 136240 rows and 1237 accounts\n",
      "project_submissions with : 3642 rows and 743 accounts\n"
     ]
    }
   ],
   "source": [
    "# find number of row in tables and number unique student in table\n",
    "print('enrollments with :', len(enrollments) , \\\n",
    "      'rows and', len(set(x['account_key'] for x in enrollments)), 'accounts')\n",
    "print('daily_engagement with :', len(daily_engagement) , \\\n",
    "      'rows and', len(set(x['account_key'] for x in daily_engagement)), 'accounts')\n",
    "print('project_submissions with :', len(project_submissions) , \\\n",
    "      'rows and', len(set(x['account_key'] for x in project_submissions)), 'accounts')"
   ]
  },
  {
   "cell_type": "code",
   "execution_count": 11,
   "metadata": {},
   "outputs": [],
   "source": [
    "# creaete set of unique enrollment account key and engagement account key\n",
    "enroll_acct_unique = set(x['account_key'] for x in enrollments)\n",
    "eng_acct_unique = set(x['account_key'] for x in daily_engagement)"
   ]
  },
  {
   "cell_type": "code",
   "execution_count": 12,
   "metadata": {},
   "outputs": [],
   "source": [
    "# create set of diff account form subsetting enrollment account key with engagement account key\n",
    "diff_enroll_eng_acct = enroll_acct_unique.difference(eng_acct_unique)\n",
    "enroll_diff_eng = [x for x in enrollments if x['account_key'] in diff_enroll_eng_acct]"
   ]
  },
  {
   "cell_type": "code",
   "execution_count": 13,
   "metadata": {
    "collapsed": true
   },
   "outputs": [
    {
     "name": "stdout",
     "output_type": "stream",
     "text": [
      "1063 count 1\n",
      "884 count 1\n",
      "1190 count 1\n",
      "1191 count 1\n",
      "1044 count 1\n",
      "1241 count 1\n",
      "799 count 1\n",
      "654 count 3\n",
      "1129 count 2\n",
      "875 count 1\n",
      "1101 count 1\n",
      "802 count 1\n",
      "727 count 1\n",
      "889 count 1\n",
      "1010 count 1\n",
      "1237 count 1\n",
      "871 count 1\n",
      "878 count 1\n",
      "737 count 1\n",
      "1218 count 1\n",
      "1304 count 2\n",
      "1155 count 1\n",
      "739 count 1\n",
      "1079 count 1\n",
      "1219 count 1\n",
      "914 count 2\n",
      "1186 count 1\n",
      "717 count 1\n",
      "997 count 1\n",
      "1213 count 1\n",
      "996 count 1\n",
      "1284 count 1\n",
      "817 count 1\n",
      "819 count 2\n",
      "749 count 1\n",
      "1145 count 1\n",
      "1069 count 1\n",
      "1291 count 1\n",
      "1086 count 1\n",
      "968 count 1\n",
      "1270 count 1\n",
      "1222 count 1\n",
      "728 count 1\n",
      "707 count 1\n",
      "1120 count 1\n",
      "1238 count 1\n",
      "964 count 1\n",
      "750 count 1\n",
      "841 count 1\n",
      "766 count 1\n",
      "1171 count 1\n",
      "1025 count 1\n",
      "902 count 1\n",
      "1125 count 1\n",
      "803 count 1\n",
      "733 count 1\n",
      "926 count 1\n",
      "1273 count 1\n",
      "789 count 1\n",
      "981 count 1\n",
      "870 count 1\n",
      "1148 count 1\n",
      "664 count 1\n",
      "725 count 1\n",
      "711 count 1\n"
     ]
    }
   ],
   "source": [
    "# count how duplication in diff account\n",
    "all_diff_acct = [x['account_key'] for x in enroll_diff_eng]\n",
    "for x in diff_enroll_eng_acct:\n",
    "    print(x, \"count\", all_diff_acct.count(x))\n",
    "del(all_diff_acct)"
   ]
  },
  {
   "cell_type": "markdown",
   "metadata": {},
   "source": [
    "## Remove udacity test account\n",
    "\n",
    "Excluding udacity test account, 'is_udacity' = 'True'"
   ]
  },
  {
   "cell_type": "code",
   "execution_count": 14,
   "metadata": {},
   "outputs": [],
   "source": [
    "# create set of udacity test account key \n",
    "udacity_test_acct = set(x['account_key'] for x in enrollments if x['is_udacity'])\n",
    "\n",
    "# excluding from data\n",
    "non_udacity_enrollments = [x for x in enrollments if x['account_key'] not in udacity_test_acct]\n",
    "non_udacity_engagement = [x for x in daily_engagement if x['account_key'] not in udacity_test_acct]\n",
    "non_udacity_submissions = [x for x in project_submissions if x['account_key'] not in udacity_test_acct]"
   ]
  },
  {
   "cell_type": "code",
   "execution_count": 15,
   "metadata": {},
   "outputs": [
    {
     "name": "stdout",
     "output_type": "stream",
     "text": [
      "1622\n",
      "135656\n",
      "3634\n"
     ]
    }
   ],
   "source": [
    "# check if record correct\n",
    "print(len(non_udacity_enrollments))\n",
    "print(len(non_udacity_engagement))\n",
    "print(len(non_udacity_submissions))"
   ]
  },
  {
   "cell_type": "markdown",
   "metadata": {},
   "source": [
    "## Exploration\n",
    "\n",
    "Paid student 'days_to_cancel' = None and 'days_to_cancel' > 7 (first 7 day is trial period)"
   ]
  },
  {
   "cell_type": "code",
   "execution_count": 16,
   "metadata": {},
   "outputs": [],
   "source": [
    "# dict of paid_student\n",
    "paid_students = dict()\n",
    "\n",
    "for x in non_udacity_enrollments:\n",
    "    \n",
    "        # select not cancel , cancel > 7 (paid students)\n",
    "        if x['days_to_cancel'] is None or x['days_to_cancel'] > 7:\n",
    "            account_key = x['account_key']\n",
    "            enrollment_date = x['join_date']\n",
    "            \n",
    "            # check if account_key not in paid_students then add account key and enrollment date\n",
    "            # or if account_key existed in paid_students by the enrollment date more than in paid_student\n",
    "            # update enrollment_date to latest\n",
    "            if account_key not in paid_students or enrollment_date > paid_students[account_key]:\n",
    "                paid_students[account_key] = enrollment_date"
   ]
  },
  {
   "cell_type": "code",
   "execution_count": 37,
   "metadata": {},
   "outputs": [],
   "source": [
    "# create function to remove free trail cancels\n",
    "\n",
    "def remove_free_trial_cancels(data):\n",
    "    output_data = list();\n",
    "    \n",
    "    for x in data:\n",
    "        if x['account_key'] in paid_students:\n",
    "            output_data.append(x)\n",
    "    return output_data"
   ]
  },
  {
   "cell_type": "code",
   "execution_count": 56,
   "metadata": {},
   "outputs": [
    {
     "name": "stdout",
     "output_type": "stream",
     "text": [
      "1293\n",
      "134549\n",
      "3618\n"
     ]
    }
   ],
   "source": [
    "# create data of removed free trail , cancel account \n",
    "\n",
    "paid_enrollments = remove_free_trial_cancels(non_udacity_enrollments)\n",
    "paid_engagement = remove_free_trial_cancels(non_udacity_engagement)\n",
    "paid_submissions = remove_free_trial_cancels(non_udacity_submissions)\n",
    "\n",
    "print(len(paid_enrollments))\n",
    "print(len(paid_engagement))\n",
    "print(len(paid_submissions))"
   ]
  },
  {
   "cell_type": "code",
   "execution_count": 57,
   "metadata": {},
   "outputs": [],
   "source": [
    "# Add 'has_visited' in paid_engagement if num_course_visited > 0\n",
    "for engagement in paid_engagement:\n",
    "    engagement['has_visited'] = 1 if engagement['num_courses_visited'] > 0 else 0"
   ]
  },
  {
   "cell_type": "code",
   "execution_count": 58,
   "metadata": {},
   "outputs": [],
   "source": [
    "# Takes a student's join date and the date of a specific engagement record,\n",
    "# and returns True if that engagement record happened within one week\n",
    "# of the student joining.\n",
    "def within_one_week(join_date, engagement_date):\n",
    "    time_delta = engagement_date - join_date\n",
    "    return time_delta.days < 7 and time_delta.days >= 0"
   ]
  },
  {
   "cell_type": "code",
   "execution_count": 59,
   "metadata": {},
   "outputs": [
    {
     "data": {
      "text/plain": [
       "6919"
      ]
     },
     "execution_count": 59,
     "metadata": {},
     "output_type": "execute_result"
    }
   ],
   "source": [
    "# create list paid paid_engagement_in_first_week\n",
    "paid_engagement_in_first_week = []\n",
    "\n",
    "# append data in non_udacity_engagement if criteria ma\n",
    "for engagement in paid_engagement:\n",
    "    account_key = engagement['account_key']\n",
    "    join_date = paid_students[account_key]\n",
    "    engagement_date = engagement['utc_date']\n",
    "    \n",
    "    if within_one_week(join_date, engagement_date):\n",
    "        paid_engagement_in_first_week.append(engagement)\n",
    "\n",
    "# check record\n",
    "len(paid_engagement_in_first_week)"
   ]
  },
  {
   "cell_type": "markdown",
   "metadata": {},
   "source": [
    "### Exploring student engagement\n",
    "\n",
    "Calculate total minute and average minute of engagemnet. "
   ]
  },
  {
   "cell_type": "code",
   "execution_count": 60,
   "metadata": {},
   "outputs": [],
   "source": [
    "# use defaultdict for handle missing value\n",
    "from collections import defaultdict\n",
    "\n",
    "def group_data(data, key_name):\n",
    "    \n",
    "    group_data = defaultdict(list)\n",
    "\n",
    "    # group engagement in first week by dict of 'account_key' with list of engagement records\n",
    "    for x in data:\n",
    "        key = x[key_name]\n",
    "        group_data[key].append(x)\n",
    "    return group_data\n",
    "\n",
    "engagement_by_account = group_data(paid_engagement_in_first_week, 'account_key')"
   ]
  },
  {
   "cell_type": "code",
   "execution_count": 61,
   "metadata": {},
   "outputs": [],
   "source": [
    "def sum_grouped_items(grouped_data, field_name):\n",
    "\n",
    "    # create dict of account key and sum of total minutes visited\n",
    "    total_items_by_account = {}\n",
    "\n",
    "    # dict comprehension in form of key, value \n",
    "    for key, records in grouped_data.items():\n",
    "        total_items = 0\n",
    "        # since value is list then do list comprehension, create list of total minutes visited, then summ\n",
    "        # total_minutes = sum([x['total_minutes_visited'] for x in engagement_for_students])\n",
    "        for record in records:\n",
    "            total_items += record[field_name]\n",
    "        total_items_by_account[key] = total_items\n",
    "    return total_items_by_account\n",
    "\n",
    "total_minutes_by_account = sum_grouped_items(engagement_by_account, 'total_minutes_visited')"
   ]
  },
  {
   "cell_type": "code",
   "execution_count": 62,
   "metadata": {},
   "outputs": [
    {
     "data": {
      "text/plain": [
       "306.7083267534284"
      ]
     },
     "execution_count": 62,
     "metadata": {},
     "output_type": "execute_result"
    }
   ],
   "source": [
    "# test code dict value comprehension to list and sum\n",
    "sum([v for k,v in total_minutes_by_account.items()])/len(total_minutes_by_account)"
   ]
  },
  {
   "cell_type": "code",
   "execution_count": 63,
   "metadata": {},
   "outputs": [
    {
     "name": "stdout",
     "output_type": "stream",
     "text": [
      "Mean : 306.70832675342825\n",
      "Std Dev : 412.99693340852957\n",
      "Min : 0.0\n",
      "Max : 3564.7332644989997\n"
     ]
    }
   ],
   "source": [
    "import numpy as np\n",
    "\n",
    "def describe_data(data):\n",
    "    print('Mean :', np.mean(data))\n",
    "    print('Std Dev :', np.std(data))\n",
    "    print('Min :', np.min(data))\n",
    "    print('Max :', np.max(data))\n",
    "\n",
    "# numpy input as list , convert dict.values to list\n",
    "total_minutes = list(total_minutes_by_account.values())\n",
    "describe_data(total_minutes)"
   ]
  },
  {
   "cell_type": "markdown",
   "metadata": {},
   "source": [
    "### Finding error in total minutes\n",
    "\n",
    "The total minute in one week exceed minute in one week"
   ]
  },
  {
   "cell_type": "code",
   "execution_count": null,
   "metadata": {},
   "outputs": [],
   "source": [
    "# find which account key having total minute exceeding minutes in a week (7*24*60)\n",
    "[k for k,v in total_minutes_by_account.items() if v > 10000]"
   ]
  },
  {
   "cell_type": "code",
   "execution_count": null,
   "metadata": {},
   "outputs": [],
   "source": [
    "# List out the enrollment date of target students in 'paid_students'\n",
    "paid_students['108']"
   ]
  },
  {
   "cell_type": "code",
   "execution_count": null,
   "metadata": {},
   "outputs": [],
   "source": [
    "# List out all the enrollment records of target students in 'non_udacity_enrollments' \n",
    "[x for x in non_udacity_enrollments if x['account_key'] == '108']"
   ]
  },
  {
   "cell_type": "markdown",
   "metadata": {},
   "source": [
    "Most of target students are re-enrollments paid students."
   ]
  },
  {
   "cell_type": "code",
   "execution_count": null,
   "metadata": {},
   "outputs": [],
   "source": [
    "# List out the paid minutes of target students in 'paid_engagement_in_first_week'\n",
    "[x for x in paid_engagement_in_first_week if x['account_key'] == '108']"
   ]
  },
  {
   "cell_type": "markdown",
   "metadata": {},
   "source": [
    "The 'paid_engagement_in_first_week' took the engagement records from prior enrollments in calculation."
   ]
  },
  {
   "cell_type": "markdown",
   "metadata": {},
   "source": [
    "### Exploring number of lessons completed "
   ]
  },
  {
   "cell_type": "code",
   "execution_count": 64,
   "metadata": {},
   "outputs": [],
   "source": [
    "# dict whith \n",
    "total_lesson_completed_by_account = {}\n",
    "\n",
    "# dict comprehension to find the total lesson completed by acccount\n",
    "for account_key, engagement_records in engagement_by_account.items():\n",
    "    total_lesson_completed = 0\n",
    "    for x in engagement_records:\n",
    "        total_lesson_completed += x['lessons_completed']\n",
    "    total_lesson_completed_by_account[account_key] = total_lesson_completed"
   ]
  },
  {
   "cell_type": "code",
   "execution_count": 65,
   "metadata": {},
   "outputs": [
    {
     "data": {
      "text/plain": [
       "995"
      ]
     },
     "execution_count": 65,
     "metadata": {},
     "output_type": "execute_result"
    }
   ],
   "source": [
    "len(total_lesson_completed_by_account)"
   ]
  },
  {
   "cell_type": "code",
   "execution_count": 66,
   "metadata": {},
   "outputs": [
    {
     "name": "stdout",
     "output_type": "stream",
     "text": [
      "Mean : 1.636180904522613\n",
      "Std Dev : 3.002561299829423\n",
      "Min : 0\n",
      "Max : 36\n"
     ]
    }
   ],
   "source": [
    "# convert dict to list of values for numpy calculation\n",
    "total_lesson = list(total_lesson_completed_by_account.values())\n",
    "\n",
    "import numpy as np\n",
    "print('Mean :', np.mean(total_lesson))\n",
    "print('Std Dev :', np.std(total_lesson))\n",
    "print('Min :', np.min(total_lesson))\n",
    "print('Max :', np.max(total_lesson))"
   ]
  },
  {
   "cell_type": "markdown",
   "metadata": {},
   "source": [
    "### Exploring number of day with course visited"
   ]
  },
  {
   "cell_type": "code",
   "execution_count": 78,
   "metadata": {},
   "outputs": [],
   "source": [
    "def describe_grouped_items(data, key, field):\n",
    "    \n",
    "    # summarized\n",
    "    dict_key_group_items = {}\n",
    "\n",
    "    for key, items in data.items():\n",
    "        sum_field = 0\n",
    "        \n",
    "        for item in items:\n",
    "            sum_field += item[field]\n",
    "        dict_key_group_items[key] = sum_field\n",
    "\n",
    "    # print data\n",
    "\n",
    "    grouped_data = list(dict_key_group_items.values())\n",
    "\n",
    "    import numpy as np\n",
    "    \n",
    "    print('Mean :', np.mean(grouped_data))\n",
    "    print('Std Dev :', np.std(grouped_data))\n",
    "    print('Min :', np.min(grouped_data))\n",
    "    print('Max :', np.max(grouped_data))"
   ]
  },
  {
   "cell_type": "code",
   "execution_count": 79,
   "metadata": {},
   "outputs": [
    {
     "name": "stdout",
     "output_type": "stream",
     "text": [
      "Mean : 2.8673366834170855\n",
      "Std Dev : 2.2551980029196814\n",
      "Min : 0\n",
      "Max : 7\n"
     ]
    }
   ],
   "source": [
    "describe_grouped_items(engagement_by_account, 'account_key', 'has_visited')"
   ]
  },
  {
   "cell_type": "code",
   "execution_count": null,
   "metadata": {},
   "outputs": [],
   "source": []
  }
 ],
 "metadata": {
  "kernelspec": {
   "display_name": "Python 3",
   "language": "python",
   "name": "python3"
  },
  "language_info": {
   "codemirror_mode": {
    "name": "ipython",
    "version": 3
   },
   "file_extension": ".py",
   "mimetype": "text/x-python",
   "name": "python",
   "nbconvert_exporter": "python",
   "pygments_lexer": "ipython3",
   "version": "3.6.5"
  }
 },
 "nbformat": 4,
 "nbformat_minor": 2
}

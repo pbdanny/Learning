{
 "metadata": {
  "language_info": {
   "codemirror_mode": {
    "name": "ipython",
    "version": 3
   },
   "file_extension": ".py",
   "mimetype": "text/x-python",
   "name": "python",
   "nbconvert_exporter": "python",
   "pygments_lexer": "ipython3",
   "version": "3.8.10"
  },
  "orig_nbformat": 2,
  "kernelspec": {
   "name": "python3",
   "display_name": "Python 3.8.10 64-bit ('base': conda)"
  },
  "interpreter": {
   "hash": "569d6b7e9215e11aba41c6454007e5c1b78bad7df09dab765d8cf00362c40f03"
  }
 },
 "nbformat": 4,
 "nbformat_minor": 2,
 "cells": [
  {
   "source": [
    "# XGboost  \n"
   ],
   "cell_type": "markdown",
   "metadata": {}
  },
  {
   "source": [
    "import pandas as pd\n",
    "import numpy as np\n",
    "import xgboost as xgb\n",
    "from sklearn import datasets\n",
    "from sklearn.model_selection import train_test_split"
   ],
   "cell_type": "code",
   "metadata": {},
   "execution_count": 2,
   "outputs": []
  },
  {
   "cell_type": "code",
   "execution_count": 16,
   "metadata": {},
   "outputs": [],
   "source": [
    "X, y = datasets.load_breast_cancer(return_X_y=True)"
   ]
  },
  {
   "cell_type": "code",
   "execution_count": 17,
   "metadata": {},
   "outputs": [],
   "source": [
    "X_train, X_test, y_train, y_test = train_test_split(X, y, test_size=0.2, random_state=1)"
   ]
  },
  {
   "cell_type": "code",
   "execution_count": 31,
   "metadata": {},
   "outputs": [
    {
     "output_type": "stream",
     "name": "stdout",
     "text": [
      "[10:29:27] WARNING: /opt/concourse/worker/volumes/live/7a2b9f41-3287-451b-6691-43e9a6c0910f/volume/xgboost-split_1619728204606/work/src/learner.cc:541: \nParameters: { n_esimator } might not be used.\n\n  This may not be accurate due to some parameters are only used in language bindings but\n  passed down to XGBoost core.  Or some parameters are not used but slip through this\n  verification. Please open an issue if you find above cases.\n\n\n[10:29:27] WARNING: /opt/concourse/worker/volumes/live/7a2b9f41-3287-451b-6691-43e9a6c0910f/volume/xgboost-split_1619728204606/work/src/learner.cc:1061: Starting in XGBoost 1.3.0, the default evaluation metric used with the objective 'binary:logistic' was changed from 'error' to 'logloss'. Explicitly set eval_metric if you'd like to restore the old behavior.\n"
     ]
    },
    {
     "output_type": "execute_result",
     "data": {
      "text/plain": [
       "0.956140350877193"
      ]
     },
     "metadata": {},
     "execution_count": 31
    }
   ],
   "source": [
    "xg_cl = xgb.XGBClassifier(objective='binary:logistic', n_esimator=2, seed=1)\n",
    "xg_cl.fit(X_train, y_train)\n",
    "xg_cl.score(X_train, y_train)\n",
    "xg_cl.score(X_test, y_test)"
   ]
  },
  {
   "source": [
    "## XGBoost with internal CV"
   ],
   "cell_type": "markdown",
   "metadata": {}
  },
  {
   "cell_type": "code",
   "execution_count": 33,
   "metadata": {},
   "outputs": [],
   "source": [
    "dmat = xgb.DMatrix(data=X, label=y)\n",
    "params = {'objective':'binary:logistic', 'max_depth':3}"
   ]
  },
  {
   "cell_type": "code",
   "execution_count": 51,
   "metadata": {},
   "outputs": [],
   "source": [
    "cv_results = xgb.cv(dtrain=dmat, params=params, nfold=3, num_boost_round=5, metrics='error', as_pandas=True, seed=1)"
   ]
  },
  {
   "cell_type": "code",
   "execution_count": 52,
   "metadata": {},
   "outputs": [
    {
     "output_type": "display_data",
     "data": {
      "text/plain": "   train-error-mean  train-error-std  test-error-mean  test-error-std\n0          0.023719         0.006429         0.091395        0.005084\n1          0.021085         0.003699         0.089622        0.011303\n2          0.015820         0.002169         0.086095        0.013699\n3          0.014063         0.002501         0.073796        0.008459\n4          0.011424         0.001251         0.068532        0.004162",
      "text/html": "<div>\n<style scoped>\n    .dataframe tbody tr th:only-of-type {\n        vertical-align: middle;\n    }\n\n    .dataframe tbody tr th {\n        vertical-align: top;\n    }\n\n    .dataframe thead th {\n        text-align: right;\n    }\n</style>\n<table border=\"1\" class=\"dataframe\">\n  <thead>\n    <tr style=\"text-align: right;\">\n      <th></th>\n      <th>train-error-mean</th>\n      <th>train-error-std</th>\n      <th>test-error-mean</th>\n      <th>test-error-std</th>\n    </tr>\n  </thead>\n  <tbody>\n    <tr>\n      <th>0</th>\n      <td>0.023719</td>\n      <td>0.006429</td>\n      <td>0.091395</td>\n      <td>0.005084</td>\n    </tr>\n    <tr>\n      <th>1</th>\n      <td>0.021085</td>\n      <td>0.003699</td>\n      <td>0.089622</td>\n      <td>0.011303</td>\n    </tr>\n    <tr>\n      <th>2</th>\n      <td>0.015820</td>\n      <td>0.002169</td>\n      <td>0.086095</td>\n      <td>0.013699</td>\n    </tr>\n    <tr>\n      <th>3</th>\n      <td>0.014063</td>\n      <td>0.002501</td>\n      <td>0.073796</td>\n      <td>0.008459</td>\n    </tr>\n    <tr>\n      <th>4</th>\n      <td>0.011424</td>\n      <td>0.001251</td>\n      <td>0.068532</td>\n      <td>0.004162</td>\n    </tr>\n  </tbody>\n</table>\n</div>"
     },
     "metadata": {}
    }
   ],
   "source": [
    "display(cv_results)"
   ]
  },
  {
   "cell_type": "code",
   "execution_count": 54,
   "metadata": {},
   "outputs": [
    {
     "output_type": "stream",
     "name": "stdout",
     "text": [
      "Accuracy : 0.9314676666666667\n"
     ]
    }
   ],
   "source": [
    "print(f\"Accuracy : {1-cv_results['test-error-mean'].iloc[-1]}\")"
   ]
  },
  {
   "cell_type": "code",
   "execution_count": 47,
   "metadata": {},
   "outputs": [],
   "source": [
    "cv_results = xgb.cv(dtrain=dmat, params=params, nfold=3, num_boost_round=5, metrics='auc', as_pandas=True, seed=1)"
   ]
  },
  {
   "cell_type": "code",
   "execution_count": 49,
   "metadata": {},
   "outputs": [
    {
     "output_type": "display_data",
     "data": {
      "text/plain": "   train-auc-mean  train-auc-std  test-auc-mean  test-auc-std\n0        0.988087       0.006394       0.943214      0.022613\n1        0.992319       0.004177       0.961470      0.012066\n2        0.995017       0.002916       0.963619      0.009707\n3        0.996106       0.003328       0.971925      0.013599\n4        0.998193       0.000858       0.978868      0.008518",
      "text/html": "<div>\n<style scoped>\n    .dataframe tbody tr th:only-of-type {\n        vertical-align: middle;\n    }\n\n    .dataframe tbody tr th {\n        vertical-align: top;\n    }\n\n    .dataframe thead th {\n        text-align: right;\n    }\n</style>\n<table border=\"1\" class=\"dataframe\">\n  <thead>\n    <tr style=\"text-align: right;\">\n      <th></th>\n      <th>train-auc-mean</th>\n      <th>train-auc-std</th>\n      <th>test-auc-mean</th>\n      <th>test-auc-std</th>\n    </tr>\n  </thead>\n  <tbody>\n    <tr>\n      <th>0</th>\n      <td>0.988087</td>\n      <td>0.006394</td>\n      <td>0.943214</td>\n      <td>0.022613</td>\n    </tr>\n    <tr>\n      <th>1</th>\n      <td>0.992319</td>\n      <td>0.004177</td>\n      <td>0.961470</td>\n      <td>0.012066</td>\n    </tr>\n    <tr>\n      <th>2</th>\n      <td>0.995017</td>\n      <td>0.002916</td>\n      <td>0.963619</td>\n      <td>0.009707</td>\n    </tr>\n    <tr>\n      <th>3</th>\n      <td>0.996106</td>\n      <td>0.003328</td>\n      <td>0.971925</td>\n      <td>0.013599</td>\n    </tr>\n    <tr>\n      <th>4</th>\n      <td>0.998193</td>\n      <td>0.000858</td>\n      <td>0.978868</td>\n      <td>0.008518</td>\n    </tr>\n  </tbody>\n</table>\n</div>"
     },
     "metadata": {}
    }
   ],
   "source": [
    "display(cv_results)"
   ]
  },
  {
   "cell_type": "code",
   "execution_count": 50,
   "metadata": {},
   "outputs": [
    {
     "output_type": "stream",
     "name": "stdout",
     "text": [
      "AUC score : 0.9788676666666666\n"
     ]
    }
   ],
   "source": [
    "print(f\"AUC score : {cv_results['test-auc-mean'].iloc[-1]}\")"
   ]
  },
  {
   "source": [
    "## Regression, base learner :- Tree vs Liner"
   ],
   "cell_type": "markdown",
   "metadata": {}
  },
  {
   "cell_type": "code",
   "execution_count": 1,
   "metadata": {},
   "outputs": [],
   "source": [
    "from sklearn import datasets\n",
    "from sklearn.model_selection import train_test_split\n",
    "from sklearn.metrics import mean_squared_error\n",
    "\n",
    "import xgboost as xgb\n",
    "import pandas as pd\n",
    "import numpy as np"
   ]
  },
  {
   "cell_type": "code",
   "execution_count": 2,
   "metadata": {},
   "outputs": [
    {
     "output_type": "execute_result",
     "data": {
      "text/plain": [
       "XGBRegressor(base_score=0.5, booster='gbtree', colsample_bylevel=1,\n",
       "             colsample_bynode=1, colsample_bytree=1, gamma=0, gpu_id=-1,\n",
       "             importance_type='gain', interaction_constraints='',\n",
       "             learning_rate=0.300000012, max_delta_step=0, max_depth=6,\n",
       "             min_child_weight=1, missing=nan, monotone_constraints='()',\n",
       "             n_estimators=10, n_jobs=4, num_parallel_tree=1, random_state=1,\n",
       "             reg_alpha=0, reg_lambda=1, scale_pos_weight=1, seed=1, subsample=1,\n",
       "             tree_method='exact', validate_parameters=1, verbosity=None)"
      ]
     },
     "metadata": {},
     "execution_count": 2
    }
   ],
   "source": [
    "X, y = datasets.load_boston(return_X_y=True)\n",
    "X_train, X_test, y_train, y_test = train_test_split(X, y, test_size=0.2, random_state=1)\n",
    "xg_reg = xgb.XGBRegressor(objective='reg:squarederror', booster='gbtree', n_estimators=10, seed=1)\n",
    "xg_reg.fit(X_train, y_train)"
   ]
  },
  {
   "cell_type": "code",
   "execution_count": 3,
   "metadata": {},
   "outputs": [
    {
     "output_type": "stream",
     "name": "stdout",
     "text": [
      "0.8952330128562036\n3.217739554655791\n"
     ]
    }
   ],
   "source": [
    "pred = xg_reg.predict(X_test)\n",
    "print(xg_reg.score(X_test, y_test))\n",
    "print(np.sqrt(mean_squared_error(y_test, pred)))"
   ]
  },
  {
   "source": [
    "### Test with **base learner** : Linear learner"
   ],
   "cell_type": "markdown",
   "metadata": {}
  },
  {
   "cell_type": "code",
   "execution_count": 5,
   "metadata": {},
   "outputs": [],
   "source": [
    "DM_train = xgb.DMatrix(X_train, y_train)\n",
    "DM_test = xgb.DMatrix(X_test, y_test)\n",
    "\n",
    "params = {'objective':'reg:squarederror', 'booster':'gblinear'}\n",
    "xg_reg = xgb.train(params=params, dtrain=DM_train, num_boost_round=5)"
   ]
  },
  {
   "cell_type": "code",
   "execution_count": 5,
   "metadata": {},
   "outputs": [
    {
     "output_type": "stream",
     "name": "stdout",
     "text": [
      "RMSE : 3.217739554655791\n"
     ]
    }
   ],
   "source": [
    "preds = xg_reg.predict(DM_test)\n",
    "print(f'RMSE : {np.sqrt(mean_squared_error(y_test, pred))}')"
   ]
  },
  {
   "source": [
    "### use XGBoost CV to validate score"
   ],
   "cell_type": "markdown",
   "metadata": {}
  },
  {
   "cell_type": "code",
   "execution_count": 30,
   "metadata": {},
   "outputs": [
    {
     "output_type": "display_data",
     "data": {
      "text/plain": "   train-rmse-mean  train-rmse-std  test-rmse-mean  test-rmse-std\n0        17.086099        0.228286       17.196007       0.881072\n1        12.365261        0.142878       12.643228       0.853708\n2         9.052820        0.099086        9.510668       0.941303\n3         6.712938        0.067386        7.391999       0.908406\n4         5.090067        0.059899        5.955338       0.883007",
      "text/html": "<div>\n<style scoped>\n    .dataframe tbody tr th:only-of-type {\n        vertical-align: middle;\n    }\n\n    .dataframe tbody tr th {\n        vertical-align: top;\n    }\n\n    .dataframe thead th {\n        text-align: right;\n    }\n</style>\n<table border=\"1\" class=\"dataframe\">\n  <thead>\n    <tr style=\"text-align: right;\">\n      <th></th>\n      <th>train-rmse-mean</th>\n      <th>train-rmse-std</th>\n      <th>test-rmse-mean</th>\n      <th>test-rmse-std</th>\n    </tr>\n  </thead>\n  <tbody>\n    <tr>\n      <th>0</th>\n      <td>17.086099</td>\n      <td>0.228286</td>\n      <td>17.196007</td>\n      <td>0.881072</td>\n    </tr>\n    <tr>\n      <th>1</th>\n      <td>12.365261</td>\n      <td>0.142878</td>\n      <td>12.643228</td>\n      <td>0.853708</td>\n    </tr>\n    <tr>\n      <th>2</th>\n      <td>9.052820</td>\n      <td>0.099086</td>\n      <td>9.510668</td>\n      <td>0.941303</td>\n    </tr>\n    <tr>\n      <th>3</th>\n      <td>6.712938</td>\n      <td>0.067386</td>\n      <td>7.391999</td>\n      <td>0.908406</td>\n    </tr>\n    <tr>\n      <th>4</th>\n      <td>5.090067</td>\n      <td>0.059899</td>\n      <td>5.955338</td>\n      <td>0.883007</td>\n    </tr>\n  </tbody>\n</table>\n</div>"
     },
     "metadata": {}
    }
   ],
   "source": [
    "# rmse score\n",
    "params = {'objective':'reg:squarederror', 'max_depth':4}\n",
    "cv_results = xgb.cv(params=params, dtrain=DM_train, nfold=4, num_boost_round=5, metrics='rmse', as_pandas=True, seed=1)\n",
    "display(cv_results)"
   ]
  },
  {
   "cell_type": "code",
   "execution_count": 31,
   "metadata": {},
   "outputs": [
    {
     "output_type": "display_data",
     "data": {
      "text/plain": "   train-mae-mean  train-mae-std  test-mae-mean  test-mae-std\n0       15.567535       0.175179      15.600208      0.659701\n1       11.032132       0.125386      11.087799      0.607374\n2        7.845194       0.075278       7.998179      0.548706\n3        5.606711       0.052902       5.885356      0.447459\n4        4.056473       0.043808       4.442265      0.393131",
      "text/html": "<div>\n<style scoped>\n    .dataframe tbody tr th:only-of-type {\n        vertical-align: middle;\n    }\n\n    .dataframe tbody tr th {\n        vertical-align: top;\n    }\n\n    .dataframe thead th {\n        text-align: right;\n    }\n</style>\n<table border=\"1\" class=\"dataframe\">\n  <thead>\n    <tr style=\"text-align: right;\">\n      <th></th>\n      <th>train-mae-mean</th>\n      <th>train-mae-std</th>\n      <th>test-mae-mean</th>\n      <th>test-mae-std</th>\n    </tr>\n  </thead>\n  <tbody>\n    <tr>\n      <th>0</th>\n      <td>15.567535</td>\n      <td>0.175179</td>\n      <td>15.600208</td>\n      <td>0.659701</td>\n    </tr>\n    <tr>\n      <th>1</th>\n      <td>11.032132</td>\n      <td>0.125386</td>\n      <td>11.087799</td>\n      <td>0.607374</td>\n    </tr>\n    <tr>\n      <th>2</th>\n      <td>7.845194</td>\n      <td>0.075278</td>\n      <td>7.998179</td>\n      <td>0.548706</td>\n    </tr>\n    <tr>\n      <th>3</th>\n      <td>5.606711</td>\n      <td>0.052902</td>\n      <td>5.885356</td>\n      <td>0.447459</td>\n    </tr>\n    <tr>\n      <th>4</th>\n      <td>4.056473</td>\n      <td>0.043808</td>\n      <td>4.442265</td>\n      <td>0.393131</td>\n    </tr>\n  </tbody>\n</table>\n</div>"
     },
     "metadata": {}
    }
   ],
   "source": [
    "params = {'objective':'reg:squarederror', 'max_depth':4}\n",
    "cv_results = xgb.cv(params=params, dtrain=DM_train, nfold=4, num_boost_round=5, metrics='mae', as_pandas=True, seed=1)\n",
    "display(cv_results)"
   ]
  },
  {
   "source": [
    "### Regularization\n",
    "`alpha` : L1 regularlization `Ridge` , regularlization on $ |coefficient| $  <- hard penalities, fast reduce loss, coef. goes to 0 easily  \n",
    "`lambda` : L2 regularlization `Lasso`, regularlization on $ coefficient^2 $  <- soft penalties  \n",
    "`gamma` : loss reduction for tree-based splitting, higher -> less split  "
   ],
   "cell_type": "markdown",
   "metadata": {}
  },
  {
   "cell_type": "code",
   "execution_count": 102,
   "metadata": {},
   "outputs": [],
   "source": [
    "params = {'objective':'reg:squarederror', 'max_depth':3}\n",
    "alphas = [1, 10, 100]\n",
    "rmse_l1 = []\n",
    "for alpha in alphas:\n",
    "    params['alpha'] = alpha\n",
    "    cv_results = xgb.cv(params=params, dtrain=DM_train, nfold=2, num_boost_round=5, metrics='rmse', as_pandas=True, seed=1)\n",
    "    rmse_l1.append(cv_results['test-rmse-mean'].iloc[-1])"
   ]
  },
  {
   "cell_type": "code",
   "execution_count": 103,
   "metadata": {},
   "outputs": [
    {
     "output_type": "stream",
     "name": "stdout",
     "text": [
      "    l1      rmse\n0    1  6.268778\n1   10  6.516564\n2  100  7.560981\n"
     ]
    }
   ],
   "source": [
    "print(pd.DataFrame(list(zip(lambs, rmse_l1)), columns=[\"l1\", \"rmse\"]))"
   ]
  },
  {
   "cell_type": "code",
   "execution_count": 5,
   "metadata": {},
   "outputs": [],
   "source": [
    "params = {'objective':'reg:squarederror', 'max_depth':3}\n",
    "lambs = [1, 10, 100]\n",
    "rmse_l2 = []\n",
    "for lamb in lambs:\n",
    "    params['lambda'] = lamb\n",
    "    cv_results = xgb.cv(params=params, dtrain=DM_train, nfold=2, num_boost_round=5, metrics='rmse', as_pandas=True, seed=1)\n",
    "    rmse_l2.append(cv_results['test-rmse-mean'].iloc[-1])"
   ]
  },
  {
   "cell_type": "code",
   "execution_count": 6,
   "metadata": {},
   "outputs": [
    {
     "output_type": "stream",
     "name": "stdout",
     "text": [
      "    l2       rmse\n0    1   6.275088\n1   10   7.580495\n2  100  11.085930\n"
     ]
    }
   ],
   "source": [
    "print(pd.DataFrame(list(zip(lambs, rmse_l2)), columns=[\"l2\", \"rmse\"]))"
   ]
  },
  {
   "source": [
    "### Plot tree"
   ],
   "cell_type": "markdown",
   "metadata": {}
  },
  {
   "cell_type": "code",
   "execution_count": 6,
   "metadata": {},
   "outputs": [
    {
     "output_type": "execute_result",
     "data": {
      "text/plain": [
       "<AxesSubplot:>"
      ]
     },
     "metadata": {},
     "execution_count": 6
    },
    {
     "output_type": "display_data",
     "data": {
      "text/plain": "<Figure size 432x288 with 1 Axes>",
      "image/svg+xml": "<?xml version=\"1.0\" encoding=\"utf-8\" standalone=\"no\"?>\n<!DOCTYPE svg PUBLIC \"-//W3C//DTD SVG 1.1//EN\"\n  \"http://www.w3.org/Graphics/SVG/1.1/DTD/svg11.dtd\">\n<!-- Created with matplotlib (https://matplotlib.org/) -->\n<svg height=\"127.555401pt\" version=\"1.1\" viewBox=\"0 0 349.2 127.555401\" width=\"349.2pt\" xmlns=\"http://www.w3.org/2000/svg\" xmlns:xlink=\"http://www.w3.org/1999/xlink\">\n <metadata>\n  <rdf:RDF xmlns:cc=\"http://creativecommons.org/ns#\" xmlns:dc=\"http://purl.org/dc/elements/1.1/\" xmlns:rdf=\"http://www.w3.org/1999/02/22-rdf-syntax-ns#\">\n   <cc:Work>\n    <dc:type rdf:resource=\"http://purl.org/dc/dcmitype/StillImage\"/>\n    <dc:date>2021-07-11T12:13:11.446559</dc:date>\n    <dc:format>image/svg+xml</dc:format>\n    <dc:creator>\n     <cc:Agent>\n      <dc:title>Matplotlib v3.3.4, https://matplotlib.org/</dc:title>\n     </cc:Agent>\n    </dc:creator>\n   </cc:Work>\n  </rdf:RDF>\n </metadata>\n <defs>\n  <style type=\"text/css\">*{stroke-linecap:butt;stroke-linejoin:round;}</style>\n </defs>\n <g id=\"figure_1\">\n  <g id=\"patch_1\">\n   <path d=\"M 0 127.555401 \nL 349.2 127.555401 \nL 349.2 0 \nL 0 0 \nz\n\" style=\"fill:none;\"/>\n  </g>\n  <g id=\"axes_1\">\n   <g clip-path=\"url(#pd1db71622d)\">\n    <image height=\"114\" id=\"imageb30dc61d21\" transform=\"scale(1 -1)translate(0 -114)\" width=\"335\" x=\"7.2\" xlink:href=\"data:image/png;base64,\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\" y=\"-6.355401\"/>\n   </g>\n  </g>\n </g>\n <defs>\n  <clipPath id=\"pd1db71622d\">\n   <rect height=\"113.155401\" width=\"334.8\" x=\"7.2\" y=\"7.2\"/>\n  </clipPath>\n </defs>\n</svg>\n",
      "image/png": "[encoded data removed]"
     },
     "metadata": {
      "needs_background": "light"
     }
    }
   ],
   "source": [
    "params = {'objective':'reg:squarederror', 'max_depth':2}\n",
    "xg_reg = xgb.train(params=params, dtrain=DM_train, num_boost_round=10)\n",
    "xgb.plot_tree(xg_reg, num_trees=0)"
   ]
  },
  {
   "cell_type": "code",
   "execution_count": 7,
   "metadata": {},
   "outputs": [
    {
     "output_type": "execute_result",
     "data": {
      "text/plain": [
       "<AxesSubplot:>"
      ]
     },
     "metadata": {},
     "execution_count": 7
    },
    {
     "output_type": "display_data",
     "data": {
      "text/plain": "<Figure size 432x288 with 1 Axes>",
      "image/svg+xml": "<?xml version=\"1.0\" encoding=\"utf-8\" standalone=\"no\"?>\n<!DOCTYPE svg PUBLIC \"-//W3C//DTD SVG 1.1//EN\"\n  \"http://www.w3.org/Graphics/SVG/1.1/DTD/svg11.dtd\">\n<!-- Created with matplotlib (https://matplotlib.org/) -->\n<svg height=\"117.849438pt\" version=\"1.1\" viewBox=\"0 0 349.2 117.849438\" width=\"349.2pt\" xmlns=\"http://www.w3.org/2000/svg\" xmlns:xlink=\"http://www.w3.org/1999/xlink\">\n <metadata>\n  <rdf:RDF xmlns:cc=\"http://creativecommons.org/ns#\" xmlns:dc=\"http://purl.org/dc/elements/1.1/\" xmlns:rdf=\"http://www.w3.org/1999/02/22-rdf-syntax-ns#\">\n   <cc:Work>\n    <dc:type rdf:resource=\"http://purl.org/dc/dcmitype/StillImage\"/>\n    <dc:date>2021-07-11T12:14:25.156736</dc:date>\n    <dc:format>image/svg+xml</dc:format>\n    <dc:creator>\n     <cc:Agent>\n      <dc:title>Matplotlib v3.3.4, https://matplotlib.org/</dc:title>\n     </cc:Agent>\n    </dc:creator>\n   </cc:Work>\n  </rdf:RDF>\n </metadata>\n <defs>\n  <style type=\"text/css\">*{stroke-linecap:butt;stroke-linejoin:round;}</style>\n </defs>\n <g id=\"figure_1\">\n  <g id=\"patch_1\">\n   <path d=\"M 0 117.849438 \nL 349.2 117.849438 \nL 349.2 0 \nL 0 0 \nz\n\" style=\"fill:none;\"/>\n  </g>\n  <g id=\"axes_1\">\n   <g clip-path=\"url(#p753f4fa7b5)\">\n    <image height=\"104\" id=\"image5ac0ccd23d\" transform=\"scale(1 -1)translate(0 -104)\" width=\"335\" x=\"7.2\" xlink:href=\"data:image/png;base64,\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\" y=\"-6.649438\"/>\n   </g>\n  </g>\n </g>\n <defs>\n  <clipPath id=\"p753f4fa7b5\">\n   <rect height=\"103.449438\" width=\"334.8\" x=\"7.2\" y=\"7.2\"/>\n  </clipPath>\n </defs>\n</svg>\n",
      "image/png": "[encoded data removed]"
     },
     "metadata": {
      "needs_background": "light"
     }
    }
   ],
   "source": [
    "xgb.plot_tree(xg_reg, num_trees=9, rankdir='LR')"
   ]
  },
  {
   "cell_type": "code",
   "execution_count": 8,
   "metadata": {},
   "outputs": [
    {
     "output_type": "execute_result",
     "data": {
      "text/plain": [
       "<AxesSubplot:title={'center':'Feature importance'}, xlabel='F score', ylabel='Features'>"
      ]
     },
     "metadata": {},
     "execution_count": 8
    },
    {
     "output_type": "display_data",
     "data": {
      "text/plain": "<Figure size 432x288 with 1 Axes>",
      "image/svg+xml": "<?xml version=\"1.0\" encoding=\"utf-8\" standalone=\"no\"?>\n<!DOCTYPE svg PUBLIC \"-//W3C//DTD SVG 1.1//EN\"\n  \"http://www.w3.org/Graphics/SVG/1.1/DTD/svg11.dtd\">\n<!-- Created with matplotlib (https://matplotlib.org/) -->\n<svg height=\"277.314375pt\" version=\"1.1\" viewBox=\"0 0 405.530093 277.314375\" width=\"405.530093pt\" xmlns=\"http://www.w3.org/2000/svg\" xmlns:xlink=\"http://www.w3.org/1999/xlink\">\n <metadata>\n  <rdf:RDF xmlns:cc=\"http://creativecommons.org/ns#\" xmlns:dc=\"http://purl.org/dc/elements/1.1/\" xmlns:rdf=\"http://www.w3.org/1999/02/22-rdf-syntax-ns#\">\n   <cc:Work>\n    <dc:type rdf:resource=\"http://purl.org/dc/dcmitype/StillImage\"/>\n    <dc:date>2021-07-11T12:18:55.038321</dc:date>\n    <dc:format>image/svg+xml</dc:format>\n    <dc:creator>\n     <cc:Agent>\n      <dc:title>Matplotlib v3.3.4, https://matplotlib.org/</dc:title>\n     </cc:Agent>\n    </dc:creator>\n   </cc:Work>\n  </rdf:RDF>\n </metadata>\n <defs>\n  <style type=\"text/css\">*{stroke-linecap:butt;stroke-linejoin:round;}</style>\n </defs>\n <g id=\"figure_1\">\n  <g id=\"patch_1\">\n   <path d=\"M 0 277.314375 \nL 405.530093 277.314375 \nL 405.530093 0 \nL 0 0 \nz\n\" style=\"fill:none;\"/>\n  </g>\n  <g id=\"axes_1\">\n   <g id=\"patch_2\">\n    <path d=\"M 44.123438 239.758125 \nL 378.923438 239.758125 \nL 378.923438 22.318125 \nL 44.123438 22.318125 \nz\n\" style=\"fill:#ffffff;\"/>\n   </g>\n   <g id=\"patch_3\">\n    <path clip-path=\"url(#pcd1b5bbda6)\" d=\"M 44.123438 215.296125 \nL 87.603957 215.296125 \nL 87.603957 209.860125 \nL 44.123438 209.860125 \nz\n\" style=\"fill:#1f77b4;\"/>\n   </g>\n   <g id=\"patch_4\">\n    <path clip-path=\"url(#pcd1b5bbda6)\" d=\"M 44.123438 188.116125 \nL 174.564996 188.116125 \nL 174.564996 182.680125 \nL 44.123438 182.680125 \nz\n\" style=\"fill:#1f77b4;\"/>\n   </g>\n   <g id=\"patch_5\">\n    <path clip-path=\"url(#pcd1b5bbda6)\" d=\"M 44.123438 160.936125 \nL 174.564996 160.936125 \nL 174.564996 155.500125 \nL 44.123438 155.500125 \nz\n\" style=\"fill:#1f77b4;\"/>\n   </g>\n   <g id=\"patch_6\">\n    <path clip-path=\"url(#pcd1b5bbda6)\" d=\"M 44.123438 133.756125 \nL 218.045515 133.756125 \nL 218.045515 128.320125 \nL 44.123438 128.320125 \nz\n\" style=\"fill:#1f77b4;\"/>\n   </g>\n   <g id=\"patch_7\">\n    <path clip-path=\"url(#pcd1b5bbda6)\" d=\"M 44.123438 106.576125 \nL 261.526035 106.576125 \nL 261.526035 101.140125 \nL 44.123438 101.140125 \nz\n\" style=\"fill:#1f77b4;\"/>\n   </g>\n   <g id=\"patch_8\">\n    <path clip-path=\"url(#pcd1b5bbda6)\" d=\"M 44.123438 79.396125 \nL 348.487074 79.396125 \nL 348.487074 73.960125 \nL 44.123438 73.960125 \nz\n\" style=\"fill:#1f77b4;\"/>\n   </g>\n   <g id=\"patch_9\">\n    <path clip-path=\"url(#pcd1b5bbda6)\" d=\"M 44.123438 52.216125 \nL 348.487074 52.216125 \nL 348.487074 46.780125 \nL 44.123438 46.780125 \nz\n\" style=\"fill:#1f77b4;\"/>\n   </g>\n   <g id=\"matplotlib.axis_1\">\n    <g id=\"xtick_1\">\n     <g id=\"line2d_1\">\n      <path clip-path=\"url(#pcd1b5bbda6)\" d=\"M 44.123438 239.758125 \nL 44.123438 22.318125 \n\" style=\"fill:none;stroke:#b0b0b0;stroke-linecap:square;stroke-width:0.8;\"/>\n     </g>\n     <g id=\"line2d_2\">\n      <defs>\n       <path d=\"M 0 0 \nL 0 3.5 \n\" id=\"m94c59f6b6d\" style=\"stroke:#000000;stroke-width:0.8;\"/>\n      </defs>\n      <g>\n       <use style=\"stroke:#000000;stroke-width:0.8;\" x=\"44.123438\" xlink:href=\"#m94c59f6b6d\" y=\"239.758125\"/>\n      </g>\n     </g>\n     <g id=\"text_1\">\n      <!-- 0 -->\n      <g transform=\"translate(40.942188 254.356562)scale(0.1 -0.1)\">\n       <defs>\n        <path d=\"M 31.78125 66.40625 \nQ 24.171875 66.40625 20.328125 58.90625 \nQ 16.5 51.421875 16.5 36.375 \nQ 16.5 21.390625 20.328125 13.890625 \nQ 24.171875 6.390625 31.78125 6.390625 \nQ 39.453125 6.390625 43.28125 13.890625 \nQ 47.125 21.390625 47.125 36.375 \nQ 47.125 51.421875 43.28125 58.90625 \nQ 39.453125 66.40625 31.78125 66.40625 \nz\nM 31.78125 74.21875 \nQ 44.046875 74.21875 50.515625 64.515625 \nQ 56.984375 54.828125 56.984375 36.375 \nQ 56.984375 17.96875 50.515625 8.265625 \nQ 44.046875 -1.421875 31.78125 -1.421875 \nQ 19.53125 -1.421875 13.0625 8.265625 \nQ 6.59375 17.96875 6.59375 36.375 \nQ 6.59375 54.828125 13.0625 64.515625 \nQ 19.53125 74.21875 31.78125 74.21875 \nz\n\" id=\"DejaVuSans-48\"/>\n       </defs>\n       <use xlink:href=\"#DejaVuSans-48\"/>\n      </g>\n     </g>\n    </g>\n    <g id=\"xtick_2\">\n     <g id=\"line2d_3\">\n      <path clip-path=\"url(#pcd1b5bbda6)\" d=\"M 87.603957 239.758125 \nL 87.603957 22.318125 \n\" style=\"fill:none;stroke:#b0b0b0;stroke-linecap:square;stroke-width:0.8;\"/>\n     </g>\n     <g id=\"line2d_4\">\n      <g>\n       <use style=\"stroke:#000000;stroke-width:0.8;\" x=\"87.603957\" xlink:href=\"#m94c59f6b6d\" y=\"239.758125\"/>\n      </g>\n     </g>\n     <g id=\"text_2\">\n      <!-- 1 -->\n      <g transform=\"translate(84.422707 254.356562)scale(0.1 -0.1)\">\n       <defs>\n        <path d=\"M 12.40625 8.296875 \nL 28.515625 8.296875 \nL 28.515625 63.921875 \nL 10.984375 60.40625 \nL 10.984375 69.390625 \nL 28.421875 72.90625 \nL 38.28125 72.90625 \nL 38.28125 8.296875 \nL 54.390625 8.296875 \nL 54.390625 0 \nL 12.40625 0 \nz\n\" id=\"DejaVuSans-49\"/>\n       </defs>\n       <use xlink:href=\"#DejaVuSans-49\"/>\n      </g>\n     </g>\n    </g>\n    <g id=\"xtick_3\">\n     <g id=\"line2d_5\">\n      <path clip-path=\"url(#pcd1b5bbda6)\" d=\"M 131.084476 239.758125 \nL 131.084476 22.318125 \n\" style=\"fill:none;stroke:#b0b0b0;stroke-linecap:square;stroke-width:0.8;\"/>\n     </g>\n     <g id=\"line2d_6\">\n      <g>\n       <use style=\"stroke:#000000;stroke-width:0.8;\" x=\"131.084476\" xlink:href=\"#m94c59f6b6d\" y=\"239.758125\"/>\n      </g>\n     </g>\n     <g id=\"text_3\">\n      <!-- 2 -->\n      <g transform=\"translate(127.903226 254.356562)scale(0.1 -0.1)\">\n       <defs>\n        <path d=\"M 19.1875 8.296875 \nL 53.609375 8.296875 \nL 53.609375 0 \nL 7.328125 0 \nL 7.328125 8.296875 \nQ 12.9375 14.109375 22.625 23.890625 \nQ 32.328125 33.6875 34.8125 36.53125 \nQ 39.546875 41.84375 41.421875 45.53125 \nQ 43.3125 49.21875 43.3125 52.78125 \nQ 43.3125 58.59375 39.234375 62.25 \nQ 35.15625 65.921875 28.609375 65.921875 \nQ 23.96875 65.921875 18.8125 64.3125 \nQ 13.671875 62.703125 7.8125 59.421875 \nL 7.8125 69.390625 \nQ 13.765625 71.78125 18.9375 73 \nQ 24.125 74.21875 28.421875 74.21875 \nQ 39.75 74.21875 46.484375 68.546875 \nQ 53.21875 62.890625 53.21875 53.421875 \nQ 53.21875 48.921875 51.53125 44.890625 \nQ 49.859375 40.875 45.40625 35.40625 \nQ 44.1875 33.984375 37.640625 27.21875 \nQ 31.109375 20.453125 19.1875 8.296875 \nz\n\" id=\"DejaVuSans-50\"/>\n       </defs>\n       <use xlink:href=\"#DejaVuSans-50\"/>\n      </g>\n     </g>\n    </g>\n    <g id=\"xtick_4\">\n     <g id=\"line2d_7\">\n      <path clip-path=\"url(#pcd1b5bbda6)\" d=\"M 174.564996 239.758125 \nL 174.564996 22.318125 \n\" style=\"fill:none;stroke:#b0b0b0;stroke-linecap:square;stroke-width:0.8;\"/>\n     </g>\n     <g id=\"line2d_8\">\n      <g>\n       <use style=\"stroke:#000000;stroke-width:0.8;\" x=\"174.564996\" xlink:href=\"#m94c59f6b6d\" y=\"239.758125\"/>\n      </g>\n     </g>\n     <g id=\"text_4\">\n      <!-- 3 -->\n      <g transform=\"translate(171.383746 254.356562)scale(0.1 -0.1)\">\n       <defs>\n        <path d=\"M 40.578125 39.3125 \nQ 47.65625 37.796875 51.625 33 \nQ 55.609375 28.21875 55.609375 21.1875 \nQ 55.609375 10.40625 48.1875 4.484375 \nQ 40.765625 -1.421875 27.09375 -1.421875 \nQ 22.515625 -1.421875 17.65625 -0.515625 \nQ 12.796875 0.390625 7.625 2.203125 \nL 7.625 11.71875 \nQ 11.71875 9.328125 16.59375 8.109375 \nQ 21.484375 6.890625 26.8125 6.890625 \nQ 36.078125 6.890625 40.9375 10.546875 \nQ 45.796875 14.203125 45.796875 21.1875 \nQ 45.796875 27.640625 41.28125 31.265625 \nQ 36.765625 34.90625 28.71875 34.90625 \nL 20.21875 34.90625 \nL 20.21875 43.015625 \nL 29.109375 43.015625 \nQ 36.375 43.015625 40.234375 45.921875 \nQ 44.09375 48.828125 44.09375 54.296875 \nQ 44.09375 59.90625 40.109375 62.90625 \nQ 36.140625 65.921875 28.71875 65.921875 \nQ 24.65625 65.921875 20.015625 65.03125 \nQ 15.375 64.15625 9.8125 62.3125 \nL 9.8125 71.09375 \nQ 15.4375 72.65625 20.34375 73.4375 \nQ 25.25 74.21875 29.59375 74.21875 \nQ 40.828125 74.21875 47.359375 69.109375 \nQ 53.90625 64.015625 53.90625 55.328125 \nQ 53.90625 49.265625 50.4375 45.09375 \nQ 46.96875 40.921875 40.578125 39.3125 \nz\n\" id=\"DejaVuSans-51\"/>\n       </defs>\n       <use xlink:href=\"#DejaVuSans-51\"/>\n      </g>\n     </g>\n    </g>\n    <g id=\"xtick_5\">\n     <g id=\"line2d_9\">\n      <path clip-path=\"url(#pcd1b5bbda6)\" d=\"M 218.045515 239.758125 \nL 218.045515 22.318125 \n\" style=\"fill:none;stroke:#b0b0b0;stroke-linecap:square;stroke-width:0.8;\"/>\n     </g>\n     <g id=\"line2d_10\">\n      <g>\n       <use style=\"stroke:#000000;stroke-width:0.8;\" x=\"218.045515\" xlink:href=\"#m94c59f6b6d\" y=\"239.758125\"/>\n      </g>\n     </g>\n     <g id=\"text_5\">\n      <!-- 4 -->\n      <g transform=\"translate(214.864265 254.356562)scale(0.1 -0.1)\">\n       <defs>\n        <path d=\"M 37.796875 64.3125 \nL 12.890625 25.390625 \nL 37.796875 25.390625 \nz\nM 35.203125 72.90625 \nL 47.609375 72.90625 \nL 47.609375 25.390625 \nL 58.015625 25.390625 \nL 58.015625 17.1875 \nL 47.609375 17.1875 \nL 47.609375 0 \nL 37.796875 0 \nL 37.796875 17.1875 \nL 4.890625 17.1875 \nL 4.890625 26.703125 \nz\n\" id=\"DejaVuSans-52\"/>\n       </defs>\n       <use xlink:href=\"#DejaVuSans-52\"/>\n      </g>\n     </g>\n    </g>\n    <g id=\"xtick_6\">\n     <g id=\"line2d_11\">\n      <path clip-path=\"url(#pcd1b5bbda6)\" d=\"M 261.526035 239.758125 \nL 261.526035 22.318125 \n\" style=\"fill:none;stroke:#b0b0b0;stroke-linecap:square;stroke-width:0.8;\"/>\n     </g>\n     <g id=\"line2d_12\">\n      <g>\n       <use style=\"stroke:#000000;stroke-width:0.8;\" x=\"261.526035\" xlink:href=\"#m94c59f6b6d\" y=\"239.758125\"/>\n      </g>\n     </g>\n     <g id=\"text_6\">\n      <!-- 5 -->\n      <g transform=\"translate(258.344785 254.356562)scale(0.1 -0.1)\">\n       <defs>\n        <path d=\"M 10.796875 72.90625 \nL 49.515625 72.90625 \nL 49.515625 64.59375 \nL 19.828125 64.59375 \nL 19.828125 46.734375 \nQ 21.96875 47.46875 24.109375 47.828125 \nQ 26.265625 48.1875 28.421875 48.1875 \nQ 40.625 48.1875 47.75 41.5 \nQ 54.890625 34.8125 54.890625 23.390625 \nQ 54.890625 11.625 47.5625 5.09375 \nQ 40.234375 -1.421875 26.90625 -1.421875 \nQ 22.3125 -1.421875 17.546875 -0.640625 \nQ 12.796875 0.140625 7.71875 1.703125 \nL 7.71875 11.625 \nQ 12.109375 9.234375 16.796875 8.0625 \nQ 21.484375 6.890625 26.703125 6.890625 \nQ 35.15625 6.890625 40.078125 11.328125 \nQ 45.015625 15.765625 45.015625 23.390625 \nQ 45.015625 31 40.078125 35.4375 \nQ 35.15625 39.890625 26.703125 39.890625 \nQ 22.75 39.890625 18.8125 39.015625 \nQ 14.890625 38.140625 10.796875 36.28125 \nz\n\" id=\"DejaVuSans-53\"/>\n       </defs>\n       <use xlink:href=\"#DejaVuSans-53\"/>\n      </g>\n     </g>\n    </g>\n    <g id=\"xtick_7\">\n     <g id=\"line2d_13\">\n      <path clip-path=\"url(#pcd1b5bbda6)\" d=\"M 305.006554 239.758125 \nL 305.006554 22.318125 \n\" style=\"fill:none;stroke:#b0b0b0;stroke-linecap:square;stroke-width:0.8;\"/>\n     </g>\n     <g id=\"line2d_14\">\n      <g>\n       <use style=\"stroke:#000000;stroke-width:0.8;\" x=\"305.006554\" xlink:href=\"#m94c59f6b6d\" y=\"239.758125\"/>\n      </g>\n     </g>\n     <g id=\"text_7\">\n      <!-- 6 -->\n      <g transform=\"translate(301.825304 254.356562)scale(0.1 -0.1)\">\n       <defs>\n        <path d=\"M 33.015625 40.375 \nQ 26.375 40.375 22.484375 35.828125 \nQ 18.609375 31.296875 18.609375 23.390625 \nQ 18.609375 15.53125 22.484375 10.953125 \nQ 26.375 6.390625 33.015625 6.390625 \nQ 39.65625 6.390625 43.53125 10.953125 \nQ 47.40625 15.53125 47.40625 23.390625 \nQ 47.40625 31.296875 43.53125 35.828125 \nQ 39.65625 40.375 33.015625 40.375 \nz\nM 52.59375 71.296875 \nL 52.59375 62.3125 \nQ 48.875 64.0625 45.09375 64.984375 \nQ 41.3125 65.921875 37.59375 65.921875 \nQ 27.828125 65.921875 22.671875 59.328125 \nQ 17.53125 52.734375 16.796875 39.40625 \nQ 19.671875 43.65625 24.015625 45.921875 \nQ 28.375 48.1875 33.59375 48.1875 \nQ 44.578125 48.1875 50.953125 41.515625 \nQ 57.328125 34.859375 57.328125 23.390625 \nQ 57.328125 12.15625 50.6875 5.359375 \nQ 44.046875 -1.421875 33.015625 -1.421875 \nQ 20.359375 -1.421875 13.671875 8.265625 \nQ 6.984375 17.96875 6.984375 36.375 \nQ 6.984375 53.65625 15.1875 63.9375 \nQ 23.390625 74.21875 37.203125 74.21875 \nQ 40.921875 74.21875 44.703125 73.484375 \nQ 48.484375 72.75 52.59375 71.296875 \nz\n\" id=\"DejaVuSans-54\"/>\n       </defs>\n       <use xlink:href=\"#DejaVuSans-54\"/>\n      </g>\n     </g>\n    </g>\n    <g id=\"xtick_8\">\n     <g id=\"line2d_15\">\n      <path clip-path=\"url(#pcd1b5bbda6)\" d=\"M 348.487074 239.758125 \nL 348.487074 22.318125 \n\" style=\"fill:none;stroke:#b0b0b0;stroke-linecap:square;stroke-width:0.8;\"/>\n     </g>\n     <g id=\"line2d_16\">\n      <g>\n       <use style=\"stroke:#000000;stroke-width:0.8;\" x=\"348.487074\" xlink:href=\"#m94c59f6b6d\" y=\"239.758125\"/>\n      </g>\n     </g>\n     <g id=\"text_8\">\n      <!-- 7 -->\n      <g transform=\"translate(345.305824 254.356562)scale(0.1 -0.1)\">\n       <defs>\n        <path d=\"M 8.203125 72.90625 \nL 55.078125 72.90625 \nL 55.078125 68.703125 \nL 28.609375 0 \nL 18.3125 0 \nL 43.21875 64.59375 \nL 8.203125 64.59375 \nz\n\" id=\"DejaVuSans-55\"/>\n       </defs>\n       <use xlink:href=\"#DejaVuSans-55\"/>\n      </g>\n     </g>\n    </g>\n    <g id=\"text_9\">\n     <!-- F score -->\n     <g transform=\"translate(193.625781 268.034687)scale(0.1 -0.1)\">\n      <defs>\n       <path d=\"M 9.8125 72.90625 \nL 51.703125 72.90625 \nL 51.703125 64.59375 \nL 19.671875 64.59375 \nL 19.671875 43.109375 \nL 48.578125 43.109375 \nL 48.578125 34.8125 \nL 19.671875 34.8125 \nL 19.671875 0 \nL 9.8125 0 \nz\n\" id=\"DejaVuSans-70\"/>\n       <path id=\"DejaVuSans-32\"/>\n       <path d=\"M 44.28125 53.078125 \nL 44.28125 44.578125 \nQ 40.484375 46.53125 36.375 47.5 \nQ 32.28125 48.484375 27.875 48.484375 \nQ 21.1875 48.484375 17.84375 46.4375 \nQ 14.5 44.390625 14.5 40.28125 \nQ 14.5 37.15625 16.890625 35.375 \nQ 19.28125 33.59375 26.515625 31.984375 \nL 29.59375 31.296875 \nQ 39.15625 29.25 43.1875 25.515625 \nQ 47.21875 21.78125 47.21875 15.09375 \nQ 47.21875 7.46875 41.1875 3.015625 \nQ 35.15625 -1.421875 24.609375 -1.421875 \nQ 20.21875 -1.421875 15.453125 -0.5625 \nQ 10.6875 0.296875 5.421875 2 \nL 5.421875 11.28125 \nQ 10.40625 8.6875 15.234375 7.390625 \nQ 20.0625 6.109375 24.8125 6.109375 \nQ 31.15625 6.109375 34.5625 8.28125 \nQ 37.984375 10.453125 37.984375 14.40625 \nQ 37.984375 18.0625 35.515625 20.015625 \nQ 33.0625 21.96875 24.703125 23.78125 \nL 21.578125 24.515625 \nQ 13.234375 26.265625 9.515625 29.90625 \nQ 5.8125 33.546875 5.8125 39.890625 \nQ 5.8125 47.609375 11.28125 51.796875 \nQ 16.75 56 26.8125 56 \nQ 31.78125 56 36.171875 55.265625 \nQ 40.578125 54.546875 44.28125 53.078125 \nz\n\" id=\"DejaVuSans-115\"/>\n       <path d=\"M 48.78125 52.59375 \nL 48.78125 44.1875 \nQ 44.96875 46.296875 41.140625 47.34375 \nQ 37.3125 48.390625 33.40625 48.390625 \nQ 24.65625 48.390625 19.8125 42.84375 \nQ 14.984375 37.3125 14.984375 27.296875 \nQ 14.984375 17.28125 19.8125 11.734375 \nQ 24.65625 6.203125 33.40625 6.203125 \nQ 37.3125 6.203125 41.140625 7.25 \nQ 44.96875 8.296875 48.78125 10.40625 \nL 48.78125 2.09375 \nQ 45.015625 0.34375 40.984375 -0.53125 \nQ 36.96875 -1.421875 32.421875 -1.421875 \nQ 20.0625 -1.421875 12.78125 6.34375 \nQ 5.515625 14.109375 5.515625 27.296875 \nQ 5.515625 40.671875 12.859375 48.328125 \nQ 20.21875 56 33.015625 56 \nQ 37.15625 56 41.109375 55.140625 \nQ 45.0625 54.296875 48.78125 52.59375 \nz\n\" id=\"DejaVuSans-99\"/>\n       <path d=\"M 30.609375 48.390625 \nQ 23.390625 48.390625 19.1875 42.75 \nQ 14.984375 37.109375 14.984375 27.296875 \nQ 14.984375 17.484375 19.15625 11.84375 \nQ 23.34375 6.203125 30.609375 6.203125 \nQ 37.796875 6.203125 41.984375 11.859375 \nQ 46.1875 17.53125 46.1875 27.296875 \nQ 46.1875 37.015625 41.984375 42.703125 \nQ 37.796875 48.390625 30.609375 48.390625 \nz\nM 30.609375 56 \nQ 42.328125 56 49.015625 48.375 \nQ 55.71875 40.765625 55.71875 27.296875 \nQ 55.71875 13.875 49.015625 6.21875 \nQ 42.328125 -1.421875 30.609375 -1.421875 \nQ 18.84375 -1.421875 12.171875 6.21875 \nQ 5.515625 13.875 5.515625 27.296875 \nQ 5.515625 40.765625 12.171875 48.375 \nQ 18.84375 56 30.609375 56 \nz\n\" id=\"DejaVuSans-111\"/>\n       <path d=\"M 41.109375 46.296875 \nQ 39.59375 47.171875 37.8125 47.578125 \nQ 36.03125 48 33.890625 48 \nQ 26.265625 48 22.1875 43.046875 \nQ 18.109375 38.09375 18.109375 28.8125 \nL 18.109375 0 \nL 9.078125 0 \nL 9.078125 54.6875 \nL 18.109375 54.6875 \nL 18.109375 46.1875 \nQ 20.953125 51.171875 25.484375 53.578125 \nQ 30.03125 56 36.53125 56 \nQ 37.453125 56 38.578125 55.875 \nQ 39.703125 55.765625 41.0625 55.515625 \nz\n\" id=\"DejaVuSans-114\"/>\n       <path d=\"M 56.203125 29.59375 \nL 56.203125 25.203125 \nL 14.890625 25.203125 \nQ 15.484375 15.921875 20.484375 11.0625 \nQ 25.484375 6.203125 34.421875 6.203125 \nQ 39.59375 6.203125 44.453125 7.46875 \nQ 49.3125 8.734375 54.109375 11.28125 \nL 54.109375 2.78125 \nQ 49.265625 0.734375 44.1875 -0.34375 \nQ 39.109375 -1.421875 33.890625 -1.421875 \nQ 20.796875 -1.421875 13.15625 6.1875 \nQ 5.515625 13.8125 5.515625 26.8125 \nQ 5.515625 40.234375 12.765625 48.109375 \nQ 20.015625 56 32.328125 56 \nQ 43.359375 56 49.78125 48.890625 \nQ 56.203125 41.796875 56.203125 29.59375 \nz\nM 47.21875 32.234375 \nQ 47.125 39.59375 43.09375 43.984375 \nQ 39.0625 48.390625 32.421875 48.390625 \nQ 24.90625 48.390625 20.390625 44.140625 \nQ 15.875 39.890625 15.1875 32.171875 \nz\n\" id=\"DejaVuSans-101\"/>\n      </defs>\n      <use xlink:href=\"#DejaVuSans-70\"/>\n      <use x=\"57.519531\" xlink:href=\"#DejaVuSans-32\"/>\n      <use x=\"89.306641\" xlink:href=\"#DejaVuSans-115\"/>\n      <use x=\"141.40625\" xlink:href=\"#DejaVuSans-99\"/>\n      <use x=\"196.386719\" xlink:href=\"#DejaVuSans-111\"/>\n      <use x=\"257.568359\" xlink:href=\"#DejaVuSans-114\"/>\n      <use x=\"296.431641\" xlink:href=\"#DejaVuSans-101\"/>\n     </g>\n    </g>\n   </g>\n   <g id=\"matplotlib.axis_2\">\n    <g id=\"ytick_1\">\n     <g id=\"line2d_17\">\n      <path clip-path=\"url(#pcd1b5bbda6)\" d=\"M 44.123438 212.578125 \nL 378.923438 212.578125 \n\" style=\"fill:none;stroke:#b0b0b0;stroke-linecap:square;stroke-width:0.8;\"/>\n     </g>\n     <g id=\"line2d_18\">\n      <defs>\n       <path d=\"M 0 0 \nL -3.5 0 \n\" id=\"m5a4ccc9e9a\" style=\"stroke:#000000;stroke-width:0.8;\"/>\n      </defs>\n      <g>\n       <use style=\"stroke:#000000;stroke-width:0.8;\" x=\"44.123438\" xlink:href=\"#m5a4ccc9e9a\" y=\"212.578125\"/>\n      </g>\n     </g>\n     <g id=\"text_10\">\n      <!-- f9 -->\n      <g transform=\"translate(27.240625 216.377344)scale(0.1 -0.1)\">\n       <defs>\n        <path d=\"M 37.109375 75.984375 \nL 37.109375 68.5 \nL 28.515625 68.5 \nQ 23.6875 68.5 21.796875 66.546875 \nQ 19.921875 64.59375 19.921875 59.515625 \nL 19.921875 54.6875 \nL 34.71875 54.6875 \nL 34.71875 47.703125 \nL 19.921875 47.703125 \nL 19.921875 0 \nL 10.890625 0 \nL 10.890625 47.703125 \nL 2.296875 47.703125 \nL 2.296875 54.6875 \nL 10.890625 54.6875 \nL 10.890625 58.5 \nQ 10.890625 67.625 15.140625 71.796875 \nQ 19.390625 75.984375 28.609375 75.984375 \nz\n\" id=\"DejaVuSans-102\"/>\n        <path d=\"M 10.984375 1.515625 \nL 10.984375 10.5 \nQ 14.703125 8.734375 18.5 7.8125 \nQ 22.3125 6.890625 25.984375 6.890625 \nQ 35.75 6.890625 40.890625 13.453125 \nQ 46.046875 20.015625 46.78125 33.40625 \nQ 43.953125 29.203125 39.59375 26.953125 \nQ 35.25 24.703125 29.984375 24.703125 \nQ 19.046875 24.703125 12.671875 31.3125 \nQ 6.296875 37.9375 6.296875 49.421875 \nQ 6.296875 60.640625 12.9375 67.421875 \nQ 19.578125 74.21875 30.609375 74.21875 \nQ 43.265625 74.21875 49.921875 64.515625 \nQ 56.59375 54.828125 56.59375 36.375 \nQ 56.59375 19.140625 48.40625 8.859375 \nQ 40.234375 -1.421875 26.421875 -1.421875 \nQ 22.703125 -1.421875 18.890625 -0.6875 \nQ 15.09375 0.046875 10.984375 1.515625 \nz\nM 30.609375 32.421875 \nQ 37.25 32.421875 41.125 36.953125 \nQ 45.015625 41.5 45.015625 49.421875 \nQ 45.015625 57.28125 41.125 61.84375 \nQ 37.25 66.40625 30.609375 66.40625 \nQ 23.96875 66.40625 20.09375 61.84375 \nQ 16.21875 57.28125 16.21875 49.421875 \nQ 16.21875 41.5 20.09375 36.953125 \nQ 23.96875 32.421875 30.609375 32.421875 \nz\n\" id=\"DejaVuSans-57\"/>\n       </defs>\n       <use xlink:href=\"#DejaVuSans-102\"/>\n       <use x=\"35.205078\" xlink:href=\"#DejaVuSans-57\"/>\n      </g>\n     </g>\n    </g>\n    <g id=\"ytick_2\">\n     <g id=\"line2d_19\">\n      <path clip-path=\"url(#pcd1b5bbda6)\" d=\"M 44.123438 185.398125 \nL 378.923438 185.398125 \n\" style=\"fill:none;stroke:#b0b0b0;stroke-linecap:square;stroke-width:0.8;\"/>\n     </g>\n     <g id=\"line2d_20\">\n      <g>\n       <use style=\"stroke:#000000;stroke-width:0.8;\" x=\"44.123438\" xlink:href=\"#m5a4ccc9e9a\" y=\"185.398125\"/>\n      </g>\n     </g>\n     <g id=\"text_11\">\n      <!-- f4 -->\n      <g transform=\"translate(27.240625 189.197344)scale(0.1 -0.1)\">\n       <use xlink:href=\"#DejaVuSans-102\"/>\n       <use x=\"35.205078\" xlink:href=\"#DejaVuSans-52\"/>\n      </g>\n     </g>\n    </g>\n    <g id=\"ytick_3\">\n     <g id=\"line2d_21\">\n      <path clip-path=\"url(#pcd1b5bbda6)\" d=\"M 44.123438 158.218125 \nL 378.923438 158.218125 \n\" style=\"fill:none;stroke:#b0b0b0;stroke-linecap:square;stroke-width:0.8;\"/>\n     </g>\n     <g id=\"line2d_22\">\n      <g>\n       <use style=\"stroke:#000000;stroke-width:0.8;\" x=\"44.123438\" xlink:href=\"#m5a4ccc9e9a\" y=\"158.218125\"/>\n      </g>\n     </g>\n     <g id=\"text_12\">\n      <!-- f0 -->\n      <g transform=\"translate(27.240625 162.017344)scale(0.1 -0.1)\">\n       <use xlink:href=\"#DejaVuSans-102\"/>\n       <use x=\"35.205078\" xlink:href=\"#DejaVuSans-48\"/>\n      </g>\n     </g>\n    </g>\n    <g id=\"ytick_4\">\n     <g id=\"line2d_23\">\n      <path clip-path=\"url(#pcd1b5bbda6)\" d=\"M 44.123438 131.038125 \nL 378.923438 131.038125 \n\" style=\"fill:none;stroke:#b0b0b0;stroke-linecap:square;stroke-width:0.8;\"/>\n     </g>\n     <g id=\"line2d_24\">\n      <g>\n       <use style=\"stroke:#000000;stroke-width:0.8;\" x=\"44.123438\" xlink:href=\"#m5a4ccc9e9a\" y=\"131.038125\"/>\n      </g>\n     </g>\n     <g id=\"text_13\">\n      <!-- f10 -->\n      <g transform=\"translate(20.878125 134.837344)scale(0.1 -0.1)\">\n       <use xlink:href=\"#DejaVuSans-102\"/>\n       <use x=\"35.205078\" xlink:href=\"#DejaVuSans-49\"/>\n       <use x=\"98.828125\" xlink:href=\"#DejaVuSans-48\"/>\n      </g>\n     </g>\n    </g>\n    <g id=\"ytick_5\">\n     <g id=\"line2d_25\">\n      <path clip-path=\"url(#pcd1b5bbda6)\" d=\"M 44.123438 103.858125 \nL 378.923438 103.858125 \n\" style=\"fill:none;stroke:#b0b0b0;stroke-linecap:square;stroke-width:0.8;\"/>\n     </g>\n     <g id=\"line2d_26\">\n      <g>\n       <use style=\"stroke:#000000;stroke-width:0.8;\" x=\"44.123438\" xlink:href=\"#m5a4ccc9e9a\" y=\"103.858125\"/>\n      </g>\n     </g>\n     <g id=\"text_14\">\n      <!-- f7 -->\n      <g transform=\"translate(27.240625 107.657344)scale(0.1 -0.1)\">\n       <use xlink:href=\"#DejaVuSans-102\"/>\n       <use x=\"35.205078\" xlink:href=\"#DejaVuSans-55\"/>\n      </g>\n     </g>\n    </g>\n    <g id=\"ytick_6\">\n     <g id=\"line2d_27\">\n      <path clip-path=\"url(#pcd1b5bbda6)\" d=\"M 44.123438 76.678125 \nL 378.923438 76.678125 \n\" style=\"fill:none;stroke:#b0b0b0;stroke-linecap:square;stroke-width:0.8;\"/>\n     </g>\n     <g id=\"line2d_28\">\n      <g>\n       <use style=\"stroke:#000000;stroke-width:0.8;\" x=\"44.123438\" xlink:href=\"#m5a4ccc9e9a\" y=\"76.678125\"/>\n      </g>\n     </g>\n     <g id=\"text_15\">\n      <!-- f12 -->\n      <g transform=\"translate(20.878125 80.477344)scale(0.1 -0.1)\">\n       <use xlink:href=\"#DejaVuSans-102\"/>\n       <use x=\"35.205078\" xlink:href=\"#DejaVuSans-49\"/>\n       <use x=\"98.828125\" xlink:href=\"#DejaVuSans-50\"/>\n      </g>\n     </g>\n    </g>\n    <g id=\"ytick_7\">\n     <g id=\"line2d_29\">\n      <path clip-path=\"url(#pcd1b5bbda6)\" d=\"M 44.123438 49.498125 \nL 378.923438 49.498125 \n\" style=\"fill:none;stroke:#b0b0b0;stroke-linecap:square;stroke-width:0.8;\"/>\n     </g>\n     <g id=\"line2d_30\">\n      <g>\n       <use style=\"stroke:#000000;stroke-width:0.8;\" x=\"44.123438\" xlink:href=\"#m5a4ccc9e9a\" y=\"49.498125\"/>\n      </g>\n     </g>\n     <g id=\"text_16\">\n      <!-- f5 -->\n      <g transform=\"translate(27.240625 53.297344)scale(0.1 -0.1)\">\n       <use xlink:href=\"#DejaVuSans-102\"/>\n       <use x=\"35.205078\" xlink:href=\"#DejaVuSans-53\"/>\n      </g>\n     </g>\n    </g>\n    <g id=\"text_17\">\n     <!-- Features -->\n     <g transform=\"translate(14.798438 152.532656)rotate(-90)scale(0.1 -0.1)\">\n      <defs>\n       <path d=\"M 34.28125 27.484375 \nQ 23.390625 27.484375 19.1875 25 \nQ 14.984375 22.515625 14.984375 16.5 \nQ 14.984375 11.71875 18.140625 8.90625 \nQ 21.296875 6.109375 26.703125 6.109375 \nQ 34.1875 6.109375 38.703125 11.40625 \nQ 43.21875 16.703125 43.21875 25.484375 \nL 43.21875 27.484375 \nz\nM 52.203125 31.203125 \nL 52.203125 0 \nL 43.21875 0 \nL 43.21875 8.296875 \nQ 40.140625 3.328125 35.546875 0.953125 \nQ 30.953125 -1.421875 24.3125 -1.421875 \nQ 15.921875 -1.421875 10.953125 3.296875 \nQ 6 8.015625 6 15.921875 \nQ 6 25.140625 12.171875 29.828125 \nQ 18.359375 34.515625 30.609375 34.515625 \nL 43.21875 34.515625 \nL 43.21875 35.40625 \nQ 43.21875 41.609375 39.140625 45 \nQ 35.0625 48.390625 27.6875 48.390625 \nQ 23 48.390625 18.546875 47.265625 \nQ 14.109375 46.140625 10.015625 43.890625 \nL 10.015625 52.203125 \nQ 14.9375 54.109375 19.578125 55.046875 \nQ 24.21875 56 28.609375 56 \nQ 40.484375 56 46.34375 49.84375 \nQ 52.203125 43.703125 52.203125 31.203125 \nz\n\" id=\"DejaVuSans-97\"/>\n       <path d=\"M 18.3125 70.21875 \nL 18.3125 54.6875 \nL 36.8125 54.6875 \nL 36.8125 47.703125 \nL 18.3125 47.703125 \nL 18.3125 18.015625 \nQ 18.3125 11.328125 20.140625 9.421875 \nQ 21.96875 7.515625 27.59375 7.515625 \nL 36.8125 7.515625 \nL 36.8125 0 \nL 27.59375 0 \nQ 17.1875 0 13.234375 3.875 \nQ 9.28125 7.765625 9.28125 18.015625 \nL 9.28125 47.703125 \nL 2.6875 47.703125 \nL 2.6875 54.6875 \nL 9.28125 54.6875 \nL 9.28125 70.21875 \nz\n\" id=\"DejaVuSans-116\"/>\n       <path d=\"M 8.5 21.578125 \nL 8.5 54.6875 \nL 17.484375 54.6875 \nL 17.484375 21.921875 \nQ 17.484375 14.15625 20.5 10.265625 \nQ 23.53125 6.390625 29.59375 6.390625 \nQ 36.859375 6.390625 41.078125 11.03125 \nQ 45.3125 15.671875 45.3125 23.6875 \nL 45.3125 54.6875 \nL 54.296875 54.6875 \nL 54.296875 0 \nL 45.3125 0 \nL 45.3125 8.40625 \nQ 42.046875 3.421875 37.71875 1 \nQ 33.40625 -1.421875 27.6875 -1.421875 \nQ 18.265625 -1.421875 13.375 4.4375 \nQ 8.5 10.296875 8.5 21.578125 \nz\nM 31.109375 56 \nz\n\" id=\"DejaVuSans-117\"/>\n      </defs>\n      <use xlink:href=\"#DejaVuSans-70\"/>\n      <use x=\"52.019531\" xlink:href=\"#DejaVuSans-101\"/>\n      <use x=\"113.542969\" xlink:href=\"#DejaVuSans-97\"/>\n      <use x=\"174.822266\" xlink:href=\"#DejaVuSans-116\"/>\n      <use x=\"214.03125\" xlink:href=\"#DejaVuSans-117\"/>\n      <use x=\"277.410156\" xlink:href=\"#DejaVuSans-114\"/>\n      <use x=\"316.273438\" xlink:href=\"#DejaVuSans-101\"/>\n      <use x=\"377.796875\" xlink:href=\"#DejaVuSans-115\"/>\n     </g>\n    </g>\n   </g>\n   <g id=\"patch_10\">\n    <path d=\"M 44.123438 239.758125 \nL 44.123438 22.318125 \n\" style=\"fill:none;stroke:#000000;stroke-linecap:square;stroke-linejoin:miter;stroke-width:0.8;\"/>\n   </g>\n   <g id=\"patch_11\">\n    <path d=\"M 378.923438 239.758125 \nL 378.923438 22.318125 \n\" style=\"fill:none;stroke:#000000;stroke-linecap:square;stroke-linejoin:miter;stroke-width:0.8;\"/>\n   </g>\n   <g id=\"patch_12\">\n    <path d=\"M 44.123438 239.758125 \nL 378.923438 239.758125 \n\" style=\"fill:none;stroke:#000000;stroke-linecap:square;stroke-linejoin:miter;stroke-width:0.8;\"/>\n   </g>\n   <g id=\"patch_13\">\n    <path d=\"M 44.123438 22.318125 \nL 378.923438 22.318125 \n\" style=\"fill:none;stroke:#000000;stroke-linecap:square;stroke-linejoin:miter;stroke-width:0.8;\"/>\n   </g>\n   <g id=\"text_18\">\n    <!-- 1 -->\n    <g transform=\"translate(131.084476 215.3375)scale(0.1 -0.1)\">\n     <use xlink:href=\"#DejaVuSans-49\"/>\n    </g>\n   </g>\n   <g id=\"text_19\">\n    <!-- 3 -->\n    <g transform=\"translate(218.045515 188.1575)scale(0.1 -0.1)\">\n     <use xlink:href=\"#DejaVuSans-51\"/>\n    </g>\n   </g>\n   <g id=\"text_20\">\n    <!-- 3 -->\n    <g transform=\"translate(218.045515 160.9775)scale(0.1 -0.1)\">\n     <use xlink:href=\"#DejaVuSans-51\"/>\n    </g>\n   </g>\n   <g id=\"text_21\">\n    <!-- 4 -->\n    <g transform=\"translate(261.526035 133.7975)scale(0.1 -0.1)\">\n     <use xlink:href=\"#DejaVuSans-52\"/>\n    </g>\n   </g>\n   <g id=\"text_22\">\n    <!-- 5 -->\n    <g transform=\"translate(305.006554 106.6175)scale(0.1 -0.1)\">\n     <use xlink:href=\"#DejaVuSans-53\"/>\n    </g>\n   </g>\n   <g id=\"text_23\">\n    <!-- 7 -->\n    <g transform=\"translate(391.967593 79.4375)scale(0.1 -0.1)\">\n     <use xlink:href=\"#DejaVuSans-55\"/>\n    </g>\n   </g>\n   <g id=\"text_24\">\n    <!-- 7 -->\n    <g transform=\"translate(391.967593 52.2575)scale(0.1 -0.1)\">\n     <use xlink:href=\"#DejaVuSans-55\"/>\n    </g>\n   </g>\n   <g id=\"text_25\">\n    <!-- Feature importance -->\n    <g transform=\"translate(152.668125 16.318125)scale(0.12 -0.12)\">\n     <defs>\n      <path d=\"M 9.421875 54.6875 \nL 18.40625 54.6875 \nL 18.40625 0 \nL 9.421875 0 \nz\nM 9.421875 75.984375 \nL 18.40625 75.984375 \nL 18.40625 64.59375 \nL 9.421875 64.59375 \nz\n\" id=\"DejaVuSans-105\"/>\n      <path d=\"M 52 44.1875 \nQ 55.375 50.25 60.0625 53.125 \nQ 64.75 56 71.09375 56 \nQ 79.640625 56 84.28125 50.015625 \nQ 88.921875 44.046875 88.921875 33.015625 \nL 88.921875 0 \nL 79.890625 0 \nL 79.890625 32.71875 \nQ 79.890625 40.578125 77.09375 44.375 \nQ 74.3125 48.1875 68.609375 48.1875 \nQ 61.625 48.1875 57.5625 43.546875 \nQ 53.515625 38.921875 53.515625 30.90625 \nL 53.515625 0 \nL 44.484375 0 \nL 44.484375 32.71875 \nQ 44.484375 40.625 41.703125 44.40625 \nQ 38.921875 48.1875 33.109375 48.1875 \nQ 26.21875 48.1875 22.15625 43.53125 \nQ 18.109375 38.875 18.109375 30.90625 \nL 18.109375 0 \nL 9.078125 0 \nL 9.078125 54.6875 \nL 18.109375 54.6875 \nL 18.109375 46.1875 \nQ 21.1875 51.21875 25.484375 53.609375 \nQ 29.78125 56 35.6875 56 \nQ 41.65625 56 45.828125 52.96875 \nQ 50 49.953125 52 44.1875 \nz\n\" id=\"DejaVuSans-109\"/>\n      <path d=\"M 18.109375 8.203125 \nL 18.109375 -20.796875 \nL 9.078125 -20.796875 \nL 9.078125 54.6875 \nL 18.109375 54.6875 \nL 18.109375 46.390625 \nQ 20.953125 51.265625 25.265625 53.625 \nQ 29.59375 56 35.59375 56 \nQ 45.5625 56 51.78125 48.09375 \nQ 58.015625 40.1875 58.015625 27.296875 \nQ 58.015625 14.40625 51.78125 6.484375 \nQ 45.5625 -1.421875 35.59375 -1.421875 \nQ 29.59375 -1.421875 25.265625 0.953125 \nQ 20.953125 3.328125 18.109375 8.203125 \nz\nM 48.6875 27.296875 \nQ 48.6875 37.203125 44.609375 42.84375 \nQ 40.53125 48.484375 33.40625 48.484375 \nQ 26.265625 48.484375 22.1875 42.84375 \nQ 18.109375 37.203125 18.109375 27.296875 \nQ 18.109375 17.390625 22.1875 11.75 \nQ 26.265625 6.109375 33.40625 6.109375 \nQ 40.53125 6.109375 44.609375 11.75 \nQ 48.6875 17.390625 48.6875 27.296875 \nz\n\" id=\"DejaVuSans-112\"/>\n      <path d=\"M 54.890625 33.015625 \nL 54.890625 0 \nL 45.90625 0 \nL 45.90625 32.71875 \nQ 45.90625 40.484375 42.875 44.328125 \nQ 39.84375 48.1875 33.796875 48.1875 \nQ 26.515625 48.1875 22.3125 43.546875 \nQ 18.109375 38.921875 18.109375 30.90625 \nL 18.109375 0 \nL 9.078125 0 \nL 9.078125 54.6875 \nL 18.109375 54.6875 \nL 18.109375 46.1875 \nQ 21.34375 51.125 25.703125 53.5625 \nQ 30.078125 56 35.796875 56 \nQ 45.21875 56 50.046875 50.171875 \nQ 54.890625 44.34375 54.890625 33.015625 \nz\n\" id=\"DejaVuSans-110\"/>\n     </defs>\n     <use xlink:href=\"#DejaVuSans-70\"/>\n     <use x=\"52.019531\" xlink:href=\"#DejaVuSans-101\"/>\n     <use x=\"113.542969\" xlink:href=\"#DejaVuSans-97\"/>\n     <use x=\"174.822266\" xlink:href=\"#DejaVuSans-116\"/>\n     <use x=\"214.03125\" xlink:href=\"#DejaVuSans-117\"/>\n     <use x=\"277.410156\" xlink:href=\"#DejaVuSans-114\"/>\n     <use x=\"316.273438\" xlink:href=\"#DejaVuSans-101\"/>\n     <use x=\"377.796875\" xlink:href=\"#DejaVuSans-32\"/>\n     <use x=\"409.583984\" xlink:href=\"#DejaVuSans-105\"/>\n     <use x=\"437.367188\" xlink:href=\"#DejaVuSans-109\"/>\n     <use x=\"534.779297\" xlink:href=\"#DejaVuSans-112\"/>\n     <use x=\"598.255859\" xlink:href=\"#DejaVuSans-111\"/>\n     <use x=\"659.4375\" xlink:href=\"#DejaVuSans-114\"/>\n     <use x=\"700.550781\" xlink:href=\"#DejaVuSans-116\"/>\n     <use x=\"739.759766\" xlink:href=\"#DejaVuSans-97\"/>\n     <use x=\"801.039062\" xlink:href=\"#DejaVuSans-110\"/>\n     <use x=\"864.417969\" xlink:href=\"#DejaVuSans-99\"/>\n     <use x=\"919.398438\" xlink:href=\"#DejaVuSans-101\"/>\n    </g>\n   </g>\n  </g>\n </g>\n <defs>\n  <clipPath id=\"pcd1b5bbda6\">\n   <rect height=\"217.44\" width=\"334.8\" x=\"44.123438\" y=\"22.318125\"/>\n  </clipPath>\n </defs>\n</svg>\n",
      "image/png": "[encoded data removed]"
     },
     "metadata": {
      "needs_background": "light"
     }
    }
   ],
   "source": [
    "xgb.plot_importance(xg_reg)"
   ]
  },
  {
   "source": [
    "# Tuning XGBoost Model"
   ],
   "cell_type": "markdown",
   "metadata": {}
  },
  {
   "cell_type": "code",
   "execution_count": null,
   "metadata": {},
   "outputs": [],
   "source": []
  },
  {
   "cell_type": "code",
   "execution_count": 4,
   "metadata": {},
   "outputs": [
    {
     "output_type": "stream",
     "name": "stdout",
     "text": [
      "0.8859649122807017\n0.8859649122807017\n"
     ]
    }
   ],
   "source": [
    "# Accuracy score could use internal function or sklearn metrics\n",
    "print(dt.score(X_test, y_test)); print(accuracy_score(y_test, y_pred))"
   ]
  },
  {
   "cell_type": "code",
   "execution_count": 7,
   "metadata": {},
   "outputs": [],
   "source": [
    "def plot_decision_regions(X, y, clf,\n",
    "                          feature_index=None,\n",
    "                          filler_feature_values=None,\n",
    "                          filler_feature_ranges=None,\n",
    "                          ax=None,\n",
    "                          X_highlight=None,\n",
    "                          res=0.02, legend=1,\n",
    "                          hide_spines=True,\n",
    "                          markers='s^oxv<>',\n",
    "                          colors='red,blue,limegreen,gray,cyan'):\n",
    "    \"\"\"Plot decision regions of a classifier.\n",
    "\n",
    "    Please note that this functions assumes that class labels are\n",
    "    labeled consecutively, e.g,. 0, 1, 2, 3, 4, and 5. If you have class\n",
    "    labels with integer labels > 4, you may want to provide additional colors\n",
    "    and/or markers as `colors` and `markers` arguments.\n",
    "    See http://matplotlib.org/examples/color/named_colors.html for more\n",
    "    information.\n",
    "\n",
    "    Parameters\n",
    "    ----------\n",
    "    X : array-like, shape = [n_samples, n_features]\n",
    "        Feature Matrix.\n",
    "    y : array-like, shape = [n_samples]\n",
    "        True class labels.\n",
    "    clf : Classifier object.\n",
    "        Must have a .predict method.\n",
    "    feature_index : array-like (default: (0,) for 1D, (0, 1) otherwise)\n",
    "        Feature indices to use for plotting. The first index in\n",
    "        `feature_index` will be on the x-axis, the second index will be\n",
    "        on the y-axis.\n",
    "    filler_feature_values : dict (default: None)\n",
    "        Only needed for number features > 2. Dictionary of feature\n",
    "        index-value pairs for the features not being plotted.\n",
    "    filler_feature_ranges : dict (default: None)\n",
    "        Only needed for number features > 2. Dictionary of feature\n",
    "        index-value pairs for the features not being plotted. Will use the\n",
    "        ranges provided to select training samples for plotting.\n",
    "    ax : matplotlib.axes.Axes (default: None)\n",
    "        An existing matplotlib Axes. Creates\n",
    "        one if ax=None.\n",
    "    X_highlight : array-like, shape = [n_samples, n_features] (default: None)\n",
    "        An array with data points that are used to highlight samples in `X`.\n",
    "    res : float or array-like, shape = (2,) (default: 0.02)\n",
    "        Grid width. If float, same resolution is used for both the x- and\n",
    "        y-axis. If array-like, the first item is used on the x-axis, the\n",
    "        second is used on the y-axis. Lower values increase the resolution but\n",
    "        slow down the plotting.\n",
    "    hide_spines : bool (default: True)\n",
    "        Hide axis spines if True.\n",
    "    legend : int (default: 1)\n",
    "        Integer to specify the legend location.\n",
    "        No legend if legend is 0.\n",
    "    markers : str (default 's^oxv<>')\n",
    "        Scatterplot markers.\n",
    "    colors : str (default 'red,blue,limegreen,gray,cyan')\n",
    "        Comma separated list of colors.\n",
    "\n",
    "    Returns\n",
    "    ---------\n",
    "    ax : matplotlib.axes.Axes object\n",
    "\n",
    "    \"\"\"\n",
    "\n",
    "    check_Xy(X, y, y_int=True)  # Validate X and y arrays\n",
    "    dim = X.shape[1]\n",
    "\n",
    "    if ax is None:\n",
    "        ax = plt.gca()\n",
    "\n",
    "    if isinstance(res, float):\n",
    "        xres, yres = res, res\n",
    "    else:\n",
    "        try:\n",
    "            xres, yres = res\n",
    "        except ValueError:\n",
    "            raise ValueError('Unable to unpack res. Expecting '\n",
    "                             'array-like input of length 2.')\n",
    "\n",
    "    plot_testdata = True\n",
    "    if not isinstance(X_highlight, np.ndarray):\n",
    "        if X_highlight is not None:\n",
    "            raise ValueError('X_highlight must be a NumPy array or None')\n",
    "        else:\n",
    "            plot_testdata = False\n",
    "    elif len(X_highlight.shape) < 2:\n",
    "        raise ValueError('X_highlight must be a 2D array')\n",
    "\n",
    "    if feature_index is not None:\n",
    "        # Unpack and validate the feature_index values\n",
    "        if dim == 1:\n",
    "            raise ValueError(\n",
    "                'feature_index requires more than one training feature')\n",
    "        try:\n",
    "            x_index, y_index = feature_index\n",
    "        except ValueError:\n",
    "            raise ValueError(\n",
    "                'Unable to unpack feature_index. Make sure feature_index '\n",
    "                'only has two dimensions.')\n",
    "        try:\n",
    "            X[:, x_index], X[:, y_index]\n",
    "        except IndexError:\n",
    "            raise IndexError(\n",
    "                'feature_index values out of range. X.shape is {}, but '\n",
    "                'feature_index is {}'.format(X.shape, feature_index))\n",
    "    else:\n",
    "        feature_index = (0, 1)\n",
    "        x_index, y_index = feature_index\n",
    "\n",
    "    # Extra input validation for higher number of training features\n",
    "    if dim > 2:\n",
    "        if filler_feature_values is None:\n",
    "            raise ValueError('Filler values must be provided when '\n",
    "                             'X has more than 2 training features.')\n",
    "\n",
    "        if filler_feature_ranges is not None:\n",
    "            if not set(filler_feature_values) == set(filler_feature_ranges):\n",
    "                raise ValueError(\n",
    "                    'filler_feature_values and filler_feature_ranges must '\n",
    "                    'have the same keys')\n",
    "\n",
    "        # Check that all columns in X are accounted for\n",
    "        column_check = np.zeros(dim, dtype=bool)\n",
    "        for idx in filler_feature_values:\n",
    "            column_check[idx] = True\n",
    "        for idx in feature_index:\n",
    "            column_check[idx] = True\n",
    "        if not all(column_check):\n",
    "            missing_cols = np.argwhere(~column_check).flatten()\n",
    "            raise ValueError(\n",
    "                'Column(s) {} need to be accounted for in either '\n",
    "                'feature_index or filler_feature_values'.format(missing_cols))\n",
    "\n",
    "    marker_gen = cycle(list(markers))\n",
    "\n",
    "    n_classes = np.unique(y).shape[0]\n",
    "    colors = colors.split(',')\n",
    "    colors_gen = cycle(colors)\n",
    "    colors = [next(colors_gen) for c in range(n_classes)]\n",
    "\n",
    "    # Get minimum and maximum\n",
    "    x_min, x_max = X[:, x_index].min() - 1, X[:, x_index].max() + 1\n",
    "    if dim == 1:\n",
    "        y_min, y_max = -1, 1\n",
    "    else:\n",
    "        y_min, y_max = X[:, y_index].min() - 1, X[:, y_index].max() + 1\n",
    "\n",
    "    xx, yy = np.meshgrid(np.arange(x_min, x_max, xres),\n",
    "                         np.arange(y_min, y_max, yres))\n",
    "\n",
    "    if dim == 1:\n",
    "        X_predict = np.array([xx.ravel()]).T\n",
    "    else:\n",
    "        X_grid = np.array([xx.ravel(), yy.ravel()]).T\n",
    "        X_predict = np.zeros((X_grid.shape[0], dim))\n",
    "        X_predict[:, x_index] = X_grid[:, 0]\n",
    "        X_predict[:, y_index] = X_grid[:, 1]\n",
    "        if dim > 2:\n",
    "            for feature_idx in filler_feature_values:\n",
    "                X_predict[:, feature_idx] = filler_feature_values[feature_idx]\n",
    "    Z = clf.predict(X_predict)\n",
    "    Z = Z.reshape(xx.shape)\n",
    "    # Plot decisoin region\n",
    "    ax.contourf(xx, yy, Z,\n",
    "                alpha=0.3,\n",
    "                colors=colors,\n",
    "                levels=np.arange(Z.max() + 2) - 0.5)\n",
    "\n",
    "    ax.axis(xmin=xx.min(), xmax=xx.max(), y_min=yy.min(), y_max=yy.max())\n",
    "\n",
    "    # Scatter training data samples\n",
    "    for idx, c in enumerate(np.unique(y)):\n",
    "        if dim == 1:\n",
    "            y_data = [0 for i in X[y == c]]\n",
    "            x_data = X[y == c]\n",
    "        elif dim == 2:\n",
    "            y_data = X[y == c, y_index]\n",
    "            x_data = X[y == c, x_index]\n",
    "        elif dim > 2 and filler_feature_ranges is not None:\n",
    "            class_mask = y == c\n",
    "            feature_range_mask = get_feature_range_mask(\n",
    "                            X, filler_feature_values=filler_feature_values,\n",
    "                            filler_feature_ranges=filler_feature_ranges)\n",
    "            y_data = X[class_mask & feature_range_mask, y_index]\n",
    "            x_data = X[class_mask & feature_range_mask, x_index]\n",
    "        else:\n",
    "            continue\n",
    "\n",
    "        ax.scatter(x=x_data,\n",
    "                   y=y_data,\n",
    "                   alpha=0.8,\n",
    "                   c=colors[idx],\n",
    "                   marker=next(marker_gen),\n",
    "                   edgecolor='black',\n",
    "                   label=c)\n",
    "\n",
    "    if hide_spines:\n",
    "        ax.spines['right'].set_visible(False)\n",
    "        ax.spines['top'].set_visible(False)\n",
    "        ax.spines['left'].set_visible(False)\n",
    "        ax.spines['bottom'].set_visible(False)\n",
    "    ax.yaxis.set_ticks_position('left')\n",
    "    ax.xaxis.set_ticks_position('bottom')\n",
    "    if dim == 1:\n",
    "        ax.axes.get_yaxis().set_ticks([])\n",
    "\n",
    "    if legend:\n",
    "        if dim > 2 and filler_feature_ranges is None:\n",
    "            pass\n",
    "        else:\n",
    "            handles, labels = ax.get_legend_handles_labels()\n",
    "            ax.legend(handles, labels,\n",
    "                      framealpha=0.3, scatterpoints=1, loc=legend)\n",
    "\n",
    "    if plot_testdata:\n",
    "        if dim == 1:\n",
    "            x_data = X_highlight\n",
    "            y_data = [0 for i in X_highlight]\n",
    "        elif dim == 2:\n",
    "            x_data = X_highlight[:, x_index]\n",
    "            y_data = X_highlight[:, y_index]\n",
    "        else:\n",
    "            feature_range_mask = get_feature_range_mask(\n",
    "                    X_highlight, filler_feature_values=filler_feature_values,\n",
    "                    filler_feature_ranges=filler_feature_ranges)\n",
    "            y_data = X_highlight[feature_range_mask, y_index]\n",
    "            x_data = X_highlight[feature_range_mask, x_index]\n",
    "\n",
    "        ax.scatter(x_data,\n",
    "                   y_data,\n",
    "                   c='',\n",
    "                   edgecolor='black',\n",
    "                   alpha=1.0,\n",
    "                   linewidths=1,\n",
    "                   marker='o',\n",
    "                   s=80)\n",
    "\n",
    "    return ax\n",
    "\n",
    "def plot_labeled_decision_regions(X,y, models):    \n",
    "    '''\n",
    "    Function producing a scatter plot of the instances contained \n",
    "    in the 2D dataset (X,y) along with the decision \n",
    "    regions of two trained classification models contained in the\n",
    "    list 'models'.\n",
    "            \n",
    "    Parameters\n",
    "    ----------\n",
    "    X: pandas DataFrame corresponding to two numerical features \n",
    "    y: pandas Series corresponding the class labels\n",
    "    models: list containing two trained classifiers \n",
    "    \n",
    "    '''\n",
    "    if len(models) != 2:\n",
    "        raise Exception('''\n",
    "        Models should be a list containing only two trained classifiers.\n",
    "        ''')\n",
    "    if not isinstance(X, pd.DataFrame):\n",
    "        raise Exception('''\n",
    "        X has to be a pandas DataFrame with two numerical features.\n",
    "        ''')\n",
    "    if not isinstance(y, pd.Series):\n",
    "        raise Exception('''\n",
    "        y has to be a pandas Series corresponding to the labels.\n",
    "        ''')\n",
    "    fig, ax = plt.subplots(1, 2, figsize=(6.0,2.7), sharey=True)\n",
    "    for i, model in enumerate(models):\n",
    "        plot_decision_regions(X.values,y.values, model, legend= 2, ax = ax[i])\n",
    "        ax[i].set_title(model.__class__.__name__)\n",
    "        ax[i].set_xlabel(X.columns[0])\n",
    "        if i == 0:\n",
    "            ax[i].set_ylabel(X.columns[1])\n",
    "        ax[i].set_ylim(X.values[:,1].min(), X.values[:,1].max())\n",
    "        ax[i].set_xlim(X.values[:,0].min(), X.values[:,0].max())\n",
    "    plt.tight_layout()\n",
    "    plt.show()"
   ]
  },
  {
   "source": [
    "### Tree-based class impurity measures   \n",
    "- Gini index (default)  \n",
    "- Intropy  \n",
    "Most of the time, the gini index and entropy lead to the same results.  \n",
    "The `gini index is slightly faster` to compute and is the default criterion used in the DecisionTreeClassifier model of scikit-learn."
   ],
   "cell_type": "markdown",
   "metadata": {}
  },
  {
   "cell_type": "code",
   "execution_count": 9,
   "metadata": {},
   "outputs": [
    {
     "output_type": "execute_result",
     "data": {
      "text/plain": [
       "DecisionTreeClassifier(criterion='entropy', max_depth=8, random_state=1)"
      ]
     },
     "metadata": {},
     "execution_count": 9
    }
   ],
   "source": [
    "# Instantiate dt_entropy, set 'entropy' as the information criterion\n",
    "dt_entropy = DecisionTreeClassifier(max_depth=8, criterion='entropy', random_state=1)\n",
    "\n",
    "# Fit dt_entropy to the training set\n",
    "dt_entropy.fit(X_train, y_train)"
   ]
  },
  {
   "source": [
    "## Decision Tree for regression"
   ],
   "cell_type": "markdown",
   "metadata": {}
  },
  {
   "cell_type": "code",
   "execution_count": 49,
   "metadata": {},
   "outputs": [],
   "source": [
    "from sklearn.model_selection import train_test_split\n",
    "from sklearn.impute import KNNImputer\n",
    "\n",
    "df = \\\n",
    "(pd\n",
    " .read_csv('../dataset/auto-mpg.csv', na_values='?')\n",
    " .drop(['car name'], axis='columns')\n",
    ")\n",
    "\n",
    "X = df.drop(['mpg'], axis='columns').to_numpy()\n",
    "y = df['mpg'].to_numpy()\n",
    "\n",
    "imputor = KNNImputer(n_neighbors=3, weights='uniform')\n",
    "X_imputed = imputor.fit_transform(X)\n",
    "\n",
    "X_train, X_test, y_train, y_test = train_test_split(X_imputed, y, train_size=0.8)"
   ]
  },
  {
   "cell_type": "code",
   "execution_count": 50,
   "metadata": {},
   "outputs": [
    {
     "output_type": "execute_result",
     "data": {
      "text/plain": [
       "DecisionTreeRegressor(max_depth=8, min_samples_leaf=0.13, random_state=3)"
      ]
     },
     "metadata": {},
     "execution_count": 50
    }
   ],
   "source": [
    "from sklearn.tree import DecisionTreeRegressor\n",
    "\n",
    "dt = DecisionTreeRegressor(max_depth=8, min_samples_leaf=0.13, random_state=3)\n",
    "dt.fit(X_train, y_train)"
   ]
  },
  {
   "cell_type": "code",
   "execution_count": 57,
   "metadata": {},
   "outputs": [
    {
     "output_type": "stream",
     "name": "stdout",
     "text": [
      "Test set RMSE of dt: 3.32\n"
     ]
    }
   ],
   "source": [
    "# Import mean_squared_error from sklearn.metrics as MSE\n",
    "from sklearn.metrics import mean_squared_error as MSE\n",
    "\n",
    "y_pred = dt.predict(X_test)\n",
    "mse_dt = MSE(y_test, y_pred)\n",
    "rmse_dt = mse_dt**(1/2)\n",
    "\n",
    "print(\"Test set RMSE of dt: {:.2f}\".format(rmse_dt))"
   ]
  },
  {
   "source": [
    "Compare with Simple Linear Regression"
   ],
   "cell_type": "markdown",
   "metadata": {}
  },
  {
   "cell_type": "code",
   "execution_count": 58,
   "metadata": {},
   "outputs": [
    {
     "output_type": "execute_result",
     "data": {
      "text/plain": [
       "LinearRegression()"
      ]
     },
     "metadata": {},
     "execution_count": 58
    }
   ],
   "source": [
    "from sklearn.linear_model import LinearRegression\n",
    "lr = LinearRegression()\n",
    "lr.fit(X_train, y_train)"
   ]
  },
  {
   "cell_type": "code",
   "execution_count": 60,
   "metadata": {},
   "outputs": [
    {
     "output_type": "stream",
     "name": "stdout",
     "text": [
      "Linear Regression test set RMSE: 3.10\nRegression Tree test set RMSE: 3.32\n"
     ]
    }
   ],
   "source": [
    "y_pred_lr = lr.predict(X_test)\n",
    "\n",
    "mse_lr = MSE(y_test, y_pred_lr)\n",
    "rmse_lr = mse_lr**(1/2)\n",
    "print('Linear Regression test set RMSE: {:.2f}'.format(rmse_lr))\n",
    "print('Regression Tree test set RMSE: {:.2f}'.format(rmse_dt))"
   ]
  },
  {
   "source": [
    "# Bias-Varience trade-off\n",
    "Key-Takeaway : Handle Bias-Varience with Cross Validation"
   ],
   "cell_type": "markdown",
   "metadata": {}
  },
  {
   "cell_type": "code",
   "execution_count": 69,
   "metadata": {},
   "outputs": [],
   "source": [
    "from sklearn.model_selection import train_test_split\n",
    "from sklearn.model_selection import cross_val_score\n",
    "from sklearn.tree import DecisionTreeRegressor\n",
    "from sklearn.impute import KNNImputer\n",
    "SEED = 1\n",
    "\n",
    "df = \\\n",
    "(pd\n",
    " .read_csv('../dataset/auto-mpg.csv', na_values='?')\n",
    " .drop(['car name'], axis='columns')\n",
    ")\n",
    "\n",
    "X = df.drop(['mpg'], axis='columns').to_numpy()\n",
    "y = df['mpg'].to_numpy()\n",
    "\n",
    "imputor = KNNImputer(n_neighbors=3, weights='uniform')\n",
    "X_imputed = imputor.fit_transform(X)\n",
    "\n",
    "X_train, X_test, y_train, y_test = train_test_split(X_imputed, y, train_size=0.7, random_state=SEED)"
   ]
  },
  {
   "cell_type": "code",
   "execution_count": 70,
   "metadata": {},
   "outputs": [
    {
     "output_type": "stream",
     "name": "stdout",
     "text": [
      "CV RMSE: 4.77\n"
     ]
    }
   ],
   "source": [
    "dt = DecisionTreeRegressor(max_depth=4, min_samples_leaf=0.26, random_state=SEED)\n",
    "MSE_CV_scores = - cross_val_score(dt, X_train, y_train, cv=10, \n",
    "                       scoring='neg_mean_squared_error',\n",
    "                       n_jobs=-1)\n",
    "\n",
    "RMSE_CV = (MSE_CV_scores.mean())**(1/2)\n",
    "\n",
    "print('CV RMSE: {:.2f}'.format(RMSE_CV))"
   ]
  },
  {
   "cell_type": "code",
   "execution_count": 71,
   "metadata": {},
   "outputs": [
    {
     "output_type": "stream",
     "name": "stdout",
     "text": [
      "Train RMSE: 4.65\n"
     ]
    }
   ],
   "source": [
    "# Import mean_squared_error from sklearn.metrics as MSE\n",
    "from sklearn.metrics import mean_squared_error as MSE\n",
    "\n",
    "# Fit dt to the training set\n",
    "dt.fit(X_train, y_train)\n",
    "\n",
    "# Predict the labels of the training set\n",
    "y_pred_train = dt.predict(X_train)\n",
    "\n",
    "# Evaluate the training set RMSE of dt\n",
    "RMSE_train = (MSE(y_train, y_pred_train))**(1/2)\n",
    "\n",
    "# Print RMSE_train\n",
    "print('Train RMSE: {:.2f}'.format(RMSE_train))"
   ]
  },
  {
   "source": [
    "# Ensemble Learning\n",
    "Key take-away :  \n",
    "1) Ensemble learning for solving CARTs tend to overfitting (variance) in alogrithm.  \n",
    "2) Voting classifier : `Same` training set, `difference` algorithm. Final result from most predicted lable.  "
   ],
   "cell_type": "markdown",
   "metadata": {}
  },
  {
   "cell_type": "code",
   "execution_count": 112,
   "metadata": {},
   "outputs": [],
   "source": [
    "from sklearn.preprocessing import LabelBinarizer\n",
    "from sklearn.model_selection import train_test_split\n",
    "\n",
    "df = \\\n",
    "(pd\n",
    " .read_csv('../dataset/ILPD.csv')\n",
    " .dropna()\n",
    " .assign(gender = lambda x : LabelBinarizer().fit_transform(x['gender']))\n",
    ")\n",
    "\n",
    "X = df.drop(['is_patient'], axis='columns').to_numpy()\n",
    "y = df['is_patient'].to_numpy()\n",
    "\n",
    "X_train, X_test, y_train, y_test = train_test_split(X, y, train_size=0.7, random_state=SEED)"
   ]
  },
  {
   "cell_type": "code",
   "execution_count": 113,
   "metadata": {},
   "outputs": [],
   "source": [
    "from sklearn.linear_model import LogisticRegression\n",
    "from sklearn.tree import DecisionTreeClassifier\n",
    "from sklearn.neighbors import KNeighborsClassifier as KNN\n",
    "\n",
    "from sklearn.metrics import accuracy_score\n",
    "\n",
    "SEED=1\n",
    "\n",
    "lr = LogisticRegression(random_state=SEED)\n",
    "\n",
    "knn = KNN(n_neighbors=27)\n",
    "\n",
    "dt = DecisionTreeClassifier(min_samples_leaf=0.13, random_state=SEED)\n",
    "\n",
    "# Define the list classifiers\n",
    "classifiers = [('Logistic Regression', lr), ('K Nearest Neighbours', knn), ('Classification Tree', dt)]"
   ]
  },
  {
   "cell_type": "code",
   "execution_count": 114,
   "metadata": {},
   "outputs": [
    {
     "output_type": "stream",
     "name": "stdout",
     "text": [
      "Logistic Regression : 0.730\n",
      "K Nearest Neighbours : 0.684\n",
      "Classification Tree : 0.730\n",
      "/opt/miniconda3/lib/python3.8/site-packages/sklearn/linear_model/_logistic.py:763: ConvergenceWarning: lbfgs failed to converge (status=1):\n",
      "STOP: TOTAL NO. of ITERATIONS REACHED LIMIT.\n",
      "\n",
      "Increase the number of iterations (max_iter) or scale the data as shown in:\n",
      "    https://scikit-learn.org/stable/modules/preprocessing.html\n",
      "Please also refer to the documentation for alternative solver options:\n",
      "    https://scikit-learn.org/stable/modules/linear_model.html#logistic-regression\n",
      "  n_iter_i = _check_optimize_result(\n"
     ]
    }
   ],
   "source": [
    "# Iterate over the pre-defined list of classifiers\n",
    "for clf_name, clf in classifiers:    \n",
    " \n",
    "    # Fit clf to the training set\n",
    "    clf.fit(X_train, y_train)    \n",
    "    # Predict y_pred\n",
    "   \n",
    "    y_pred = clf.predict(X_test)\n",
    "    \n",
    "    # Calculate accuracy\n",
    "    accuracy = accuracy_score(y_pred, y_test) \n",
    "   \n",
    "    # Evaluate clf's accuracy on the test set\n",
    "    print('{:s} : {:.3f}'.format(clf_name, accuracy))"
   ]
  },
  {
   "cell_type": "code",
   "execution_count": 115,
   "metadata": {},
   "outputs": [
    {
     "output_type": "stream",
     "name": "stdout",
     "text": [
      "Voting Classifier: 0.707\n",
      "/opt/miniconda3/lib/python3.8/site-packages/sklearn/linear_model/_logistic.py:763: ConvergenceWarning: lbfgs failed to converge (status=1):\n",
      "STOP: TOTAL NO. of ITERATIONS REACHED LIMIT.\n",
      "\n",
      "Increase the number of iterations (max_iter) or scale the data as shown in:\n",
      "    https://scikit-learn.org/stable/modules/preprocessing.html\n",
      "Please also refer to the documentation for alternative solver options:\n",
      "    https://scikit-learn.org/stable/modules/linear_model.html#logistic-regression\n",
      "  n_iter_i = _check_optimize_result(\n"
     ]
    }
   ],
   "source": [
    "# Import VotingClassifier from sklearn.ensemble\n",
    "from sklearn.ensemble import VotingClassifier\n",
    "\n",
    "# Instantiate a VotingClassifier vc\n",
    "vc = VotingClassifier(estimators=classifiers)     \n",
    "\n",
    "# Fit vc to the training set\n",
    "vc.fit(X_train, y_train)   \n",
    "\n",
    "# Evaluate the test set predictions\n",
    "y_pred = vc.predict(X_test)\n",
    "\n",
    "# Calculate accuracy score\n",
    "accuracy = accuracy_score(y_test, y_pred)\n",
    "print('Voting Classifier: {:.3f}'.format(accuracy))"
   ]
  },
  {
   "source": [
    "# Bagging (Bootstrap Aggregation)\n",
    "Key Take-away :  \n",
    "1) Reduce `overfitting (varience)` in ensemble methods.  \n",
    "2) `Same` alogrithm, `difference` subset of data  "
   ],
   "cell_type": "markdown",
   "metadata": {}
  },
  {
   "cell_type": "code",
   "execution_count": 126,
   "metadata": {},
   "outputs": [],
   "source": [
    "from sklearn.preprocessing import LabelBinarizer\n",
    "from sklearn.model_selection import train_test_split\n",
    "\n",
    "df = \\\n",
    "(pd\n",
    " .read_csv('../dataset/ILPD.csv')\n",
    " .dropna()\n",
    " .assign(gender = lambda x : LabelBinarizer().fit_transform(x['gender']))\n",
    ")\n",
    "\n",
    "X = df.drop(['is_patient'], axis='columns').to_numpy()\n",
    "y = df['is_patient'].to_numpy()\n",
    "\n",
    "X_train, X_test, y_train, y_test = train_test_split(X, y, train_size=0.7, random_state=1, stratify=y)"
   ]
  },
  {
   "cell_type": "code",
   "execution_count": 127,
   "metadata": {},
   "outputs": [
    {
     "output_type": "stream",
     "name": "stdout",
     "text": [
      "0.7068965517241379\n"
     ]
    }
   ],
   "source": [
    "from sklearn.tree import DecisionTreeClassifier\n",
    "from sklearn.ensemble import BaggingClassifier\n",
    "from sklearn.metrics import accuracy_score\n",
    "\n",
    "dt = DecisionTreeClassifier(random_state=1)\n",
    "bc = BaggingClassifier(base_estimator=dt, n_estimators=50, random_state=1)\n",
    "\n",
    "bc.fit(X_train, y_train)\n",
    "y_pred = bc.predict(X_test)\n",
    "accu = accuracy_score(y_test, y_pred)\n",
    "print(accu)"
   ]
  },
  {
   "source": [
    "Add Out Of Bag (OOB), as cross validation for ensemble bagging"
   ],
   "cell_type": "markdown",
   "metadata": {}
  },
  {
   "cell_type": "code",
   "execution_count": 128,
   "metadata": {},
   "outputs": [
    {
     "output_type": "stream",
     "name": "stdout",
     "text": [
      "Test set accuracy: 0.678, OOB accuracy: 0.701\n"
     ]
    }
   ],
   "source": [
    "from sklearn.tree import DecisionTreeClassifier\n",
    "from sklearn.ensemble import BaggingClassifier\n",
    "dt = DecisionTreeClassifier(min_samples_leaf=8, random_state=1)\n",
    "\n",
    "bc = BaggingClassifier(base_estimator=dt, \n",
    "            n_estimators=50,\n",
    "            oob_score=True,\n",
    "            random_state=1)\n",
    "bc.fit(X_train, y_train)\n",
    "y_pred = bc.predict(X_test)\n",
    "acc_test = accuracy_score(y_pred, y_test)\n",
    "\n",
    "acc_oob = bc.oob_score_\n",
    "\n",
    "print('Test set accuracy: {:.3f}, OOB accuracy: {:.3f}'.format(acc_test, acc_oob))"
   ]
  },
  {
   "source": [
    "# Random Forest (RF)  \n",
    "Key take-away  \n",
    "1) Tree-based  \n",
    "2) Bootstrap learning + sample of features use in each tree"
   ],
   "cell_type": "markdown",
   "metadata": {}
  },
  {
   "source": [
    "from sklearn.model_selection import train_test_split\n",
    "\n",
    "df = \\\n",
    "(pd\n",
    " .read_csv('../dataset/bike_sharing_train.csv', parse_dates=['datetime'])\n",
    " .assign(hour = lambda x : x['datetime'].dt.hour)\n",
    " .assign(mth = lambda x : x['datetime'].dt.month)\n",
    " .assign(yr = lambda x : x['datetime'].dt.year)\n",
    " .drop(['casual', 'registered', 'datetime'], axis='columns')\n",
    ")\n",
    "y = df['count']\n",
    "X = df.drop(['count'], axis='columns')\n",
    "\n",
    "X_train, X_test, y_train, y_test = train_test_split(X, y, train_size=0.7, random_state=1)"
   ],
   "cell_type": "code",
   "metadata": {},
   "execution_count": 164,
   "outputs": []
  },
  {
   "cell_type": "code",
   "execution_count": 154,
   "metadata": {},
   "outputs": [
    {
     "output_type": "stream",
     "name": "stdout",
     "text": [
      "Test set RMSE of rf: 43.50\n"
     ]
    }
   ],
   "source": [
    "from sklearn.ensemble import RandomForestRegressor\n",
    "from sklearn.metrics import mean_squared_error as MSE\n",
    "from matplotlib import pyplot as plt\n",
    "\n",
    "rf = RandomForestRegressor(n_estimators=25, random_state=1)\n",
    "rf.fit(X_train, y_train)\n",
    "y_pred = rf.predict(X_test)\n",
    "rmse_test = MSE(y_test, y_pred)**(1/2)\n",
    "print('Test set RMSE of rf: {:.2f}'.format(rmse_test))"
   ]
  },
  {
   "cell_type": "code",
   "execution_count": 155,
   "metadata": {},
   "outputs": [
    {
     "output_type": "display_data",
     "data": {
      "text/plain": "<Figure size 432x288 with 1 Axes>",
      "image/svg+xml": "<?xml version=\"1.0\" encoding=\"utf-8\" standalone=\"no\"?>\n<!DOCTYPE svg PUBLIC \"-//W3C//DTD SVG 1.1//EN\"\n  \"http://www.w3.org/Graphics/SVG/1.1/DTD/svg11.dtd\">\n<!-- Created with matplotlib (https://matplotlib.org/) -->\n<svg height=\"263.63625pt\" version=\"1.1\" viewBox=\"0 0 414.257812 263.63625\" width=\"414.257812pt\" xmlns=\"http://www.w3.org/2000/svg\" xmlns:xlink=\"http://www.w3.org/1999/xlink\">\n <metadata>\n  <rdf:RDF xmlns:cc=\"http://creativecommons.org/ns#\" xmlns:dc=\"http://purl.org/dc/elements/1.1/\" xmlns:rdf=\"http://www.w3.org/1999/02/22-rdf-syntax-ns#\">\n   <cc:Work>\n    <dc:type rdf:resource=\"http://purl.org/dc/dcmitype/StillImage\"/>\n    <dc:date>2021-05-23T18:40:34.287387</dc:date>\n    <dc:format>image/svg+xml</dc:format>\n    <dc:creator>\n     <cc:Agent>\n      <dc:title>Matplotlib v3.3.4, https://matplotlib.org/</dc:title>\n     </cc:Agent>\n    </dc:creator>\n   </cc:Work>\n  </rdf:RDF>\n </metadata>\n <defs>\n  <style type=\"text/css\">*{stroke-linecap:butt;stroke-linejoin:round;}</style>\n </defs>\n <g id=\"figure_1\">\n  <g id=\"patch_1\">\n   <path d=\"M 0 263.63625 \nL 414.257812 263.63625 \nL 414.257812 0 \nL 0 0 \nz\n\" style=\"fill:none;\"/>\n  </g>\n  <g id=\"axes_1\">\n   <g id=\"patch_2\">\n    <path d=\"M 72.257812 239.758125 \nL 407.057813 239.758125 \nL 407.057813 22.318125 \nL 72.257812 22.318125 \nz\n\" style=\"fill:#ffffff;\"/>\n   </g>\n   <g id=\"patch_3\">\n    <path clip-path=\"url(#p2847aad264)\" d=\"M 72.257812 234.816307 \nL 73.691553 234.816307 \nL 73.691553 224.93267 \nL 72.257812 224.93267 \nz\n\" style=\"fill:#90ee90;\"/>\n   </g>\n   <g id=\"patch_4\">\n    <path clip-path=\"url(#p2847aad264)\" d=\"M 72.257812 215.049034 \nL 76.177495 215.049034 \nL 76.177495 205.165398 \nL 72.257812 205.165398 \nz\n\" style=\"fill:#90ee90;\"/>\n   </g>\n   <g id=\"patch_5\">\n    <path clip-path=\"url(#p2847aad264)\" d=\"M 72.257812 195.281761 \nL 78.624434 195.281761 \nL 78.624434 185.398125 \nL 72.257812 185.398125 \nz\n\" style=\"fill:#90ee90;\"/>\n   </g>\n   <g id=\"patch_6\">\n    <path clip-path=\"url(#p2847aad264)\" d=\"M 72.257812 175.514489 \nL 80.266123 175.514489 \nL 80.266123 165.630852 \nL 72.257812 165.630852 \nz\n\" style=\"fill:#90ee90;\"/>\n   </g>\n   <g id=\"patch_7\">\n    <path clip-path=\"url(#p2847aad264)\" d=\"M 72.257812 155.747216 \nL 88.848219 155.747216 \nL 88.848219 145.86358 \nL 72.257812 145.86358 \nz\n\" style=\"fill:#90ee90;\"/>\n   </g>\n   <g id=\"patch_8\">\n    <path clip-path=\"url(#p2847aad264)\" d=\"M 72.257812 135.979943 \nL 99.855115 135.979943 \nL 99.855115 126.096307 \nL 72.257812 126.096307 \nz\n\" style=\"fill:#90ee90;\"/>\n   </g>\n   <g id=\"patch_9\">\n    <path clip-path=\"url(#p2847aad264)\" d=\"M 72.257812 116.21267 \nL 100.078949 116.21267 \nL 100.078949 106.329034 \nL 72.257812 106.329034 \nz\n\" style=\"fill:#90ee90;\"/>\n   </g>\n   <g id=\"patch_10\">\n    <path clip-path=\"url(#p2847aad264)\" d=\"M 72.257812 96.445398 \nL 103.997557 96.445398 \nL 103.997557 86.561761 \nL 72.257812 86.561761 \nz\n\" style=\"fill:#90ee90;\"/>\n   </g>\n   <g id=\"patch_11\">\n    <path clip-path=\"url(#p2847aad264)\" d=\"M 72.257812 76.678125 \nL 115.960688 76.678125 \nL 115.960688 66.794489 \nL 72.257812 66.794489 \nz\n\" style=\"fill:#90ee90;\"/>\n   </g>\n   <g id=\"patch_12\">\n    <path clip-path=\"url(#p2847aad264)\" d=\"M 72.257812 56.910852 \nL 117.694152 56.910852 \nL 117.694152 47.027216 \nL 72.257812 47.027216 \nz\n\" style=\"fill:#90ee90;\"/>\n   </g>\n   <g id=\"patch_13\">\n    <path clip-path=\"url(#p2847aad264)\" d=\"M 72.257812 37.14358 \nL 391.114955 37.14358 \nL 391.114955 27.259943 \nL 72.257812 27.259943 \nz\n\" style=\"fill:#90ee90;\"/>\n   </g>\n   <g id=\"matplotlib.axis_1\">\n    <g id=\"xtick_1\">\n     <g id=\"line2d_1\">\n      <defs>\n       <path d=\"M 0 0 \nL 0 3.5 \n\" id=\"m657bbbb47d\" style=\"stroke:#000000;stroke-width:0.8;\"/>\n      </defs>\n      <g>\n       <use style=\"stroke:#000000;stroke-width:0.8;\" x=\"72.257812\" xlink:href=\"#m657bbbb47d\" y=\"239.758125\"/>\n      </g>\n     </g>\n     <g id=\"text_1\">\n      <!-- 0.0 -->\n      <g transform=\"translate(64.30625 254.356563)scale(0.1 -0.1)\">\n       <defs>\n        <path d=\"M 31.78125 66.40625 \nQ 24.171875 66.40625 20.328125 58.90625 \nQ 16.5 51.421875 16.5 36.375 \nQ 16.5 21.390625 20.328125 13.890625 \nQ 24.171875 6.390625 31.78125 6.390625 \nQ 39.453125 6.390625 43.28125 13.890625 \nQ 47.125 21.390625 47.125 36.375 \nQ 47.125 51.421875 43.28125 58.90625 \nQ 39.453125 66.40625 31.78125 66.40625 \nz\nM 31.78125 74.21875 \nQ 44.046875 74.21875 50.515625 64.515625 \nQ 56.984375 54.828125 56.984375 36.375 \nQ 56.984375 17.96875 50.515625 8.265625 \nQ 44.046875 -1.421875 31.78125 -1.421875 \nQ 19.53125 -1.421875 13.0625 8.265625 \nQ 6.59375 17.96875 6.59375 36.375 \nQ 6.59375 54.828125 13.0625 64.515625 \nQ 19.53125 74.21875 31.78125 74.21875 \nz\n\" id=\"DejaVuSans-48\"/>\n        <path d=\"M 10.6875 12.40625 \nL 21 12.40625 \nL 21 0 \nL 10.6875 0 \nz\n\" id=\"DejaVuSans-46\"/>\n       </defs>\n       <use xlink:href=\"#DejaVuSans-48\"/>\n       <use x=\"63.623047\" xlink:href=\"#DejaVuSans-46\"/>\n       <use x=\"95.410156\" xlink:href=\"#DejaVuSans-48\"/>\n      </g>\n     </g>\n    </g>\n    <g id=\"xtick_2\">\n     <g id=\"line2d_2\">\n      <g>\n       <use style=\"stroke:#000000;stroke-width:0.8;\" x=\"125.405143\" xlink:href=\"#m657bbbb47d\" y=\"239.758125\"/>\n      </g>\n     </g>\n     <g id=\"text_2\">\n      <!-- 0.1 -->\n      <g transform=\"translate(117.45358 254.356563)scale(0.1 -0.1)\">\n       <defs>\n        <path d=\"M 12.40625 8.296875 \nL 28.515625 8.296875 \nL 28.515625 63.921875 \nL 10.984375 60.40625 \nL 10.984375 69.390625 \nL 28.421875 72.90625 \nL 38.28125 72.90625 \nL 38.28125 8.296875 \nL 54.390625 8.296875 \nL 54.390625 0 \nL 12.40625 0 \nz\n\" id=\"DejaVuSans-49\"/>\n       </defs>\n       <use xlink:href=\"#DejaVuSans-48\"/>\n       <use x=\"63.623047\" xlink:href=\"#DejaVuSans-46\"/>\n       <use x=\"95.410156\" xlink:href=\"#DejaVuSans-49\"/>\n      </g>\n     </g>\n    </g>\n    <g id=\"xtick_3\">\n     <g id=\"line2d_3\">\n      <g>\n       <use style=\"stroke:#000000;stroke-width:0.8;\" x=\"178.552473\" xlink:href=\"#m657bbbb47d\" y=\"239.758125\"/>\n      </g>\n     </g>\n     <g id=\"text_3\">\n      <!-- 0.2 -->\n      <g transform=\"translate(170.600911 254.356563)scale(0.1 -0.1)\">\n       <defs>\n        <path d=\"M 19.1875 8.296875 \nL 53.609375 8.296875 \nL 53.609375 0 \nL 7.328125 0 \nL 7.328125 8.296875 \nQ 12.9375 14.109375 22.625 23.890625 \nQ 32.328125 33.6875 34.8125 36.53125 \nQ 39.546875 41.84375 41.421875 45.53125 \nQ 43.3125 49.21875 43.3125 52.78125 \nQ 43.3125 58.59375 39.234375 62.25 \nQ 35.15625 65.921875 28.609375 65.921875 \nQ 23.96875 65.921875 18.8125 64.3125 \nQ 13.671875 62.703125 7.8125 59.421875 \nL 7.8125 69.390625 \nQ 13.765625 71.78125 18.9375 73 \nQ 24.125 74.21875 28.421875 74.21875 \nQ 39.75 74.21875 46.484375 68.546875 \nQ 53.21875 62.890625 53.21875 53.421875 \nQ 53.21875 48.921875 51.53125 44.890625 \nQ 49.859375 40.875 45.40625 35.40625 \nQ 44.1875 33.984375 37.640625 27.21875 \nQ 31.109375 20.453125 19.1875 8.296875 \nz\n\" id=\"DejaVuSans-50\"/>\n       </defs>\n       <use xlink:href=\"#DejaVuSans-48\"/>\n       <use x=\"63.623047\" xlink:href=\"#DejaVuSans-46\"/>\n       <use x=\"95.410156\" xlink:href=\"#DejaVuSans-50\"/>\n      </g>\n     </g>\n    </g>\n    <g id=\"xtick_4\">\n     <g id=\"line2d_4\">\n      <g>\n       <use style=\"stroke:#000000;stroke-width:0.8;\" x=\"231.699804\" xlink:href=\"#m657bbbb47d\" y=\"239.758125\"/>\n      </g>\n     </g>\n     <g id=\"text_4\">\n      <!-- 0.3 -->\n      <g transform=\"translate(223.748241 254.356563)scale(0.1 -0.1)\">\n       <defs>\n        <path d=\"M 40.578125 39.3125 \nQ 47.65625 37.796875 51.625 33 \nQ 55.609375 28.21875 55.609375 21.1875 \nQ 55.609375 10.40625 48.1875 4.484375 \nQ 40.765625 -1.421875 27.09375 -1.421875 \nQ 22.515625 -1.421875 17.65625 -0.515625 \nQ 12.796875 0.390625 7.625 2.203125 \nL 7.625 11.71875 \nQ 11.71875 9.328125 16.59375 8.109375 \nQ 21.484375 6.890625 26.8125 6.890625 \nQ 36.078125 6.890625 40.9375 10.546875 \nQ 45.796875 14.203125 45.796875 21.1875 \nQ 45.796875 27.640625 41.28125 31.265625 \nQ 36.765625 34.90625 28.71875 34.90625 \nL 20.21875 34.90625 \nL 20.21875 43.015625 \nL 29.109375 43.015625 \nQ 36.375 43.015625 40.234375 45.921875 \nQ 44.09375 48.828125 44.09375 54.296875 \nQ 44.09375 59.90625 40.109375 62.90625 \nQ 36.140625 65.921875 28.71875 65.921875 \nQ 24.65625 65.921875 20.015625 65.03125 \nQ 15.375 64.15625 9.8125 62.3125 \nL 9.8125 71.09375 \nQ 15.4375 72.65625 20.34375 73.4375 \nQ 25.25 74.21875 29.59375 74.21875 \nQ 40.828125 74.21875 47.359375 69.109375 \nQ 53.90625 64.015625 53.90625 55.328125 \nQ 53.90625 49.265625 50.4375 45.09375 \nQ 46.96875 40.921875 40.578125 39.3125 \nz\n\" id=\"DejaVuSans-51\"/>\n       </defs>\n       <use xlink:href=\"#DejaVuSans-48\"/>\n       <use x=\"63.623047\" xlink:href=\"#DejaVuSans-46\"/>\n       <use x=\"95.410156\" xlink:href=\"#DejaVuSans-51\"/>\n      </g>\n     </g>\n    </g>\n    <g id=\"xtick_5\">\n     <g id=\"line2d_5\">\n      <g>\n       <use style=\"stroke:#000000;stroke-width:0.8;\" x=\"284.847134\" xlink:href=\"#m657bbbb47d\" y=\"239.758125\"/>\n      </g>\n     </g>\n     <g id=\"text_5\">\n      <!-- 0.4 -->\n      <g transform=\"translate(276.895571 254.356563)scale(0.1 -0.1)\">\n       <defs>\n        <path d=\"M 37.796875 64.3125 \nL 12.890625 25.390625 \nL 37.796875 25.390625 \nz\nM 35.203125 72.90625 \nL 47.609375 72.90625 \nL 47.609375 25.390625 \nL 58.015625 25.390625 \nL 58.015625 17.1875 \nL 47.609375 17.1875 \nL 47.609375 0 \nL 37.796875 0 \nL 37.796875 17.1875 \nL 4.890625 17.1875 \nL 4.890625 26.703125 \nz\n\" id=\"DejaVuSans-52\"/>\n       </defs>\n       <use xlink:href=\"#DejaVuSans-48\"/>\n       <use x=\"63.623047\" xlink:href=\"#DejaVuSans-46\"/>\n       <use x=\"95.410156\" xlink:href=\"#DejaVuSans-52\"/>\n      </g>\n     </g>\n    </g>\n    <g id=\"xtick_6\">\n     <g id=\"line2d_6\">\n      <g>\n       <use style=\"stroke:#000000;stroke-width:0.8;\" x=\"337.994464\" xlink:href=\"#m657bbbb47d\" y=\"239.758125\"/>\n      </g>\n     </g>\n     <g id=\"text_6\">\n      <!-- 0.5 -->\n      <g transform=\"translate(330.042902 254.356563)scale(0.1 -0.1)\">\n       <defs>\n        <path d=\"M 10.796875 72.90625 \nL 49.515625 72.90625 \nL 49.515625 64.59375 \nL 19.828125 64.59375 \nL 19.828125 46.734375 \nQ 21.96875 47.46875 24.109375 47.828125 \nQ 26.265625 48.1875 28.421875 48.1875 \nQ 40.625 48.1875 47.75 41.5 \nQ 54.890625 34.8125 54.890625 23.390625 \nQ 54.890625 11.625 47.5625 5.09375 \nQ 40.234375 -1.421875 26.90625 -1.421875 \nQ 22.3125 -1.421875 17.546875 -0.640625 \nQ 12.796875 0.140625 7.71875 1.703125 \nL 7.71875 11.625 \nQ 12.109375 9.234375 16.796875 8.0625 \nQ 21.484375 6.890625 26.703125 6.890625 \nQ 35.15625 6.890625 40.078125 11.328125 \nQ 45.015625 15.765625 45.015625 23.390625 \nQ 45.015625 31 40.078125 35.4375 \nQ 35.15625 39.890625 26.703125 39.890625 \nQ 22.75 39.890625 18.8125 39.015625 \nQ 14.890625 38.140625 10.796875 36.28125 \nz\n\" id=\"DejaVuSans-53\"/>\n       </defs>\n       <use xlink:href=\"#DejaVuSans-48\"/>\n       <use x=\"63.623047\" xlink:href=\"#DejaVuSans-46\"/>\n       <use x=\"95.410156\" xlink:href=\"#DejaVuSans-53\"/>\n      </g>\n     </g>\n    </g>\n    <g id=\"xtick_7\">\n     <g id=\"line2d_7\">\n      <g>\n       <use style=\"stroke:#000000;stroke-width:0.8;\" x=\"391.141795\" xlink:href=\"#m657bbbb47d\" y=\"239.758125\"/>\n      </g>\n     </g>\n     <g id=\"text_7\">\n      <!-- 0.6 -->\n      <g transform=\"translate(383.190232 254.356563)scale(0.1 -0.1)\">\n       <defs>\n        <path d=\"M 33.015625 40.375 \nQ 26.375 40.375 22.484375 35.828125 \nQ 18.609375 31.296875 18.609375 23.390625 \nQ 18.609375 15.53125 22.484375 10.953125 \nQ 26.375 6.390625 33.015625 6.390625 \nQ 39.65625 6.390625 43.53125 10.953125 \nQ 47.40625 15.53125 47.40625 23.390625 \nQ 47.40625 31.296875 43.53125 35.828125 \nQ 39.65625 40.375 33.015625 40.375 \nz\nM 52.59375 71.296875 \nL 52.59375 62.3125 \nQ 48.875 64.0625 45.09375 64.984375 \nQ 41.3125 65.921875 37.59375 65.921875 \nQ 27.828125 65.921875 22.671875 59.328125 \nQ 17.53125 52.734375 16.796875 39.40625 \nQ 19.671875 43.65625 24.015625 45.921875 \nQ 28.375 48.1875 33.59375 48.1875 \nQ 44.578125 48.1875 50.953125 41.515625 \nQ 57.328125 34.859375 57.328125 23.390625 \nQ 57.328125 12.15625 50.6875 5.359375 \nQ 44.046875 -1.421875 33.015625 -1.421875 \nQ 20.359375 -1.421875 13.671875 8.265625 \nQ 6.984375 17.96875 6.984375 36.375 \nQ 6.984375 53.65625 15.1875 63.9375 \nQ 23.390625 74.21875 37.203125 74.21875 \nQ 40.921875 74.21875 44.703125 73.484375 \nQ 48.484375 72.75 52.59375 71.296875 \nz\n\" id=\"DejaVuSans-54\"/>\n       </defs>\n       <use xlink:href=\"#DejaVuSans-48\"/>\n       <use x=\"63.623047\" xlink:href=\"#DejaVuSans-46\"/>\n       <use x=\"95.410156\" xlink:href=\"#DejaVuSans-54\"/>\n      </g>\n     </g>\n    </g>\n   </g>\n   <g id=\"matplotlib.axis_2\">\n    <g id=\"ytick_1\">\n     <g id=\"line2d_8\">\n      <defs>\n       <path d=\"M 0 0 \nL -3.5 0 \n\" id=\"m8b4040fc73\" style=\"stroke:#000000;stroke-width:0.8;\"/>\n      </defs>\n      <g>\n       <use style=\"stroke:#000000;stroke-width:0.8;\" x=\"72.257812\" xlink:href=\"#m8b4040fc73\" y=\"229.874489\"/>\n      </g>\n     </g>\n     <g id=\"text_8\">\n      <!-- holiday -->\n      <g transform=\"translate(28.85 233.673707)scale(0.1 -0.1)\">\n       <defs>\n        <path d=\"M 54.890625 33.015625 \nL 54.890625 0 \nL 45.90625 0 \nL 45.90625 32.71875 \nQ 45.90625 40.484375 42.875 44.328125 \nQ 39.84375 48.1875 33.796875 48.1875 \nQ 26.515625 48.1875 22.3125 43.546875 \nQ 18.109375 38.921875 18.109375 30.90625 \nL 18.109375 0 \nL 9.078125 0 \nL 9.078125 75.984375 \nL 18.109375 75.984375 \nL 18.109375 46.1875 \nQ 21.34375 51.125 25.703125 53.5625 \nQ 30.078125 56 35.796875 56 \nQ 45.21875 56 50.046875 50.171875 \nQ 54.890625 44.34375 54.890625 33.015625 \nz\n\" id=\"DejaVuSans-104\"/>\n        <path d=\"M 30.609375 48.390625 \nQ 23.390625 48.390625 19.1875 42.75 \nQ 14.984375 37.109375 14.984375 27.296875 \nQ 14.984375 17.484375 19.15625 11.84375 \nQ 23.34375 6.203125 30.609375 6.203125 \nQ 37.796875 6.203125 41.984375 11.859375 \nQ 46.1875 17.53125 46.1875 27.296875 \nQ 46.1875 37.015625 41.984375 42.703125 \nQ 37.796875 48.390625 30.609375 48.390625 \nz\nM 30.609375 56 \nQ 42.328125 56 49.015625 48.375 \nQ 55.71875 40.765625 55.71875 27.296875 \nQ 55.71875 13.875 49.015625 6.21875 \nQ 42.328125 -1.421875 30.609375 -1.421875 \nQ 18.84375 -1.421875 12.171875 6.21875 \nQ 5.515625 13.875 5.515625 27.296875 \nQ 5.515625 40.765625 12.171875 48.375 \nQ 18.84375 56 30.609375 56 \nz\n\" id=\"DejaVuSans-111\"/>\n        <path d=\"M 9.421875 75.984375 \nL 18.40625 75.984375 \nL 18.40625 0 \nL 9.421875 0 \nz\n\" id=\"DejaVuSans-108\"/>\n        <path d=\"M 9.421875 54.6875 \nL 18.40625 54.6875 \nL 18.40625 0 \nL 9.421875 0 \nz\nM 9.421875 75.984375 \nL 18.40625 75.984375 \nL 18.40625 64.59375 \nL 9.421875 64.59375 \nz\n\" id=\"DejaVuSans-105\"/>\n        <path d=\"M 45.40625 46.390625 \nL 45.40625 75.984375 \nL 54.390625 75.984375 \nL 54.390625 0 \nL 45.40625 0 \nL 45.40625 8.203125 \nQ 42.578125 3.328125 38.25 0.953125 \nQ 33.9375 -1.421875 27.875 -1.421875 \nQ 17.96875 -1.421875 11.734375 6.484375 \nQ 5.515625 14.40625 5.515625 27.296875 \nQ 5.515625 40.1875 11.734375 48.09375 \nQ 17.96875 56 27.875 56 \nQ 33.9375 56 38.25 53.625 \nQ 42.578125 51.265625 45.40625 46.390625 \nz\nM 14.796875 27.296875 \nQ 14.796875 17.390625 18.875 11.75 \nQ 22.953125 6.109375 30.078125 6.109375 \nQ 37.203125 6.109375 41.296875 11.75 \nQ 45.40625 17.390625 45.40625 27.296875 \nQ 45.40625 37.203125 41.296875 42.84375 \nQ 37.203125 48.484375 30.078125 48.484375 \nQ 22.953125 48.484375 18.875 42.84375 \nQ 14.796875 37.203125 14.796875 27.296875 \nz\n\" id=\"DejaVuSans-100\"/>\n        <path d=\"M 34.28125 27.484375 \nQ 23.390625 27.484375 19.1875 25 \nQ 14.984375 22.515625 14.984375 16.5 \nQ 14.984375 11.71875 18.140625 8.90625 \nQ 21.296875 6.109375 26.703125 6.109375 \nQ 34.1875 6.109375 38.703125 11.40625 \nQ 43.21875 16.703125 43.21875 25.484375 \nL 43.21875 27.484375 \nz\nM 52.203125 31.203125 \nL 52.203125 0 \nL 43.21875 0 \nL 43.21875 8.296875 \nQ 40.140625 3.328125 35.546875 0.953125 \nQ 30.953125 -1.421875 24.3125 -1.421875 \nQ 15.921875 -1.421875 10.953125 3.296875 \nQ 6 8.015625 6 15.921875 \nQ 6 25.140625 12.171875 29.828125 \nQ 18.359375 34.515625 30.609375 34.515625 \nL 43.21875 34.515625 \nL 43.21875 35.40625 \nQ 43.21875 41.609375 39.140625 45 \nQ 35.0625 48.390625 27.6875 48.390625 \nQ 23 48.390625 18.546875 47.265625 \nQ 14.109375 46.140625 10.015625 43.890625 \nL 10.015625 52.203125 \nQ 14.9375 54.109375 19.578125 55.046875 \nQ 24.21875 56 28.609375 56 \nQ 40.484375 56 46.34375 49.84375 \nQ 52.203125 43.703125 52.203125 31.203125 \nz\n\" id=\"DejaVuSans-97\"/>\n        <path d=\"M 32.171875 -5.078125 \nQ 28.375 -14.84375 24.75 -17.8125 \nQ 21.140625 -20.796875 15.09375 -20.796875 \nL 7.90625 -20.796875 \nL 7.90625 -13.28125 \nL 13.1875 -13.28125 \nQ 16.890625 -13.28125 18.9375 -11.515625 \nQ 21 -9.765625 23.484375 -3.21875 \nL 25.09375 0.875 \nL 2.984375 54.6875 \nL 12.5 54.6875 \nL 29.59375 11.921875 \nL 46.6875 54.6875 \nL 56.203125 54.6875 \nz\n\" id=\"DejaVuSans-121\"/>\n       </defs>\n       <use xlink:href=\"#DejaVuSans-104\"/>\n       <use x=\"63.378906\" xlink:href=\"#DejaVuSans-111\"/>\n       <use x=\"124.560547\" xlink:href=\"#DejaVuSans-108\"/>\n       <use x=\"152.34375\" xlink:href=\"#DejaVuSans-105\"/>\n       <use x=\"180.126953\" xlink:href=\"#DejaVuSans-100\"/>\n       <use x=\"243.603516\" xlink:href=\"#DejaVuSans-97\"/>\n       <use x=\"304.882812\" xlink:href=\"#DejaVuSans-121\"/>\n      </g>\n     </g>\n    </g>\n    <g id=\"ytick_2\">\n     <g id=\"line2d_9\">\n      <g>\n       <use style=\"stroke:#000000;stroke-width:0.8;\" x=\"72.257812\" xlink:href=\"#m8b4040fc73\" y=\"210.107216\"/>\n      </g>\n     </g>\n     <g id=\"text_9\">\n      <!-- season -->\n      <g transform=\"translate(30.101562 213.906435)scale(0.1 -0.1)\">\n       <defs>\n        <path d=\"M 44.28125 53.078125 \nL 44.28125 44.578125 \nQ 40.484375 46.53125 36.375 47.5 \nQ 32.28125 48.484375 27.875 48.484375 \nQ 21.1875 48.484375 17.84375 46.4375 \nQ 14.5 44.390625 14.5 40.28125 \nQ 14.5 37.15625 16.890625 35.375 \nQ 19.28125 33.59375 26.515625 31.984375 \nL 29.59375 31.296875 \nQ 39.15625 29.25 43.1875 25.515625 \nQ 47.21875 21.78125 47.21875 15.09375 \nQ 47.21875 7.46875 41.1875 3.015625 \nQ 35.15625 -1.421875 24.609375 -1.421875 \nQ 20.21875 -1.421875 15.453125 -0.5625 \nQ 10.6875 0.296875 5.421875 2 \nL 5.421875 11.28125 \nQ 10.40625 8.6875 15.234375 7.390625 \nQ 20.0625 6.109375 24.8125 6.109375 \nQ 31.15625 6.109375 34.5625 8.28125 \nQ 37.984375 10.453125 37.984375 14.40625 \nQ 37.984375 18.0625 35.515625 20.015625 \nQ 33.0625 21.96875 24.703125 23.78125 \nL 21.578125 24.515625 \nQ 13.234375 26.265625 9.515625 29.90625 \nQ 5.8125 33.546875 5.8125 39.890625 \nQ 5.8125 47.609375 11.28125 51.796875 \nQ 16.75 56 26.8125 56 \nQ 31.78125 56 36.171875 55.265625 \nQ 40.578125 54.546875 44.28125 53.078125 \nz\n\" id=\"DejaVuSans-115\"/>\n        <path d=\"M 56.203125 29.59375 \nL 56.203125 25.203125 \nL 14.890625 25.203125 \nQ 15.484375 15.921875 20.484375 11.0625 \nQ 25.484375 6.203125 34.421875 6.203125 \nQ 39.59375 6.203125 44.453125 7.46875 \nQ 49.3125 8.734375 54.109375 11.28125 \nL 54.109375 2.78125 \nQ 49.265625 0.734375 44.1875 -0.34375 \nQ 39.109375 -1.421875 33.890625 -1.421875 \nQ 20.796875 -1.421875 13.15625 6.1875 \nQ 5.515625 13.8125 5.515625 26.8125 \nQ 5.515625 40.234375 12.765625 48.109375 \nQ 20.015625 56 32.328125 56 \nQ 43.359375 56 49.78125 48.890625 \nQ 56.203125 41.796875 56.203125 29.59375 \nz\nM 47.21875 32.234375 \nQ 47.125 39.59375 43.09375 43.984375 \nQ 39.0625 48.390625 32.421875 48.390625 \nQ 24.90625 48.390625 20.390625 44.140625 \nQ 15.875 39.890625 15.1875 32.171875 \nz\n\" id=\"DejaVuSans-101\"/>\n        <path d=\"M 54.890625 33.015625 \nL 54.890625 0 \nL 45.90625 0 \nL 45.90625 32.71875 \nQ 45.90625 40.484375 42.875 44.328125 \nQ 39.84375 48.1875 33.796875 48.1875 \nQ 26.515625 48.1875 22.3125 43.546875 \nQ 18.109375 38.921875 18.109375 30.90625 \nL 18.109375 0 \nL 9.078125 0 \nL 9.078125 54.6875 \nL 18.109375 54.6875 \nL 18.109375 46.1875 \nQ 21.34375 51.125 25.703125 53.5625 \nQ 30.078125 56 35.796875 56 \nQ 45.21875 56 50.046875 50.171875 \nQ 54.890625 44.34375 54.890625 33.015625 \nz\n\" id=\"DejaVuSans-110\"/>\n       </defs>\n       <use xlink:href=\"#DejaVuSans-115\"/>\n       <use x=\"52.099609\" xlink:href=\"#DejaVuSans-101\"/>\n       <use x=\"113.623047\" xlink:href=\"#DejaVuSans-97\"/>\n       <use x=\"174.902344\" xlink:href=\"#DejaVuSans-115\"/>\n       <use x=\"227.001953\" xlink:href=\"#DejaVuSans-111\"/>\n       <use x=\"288.183594\" xlink:href=\"#DejaVuSans-110\"/>\n      </g>\n     </g>\n    </g>\n    <g id=\"ytick_3\">\n     <g id=\"line2d_10\">\n      <g>\n       <use style=\"stroke:#000000;stroke-width:0.8;\" x=\"72.257812\" xlink:href=\"#m8b4040fc73\" y=\"190.339943\"/>\n      </g>\n     </g>\n     <g id=\"text_10\">\n      <!-- windspeed -->\n      <g transform=\"translate(11.403125 194.139162)scale(0.1 -0.1)\">\n       <defs>\n        <path d=\"M 4.203125 54.6875 \nL 13.1875 54.6875 \nL 24.421875 12.015625 \nL 35.59375 54.6875 \nL 46.1875 54.6875 \nL 57.421875 12.015625 \nL 68.609375 54.6875 \nL 77.59375 54.6875 \nL 63.28125 0 \nL 52.6875 0 \nL 40.921875 44.828125 \nL 29.109375 0 \nL 18.5 0 \nz\n\" id=\"DejaVuSans-119\"/>\n        <path d=\"M 18.109375 8.203125 \nL 18.109375 -20.796875 \nL 9.078125 -20.796875 \nL 9.078125 54.6875 \nL 18.109375 54.6875 \nL 18.109375 46.390625 \nQ 20.953125 51.265625 25.265625 53.625 \nQ 29.59375 56 35.59375 56 \nQ 45.5625 56 51.78125 48.09375 \nQ 58.015625 40.1875 58.015625 27.296875 \nQ 58.015625 14.40625 51.78125 6.484375 \nQ 45.5625 -1.421875 35.59375 -1.421875 \nQ 29.59375 -1.421875 25.265625 0.953125 \nQ 20.953125 3.328125 18.109375 8.203125 \nz\nM 48.6875 27.296875 \nQ 48.6875 37.203125 44.609375 42.84375 \nQ 40.53125 48.484375 33.40625 48.484375 \nQ 26.265625 48.484375 22.1875 42.84375 \nQ 18.109375 37.203125 18.109375 27.296875 \nQ 18.109375 17.390625 22.1875 11.75 \nQ 26.265625 6.109375 33.40625 6.109375 \nQ 40.53125 6.109375 44.609375 11.75 \nQ 48.6875 17.390625 48.6875 27.296875 \nz\n\" id=\"DejaVuSans-112\"/>\n       </defs>\n       <use xlink:href=\"#DejaVuSans-119\"/>\n       <use x=\"81.787109\" xlink:href=\"#DejaVuSans-105\"/>\n       <use x=\"109.570312\" xlink:href=\"#DejaVuSans-110\"/>\n       <use x=\"172.949219\" xlink:href=\"#DejaVuSans-100\"/>\n       <use x=\"236.425781\" xlink:href=\"#DejaVuSans-115\"/>\n       <use x=\"288.525391\" xlink:href=\"#DejaVuSans-112\"/>\n       <use x=\"352.001953\" xlink:href=\"#DejaVuSans-101\"/>\n       <use x=\"413.525391\" xlink:href=\"#DejaVuSans-101\"/>\n       <use x=\"475.048828\" xlink:href=\"#DejaVuSans-100\"/>\n      </g>\n     </g>\n    </g>\n    <g id=\"ytick_4\">\n     <g id=\"line2d_11\">\n      <g>\n       <use style=\"stroke:#000000;stroke-width:0.8;\" x=\"72.257812\" xlink:href=\"#m8b4040fc73\" y=\"170.57267\"/>\n      </g>\n     </g>\n     <g id=\"text_11\">\n      <!-- weather -->\n      <g transform=\"translate(24.276562 174.371889)scale(0.1 -0.1)\">\n       <defs>\n        <path d=\"M 18.3125 70.21875 \nL 18.3125 54.6875 \nL 36.8125 54.6875 \nL 36.8125 47.703125 \nL 18.3125 47.703125 \nL 18.3125 18.015625 \nQ 18.3125 11.328125 20.140625 9.421875 \nQ 21.96875 7.515625 27.59375 7.515625 \nL 36.8125 7.515625 \nL 36.8125 0 \nL 27.59375 0 \nQ 17.1875 0 13.234375 3.875 \nQ 9.28125 7.765625 9.28125 18.015625 \nL 9.28125 47.703125 \nL 2.6875 47.703125 \nL 2.6875 54.6875 \nL 9.28125 54.6875 \nL 9.28125 70.21875 \nz\n\" id=\"DejaVuSans-116\"/>\n        <path d=\"M 41.109375 46.296875 \nQ 39.59375 47.171875 37.8125 47.578125 \nQ 36.03125 48 33.890625 48 \nQ 26.265625 48 22.1875 43.046875 \nQ 18.109375 38.09375 18.109375 28.8125 \nL 18.109375 0 \nL 9.078125 0 \nL 9.078125 54.6875 \nL 18.109375 54.6875 \nL 18.109375 46.1875 \nQ 20.953125 51.171875 25.484375 53.578125 \nQ 30.03125 56 36.53125 56 \nQ 37.453125 56 38.578125 55.875 \nQ 39.703125 55.765625 41.0625 55.515625 \nz\n\" id=\"DejaVuSans-114\"/>\n       </defs>\n       <use xlink:href=\"#DejaVuSans-119\"/>\n       <use x=\"81.787109\" xlink:href=\"#DejaVuSans-101\"/>\n       <use x=\"143.310547\" xlink:href=\"#DejaVuSans-97\"/>\n       <use x=\"204.589844\" xlink:href=\"#DejaVuSans-116\"/>\n       <use x=\"243.798828\" xlink:href=\"#DejaVuSans-104\"/>\n       <use x=\"307.177734\" xlink:href=\"#DejaVuSans-101\"/>\n       <use x=\"368.701172\" xlink:href=\"#DejaVuSans-114\"/>\n      </g>\n     </g>\n    </g>\n    <g id=\"ytick_5\">\n     <g id=\"line2d_12\">\n      <g>\n       <use style=\"stroke:#000000;stroke-width:0.8;\" x=\"72.257812\" xlink:href=\"#m8b4040fc73\" y=\"150.805398\"/>\n      </g>\n     </g>\n     <g id=\"text_12\">\n      <!-- humidity -->\n      <g transform=\"translate(21.098437 154.604616)scale(0.1 -0.1)\">\n       <defs>\n        <path d=\"M 8.5 21.578125 \nL 8.5 54.6875 \nL 17.484375 54.6875 \nL 17.484375 21.921875 \nQ 17.484375 14.15625 20.5 10.265625 \nQ 23.53125 6.390625 29.59375 6.390625 \nQ 36.859375 6.390625 41.078125 11.03125 \nQ 45.3125 15.671875 45.3125 23.6875 \nL 45.3125 54.6875 \nL 54.296875 54.6875 \nL 54.296875 0 \nL 45.3125 0 \nL 45.3125 8.40625 \nQ 42.046875 3.421875 37.71875 1 \nQ 33.40625 -1.421875 27.6875 -1.421875 \nQ 18.265625 -1.421875 13.375 4.4375 \nQ 8.5 10.296875 8.5 21.578125 \nz\nM 31.109375 56 \nz\n\" id=\"DejaVuSans-117\"/>\n        <path d=\"M 52 44.1875 \nQ 55.375 50.25 60.0625 53.125 \nQ 64.75 56 71.09375 56 \nQ 79.640625 56 84.28125 50.015625 \nQ 88.921875 44.046875 88.921875 33.015625 \nL 88.921875 0 \nL 79.890625 0 \nL 79.890625 32.71875 \nQ 79.890625 40.578125 77.09375 44.375 \nQ 74.3125 48.1875 68.609375 48.1875 \nQ 61.625 48.1875 57.5625 43.546875 \nQ 53.515625 38.921875 53.515625 30.90625 \nL 53.515625 0 \nL 44.484375 0 \nL 44.484375 32.71875 \nQ 44.484375 40.625 41.703125 44.40625 \nQ 38.921875 48.1875 33.109375 48.1875 \nQ 26.21875 48.1875 22.15625 43.53125 \nQ 18.109375 38.875 18.109375 30.90625 \nL 18.109375 0 \nL 9.078125 0 \nL 9.078125 54.6875 \nL 18.109375 54.6875 \nL 18.109375 46.1875 \nQ 21.1875 51.21875 25.484375 53.609375 \nQ 29.78125 56 35.6875 56 \nQ 41.65625 56 45.828125 52.96875 \nQ 50 49.953125 52 44.1875 \nz\n\" id=\"DejaVuSans-109\"/>\n       </defs>\n       <use xlink:href=\"#DejaVuSans-104\"/>\n       <use x=\"63.378906\" xlink:href=\"#DejaVuSans-117\"/>\n       <use x=\"126.757812\" xlink:href=\"#DejaVuSans-109\"/>\n       <use x=\"224.169922\" xlink:href=\"#DejaVuSans-105\"/>\n       <use x=\"251.953125\" xlink:href=\"#DejaVuSans-100\"/>\n       <use x=\"315.429688\" xlink:href=\"#DejaVuSans-105\"/>\n       <use x=\"343.212891\" xlink:href=\"#DejaVuSans-116\"/>\n       <use x=\"382.421875\" xlink:href=\"#DejaVuSans-121\"/>\n      </g>\n     </g>\n    </g>\n    <g id=\"ytick_6\">\n     <g id=\"line2d_13\">\n      <g>\n       <use style=\"stroke:#000000;stroke-width:0.8;\" x=\"72.257812\" xlink:href=\"#m8b4040fc73\" y=\"131.038125\"/>\n      </g>\n     </g>\n     <g id=\"text_13\">\n      <!-- mth -->\n      <g transform=\"translate(45.259375 134.837344)scale(0.1 -0.1)\">\n       <use xlink:href=\"#DejaVuSans-109\"/>\n       <use x=\"97.412109\" xlink:href=\"#DejaVuSans-116\"/>\n       <use x=\"136.621094\" xlink:href=\"#DejaVuSans-104\"/>\n      </g>\n     </g>\n    </g>\n    <g id=\"ytick_7\">\n     <g id=\"line2d_14\">\n      <g>\n       <use style=\"stroke:#000000;stroke-width:0.8;\" x=\"72.257812\" xlink:href=\"#m8b4040fc73\" y=\"111.270852\"/>\n      </g>\n     </g>\n     <g id=\"text_14\">\n      <!-- temp -->\n      <g transform=\"translate(39.095312 115.070071)scale(0.1 -0.1)\">\n       <use xlink:href=\"#DejaVuSans-116\"/>\n       <use x=\"39.208984\" xlink:href=\"#DejaVuSans-101\"/>\n       <use x=\"100.732422\" xlink:href=\"#DejaVuSans-109\"/>\n       <use x=\"198.144531\" xlink:href=\"#DejaVuSans-112\"/>\n      </g>\n     </g>\n    </g>\n    <g id=\"ytick_8\">\n     <g id=\"line2d_15\">\n      <g>\n       <use style=\"stroke:#000000;stroke-width:0.8;\" x=\"72.257812\" xlink:href=\"#m8b4040fc73\" y=\"91.50358\"/>\n      </g>\n     </g>\n     <g id=\"text_15\">\n      <!-- atemp -->\n      <g transform=\"translate(32.967188 95.302798)scale(0.1 -0.1)\">\n       <use xlink:href=\"#DejaVuSans-97\"/>\n       <use x=\"61.279297\" xlink:href=\"#DejaVuSans-116\"/>\n       <use x=\"100.488281\" xlink:href=\"#DejaVuSans-101\"/>\n       <use x=\"162.011719\" xlink:href=\"#DejaVuSans-109\"/>\n       <use x=\"259.423828\" xlink:href=\"#DejaVuSans-112\"/>\n      </g>\n     </g>\n    </g>\n    <g id=\"ytick_9\">\n     <g id=\"line2d_16\">\n      <g>\n       <use style=\"stroke:#000000;stroke-width:0.8;\" x=\"72.257812\" xlink:href=\"#m8b4040fc73\" y=\"71.736307\"/>\n      </g>\n     </g>\n     <g id=\"text_16\">\n      <!-- workingday -->\n      <g transform=\"translate(7.2 75.535526)scale(0.1 -0.1)\">\n       <defs>\n        <path d=\"M 9.078125 75.984375 \nL 18.109375 75.984375 \nL 18.109375 31.109375 \nL 44.921875 54.6875 \nL 56.390625 54.6875 \nL 27.390625 29.109375 \nL 57.625 0 \nL 45.90625 0 \nL 18.109375 26.703125 \nL 18.109375 0 \nL 9.078125 0 \nz\n\" id=\"DejaVuSans-107\"/>\n        <path d=\"M 45.40625 27.984375 \nQ 45.40625 37.75 41.375 43.109375 \nQ 37.359375 48.484375 30.078125 48.484375 \nQ 22.859375 48.484375 18.828125 43.109375 \nQ 14.796875 37.75 14.796875 27.984375 \nQ 14.796875 18.265625 18.828125 12.890625 \nQ 22.859375 7.515625 30.078125 7.515625 \nQ 37.359375 7.515625 41.375 12.890625 \nQ 45.40625 18.265625 45.40625 27.984375 \nz\nM 54.390625 6.78125 \nQ 54.390625 -7.171875 48.1875 -13.984375 \nQ 42 -20.796875 29.203125 -20.796875 \nQ 24.46875 -20.796875 20.265625 -20.09375 \nQ 16.0625 -19.390625 12.109375 -17.921875 \nL 12.109375 -9.1875 \nQ 16.0625 -11.328125 19.921875 -12.34375 \nQ 23.78125 -13.375 27.78125 -13.375 \nQ 36.625 -13.375 41.015625 -8.765625 \nQ 45.40625 -4.15625 45.40625 5.171875 \nL 45.40625 9.625 \nQ 42.625 4.78125 38.28125 2.390625 \nQ 33.9375 0 27.875 0 \nQ 17.828125 0 11.671875 7.65625 \nQ 5.515625 15.328125 5.515625 27.984375 \nQ 5.515625 40.671875 11.671875 48.328125 \nQ 17.828125 56 27.875 56 \nQ 33.9375 56 38.28125 53.609375 \nQ 42.625 51.21875 45.40625 46.390625 \nL 45.40625 54.6875 \nL 54.390625 54.6875 \nz\n\" id=\"DejaVuSans-103\"/>\n       </defs>\n       <use xlink:href=\"#DejaVuSans-119\"/>\n       <use x=\"81.787109\" xlink:href=\"#DejaVuSans-111\"/>\n       <use x=\"142.96875\" xlink:href=\"#DejaVuSans-114\"/>\n       <use x=\"184.082031\" xlink:href=\"#DejaVuSans-107\"/>\n       <use x=\"241.992188\" xlink:href=\"#DejaVuSans-105\"/>\n       <use x=\"269.775391\" xlink:href=\"#DejaVuSans-110\"/>\n       <use x=\"333.154297\" xlink:href=\"#DejaVuSans-103\"/>\n       <use x=\"396.630859\" xlink:href=\"#DejaVuSans-100\"/>\n       <use x=\"460.107422\" xlink:href=\"#DejaVuSans-97\"/>\n       <use x=\"521.386719\" xlink:href=\"#DejaVuSans-121\"/>\n      </g>\n     </g>\n    </g>\n    <g id=\"ytick_10\">\n     <g id=\"line2d_17\">\n      <g>\n       <use style=\"stroke:#000000;stroke-width:0.8;\" x=\"72.257812\" xlink:href=\"#m8b4040fc73\" y=\"51.969034\"/>\n      </g>\n     </g>\n     <g id=\"text_17\">\n      <!-- yr -->\n      <g transform=\"translate(55.228125 55.768253)scale(0.1 -0.1)\">\n       <use xlink:href=\"#DejaVuSans-121\"/>\n       <use x=\"59.179688\" xlink:href=\"#DejaVuSans-114\"/>\n      </g>\n     </g>\n    </g>\n    <g id=\"ytick_11\">\n     <g id=\"line2d_18\">\n      <g>\n       <use style=\"stroke:#000000;stroke-width:0.8;\" x=\"72.257812\" xlink:href=\"#m8b4040fc73\" y=\"32.201761\"/>\n      </g>\n     </g>\n     <g id=\"text_18\">\n      <!-- hour -->\n      <g transform=\"translate(42.353125 36.00098)scale(0.1 -0.1)\">\n       <use xlink:href=\"#DejaVuSans-104\"/>\n       <use x=\"63.378906\" xlink:href=\"#DejaVuSans-111\"/>\n       <use x=\"124.560547\" xlink:href=\"#DejaVuSans-117\"/>\n       <use x=\"187.939453\" xlink:href=\"#DejaVuSans-114\"/>\n      </g>\n     </g>\n    </g>\n   </g>\n   <g id=\"patch_14\">\n    <path d=\"M 72.257812 239.758125 \nL 72.257812 22.318125 \n\" style=\"fill:none;stroke:#000000;stroke-linecap:square;stroke-linejoin:miter;stroke-width:0.8;\"/>\n   </g>\n   <g id=\"patch_15\">\n    <path d=\"M 407.057813 239.758125 \nL 407.057813 22.318125 \n\" style=\"fill:none;stroke:#000000;stroke-linecap:square;stroke-linejoin:miter;stroke-width:0.8;\"/>\n   </g>\n   <g id=\"patch_16\">\n    <path d=\"M 72.257812 239.758125 \nL 407.057813 239.758125 \n\" style=\"fill:none;stroke:#000000;stroke-linecap:square;stroke-linejoin:miter;stroke-width:0.8;\"/>\n   </g>\n   <g id=\"patch_17\">\n    <path d=\"M 72.257812 22.318125 \nL 407.057813 22.318125 \n\" style=\"fill:none;stroke:#000000;stroke-linecap:square;stroke-linejoin:miter;stroke-width:0.8;\"/>\n   </g>\n   <g id=\"text_19\">\n    <!-- Features Importances -->\n    <g transform=\"translate(174.448125 16.318125)scale(0.12 -0.12)\">\n     <defs>\n      <path d=\"M 9.8125 72.90625 \nL 51.703125 72.90625 \nL 51.703125 64.59375 \nL 19.671875 64.59375 \nL 19.671875 43.109375 \nL 48.578125 43.109375 \nL 48.578125 34.8125 \nL 19.671875 34.8125 \nL 19.671875 0 \nL 9.8125 0 \nz\n\" id=\"DejaVuSans-70\"/>\n      <path id=\"DejaVuSans-32\"/>\n      <path d=\"M 9.8125 72.90625 \nL 19.671875 72.90625 \nL 19.671875 0 \nL 9.8125 0 \nz\n\" id=\"DejaVuSans-73\"/>\n      <path d=\"M 48.78125 52.59375 \nL 48.78125 44.1875 \nQ 44.96875 46.296875 41.140625 47.34375 \nQ 37.3125 48.390625 33.40625 48.390625 \nQ 24.65625 48.390625 19.8125 42.84375 \nQ 14.984375 37.3125 14.984375 27.296875 \nQ 14.984375 17.28125 19.8125 11.734375 \nQ 24.65625 6.203125 33.40625 6.203125 \nQ 37.3125 6.203125 41.140625 7.25 \nQ 44.96875 8.296875 48.78125 10.40625 \nL 48.78125 2.09375 \nQ 45.015625 0.34375 40.984375 -0.53125 \nQ 36.96875 -1.421875 32.421875 -1.421875 \nQ 20.0625 -1.421875 12.78125 6.34375 \nQ 5.515625 14.109375 5.515625 27.296875 \nQ 5.515625 40.671875 12.859375 48.328125 \nQ 20.21875 56 33.015625 56 \nQ 37.15625 56 41.109375 55.140625 \nQ 45.0625 54.296875 48.78125 52.59375 \nz\n\" id=\"DejaVuSans-99\"/>\n     </defs>\n     <use xlink:href=\"#DejaVuSans-70\"/>\n     <use x=\"52.019531\" xlink:href=\"#DejaVuSans-101\"/>\n     <use x=\"113.542969\" xlink:href=\"#DejaVuSans-97\"/>\n     <use x=\"174.822266\" xlink:href=\"#DejaVuSans-116\"/>\n     <use x=\"214.03125\" xlink:href=\"#DejaVuSans-117\"/>\n     <use x=\"277.410156\" xlink:href=\"#DejaVuSans-114\"/>\n     <use x=\"316.273438\" xlink:href=\"#DejaVuSans-101\"/>\n     <use x=\"377.796875\" xlink:href=\"#DejaVuSans-115\"/>\n     <use x=\"429.896484\" xlink:href=\"#DejaVuSans-32\"/>\n     <use x=\"461.683594\" xlink:href=\"#DejaVuSans-73\"/>\n     <use x=\"491.175781\" xlink:href=\"#DejaVuSans-109\"/>\n     <use x=\"588.587891\" xlink:href=\"#DejaVuSans-112\"/>\n     <use x=\"652.064453\" xlink:href=\"#DejaVuSans-111\"/>\n     <use x=\"713.246094\" xlink:href=\"#DejaVuSans-114\"/>\n     <use x=\"754.359375\" xlink:href=\"#DejaVuSans-116\"/>\n     <use x=\"793.568359\" xlink:href=\"#DejaVuSans-97\"/>\n     <use x=\"854.847656\" xlink:href=\"#DejaVuSans-110\"/>\n     <use x=\"918.226562\" xlink:href=\"#DejaVuSans-99\"/>\n     <use x=\"973.207031\" xlink:href=\"#DejaVuSans-101\"/>\n     <use x=\"1034.730469\" xlink:href=\"#DejaVuSans-115\"/>\n    </g>\n   </g>\n  </g>\n </g>\n <defs>\n  <clipPath id=\"p2847aad264\">\n   <rect height=\"217.44\" width=\"334.8\" x=\"72.257812\" y=\"22.318125\"/>\n  </clipPath>\n </defs>\n</svg>\n",
      "image/png": "[encoded data removed]"
     },
     "metadata": {
      "needs_background": "light"
     }
    }
   ],
   "source": [
    "importances = pd.Series(data=rf.feature_importances_,\n",
    "                        index= X_train.columns)\n",
    "importances_sorted = importances.sort_values()\n",
    "importances_sorted.plot(kind='barh', color='lightgreen')\n",
    "plt.title('Features Importances')\n",
    "plt.show()"
   ]
  },
  {
   "source": [
    "# Boosting  \n",
    "Key take-away  \n",
    "Boosting : sequencial training\n",
    "- **AdaBoosting** (`Ada`ptive Boosting) : use prior model error to adjust the weight parameter for next model.  "
   ],
   "cell_type": "markdown",
   "metadata": {}
  },
  {
   "cell_type": "code",
   "execution_count": 157,
   "metadata": {},
   "outputs": [],
   "source": [
    "from sklearn.preprocessing import LabelBinarizer\n",
    "from sklearn.model_selection import train_test_split\n",
    "\n",
    "df = \\\n",
    "(pd\n",
    " .read_csv('../dataset/ILPD.csv')\n",
    " .dropna()\n",
    " .assign(gender = lambda x : LabelBinarizer().fit_transform(x['gender']))\n",
    ")\n",
    "\n",
    "X = df.drop(['is_patient'], axis='columns')\n",
    "y = df['is_patient']\n",
    "\n",
    "X_train, X_test, y_train, y_test = train_test_split(X, y, train_size=0.7, random_state=1, stratify=y)"
   ]
  },
  {
   "cell_type": "code",
   "execution_count": 162,
   "metadata": {},
   "outputs": [
    {
     "output_type": "stream",
     "name": "stdout",
     "text": [
      "ROC AUC score: 0.67\n"
     ]
    }
   ],
   "source": [
    "from sklearn.tree import DecisionTreeClassifier\n",
    "from sklearn.ensemble import AdaBoostClassifier\n",
    "from sklearn.metrics import roc_auc_score\n",
    "\n",
    "dt = DecisionTreeClassifier(max_depth=2, random_state=1)\n",
    "ada = AdaBoostClassifier(base_estimator=dt, n_estimators=180, random_state=1)\n",
    "\n",
    "ada.fit(X_train, y_train)\n",
    "# use [:, 1] for probability of predict y = 1 \n",
    "y_pred_proba = ada.predict_proba(X_test)[:,1]\n",
    "\n",
    "ada_roc_auc = roc_auc_score(y_test, y_pred_proba)\n",
    "print('ROC AUC score: {:.2f}'.format(ada_roc_auc))"
   ]
  },
  {
   "source": [
    "- **GradientBoosting** : use prior model residual as target lable to train next model"
   ],
   "cell_type": "markdown",
   "metadata": {}
  },
  {
   "cell_type": "code",
   "execution_count": 165,
   "metadata": {},
   "outputs": [],
   "source": [
    "from sklearn.model_selection import train_test_split\n",
    "\n",
    "df = \\\n",
    "(pd\n",
    " .read_csv('../dataset/bike_sharing_train.csv', parse_dates=['datetime'])\n",
    " .assign(hour = lambda x : x['datetime'].dt.hour)\n",
    " .assign(mth = lambda x : x['datetime'].dt.month)\n",
    " .assign(yr = lambda x : x['datetime'].dt.year)\n",
    " .drop(['casual', 'registered', 'datetime'], axis='columns')\n",
    ")\n",
    "y = df['count']\n",
    "X = df.drop(['count'], axis='columns')\n",
    "\n",
    "X_train, X_test, y_train, y_test = train_test_split(X, y, train_size=0.7, random_state=1)"
   ]
  },
  {
   "cell_type": "code",
   "execution_count": 167,
   "metadata": {},
   "outputs": [
    {
     "output_type": "stream",
     "name": "stdout",
     "text": [
      "Test set RMSE of gb: 48.572\n"
     ]
    }
   ],
   "source": [
    "from sklearn.ensemble import GradientBoostingRegressor\n",
    "from sklearn.metrics import mean_squared_error as MSE\n",
    "\n",
    "gb = GradientBoostingRegressor(max_depth=4, \n",
    "            n_estimators=200,\n",
    "            random_state=2)\n",
    "gb.fit(X_train, y_train)\n",
    "y_pred = gb.predict(X_test)\n",
    "mse_test = MSE(y_test, y_pred)\n",
    "rmse_test = mse_test**(1/2)\n",
    "print('Test set RMSE of gb: {:.3f}'.format(rmse_test))"
   ]
  },
  {
   "source": [
    "### **`Stocastic` Gradient Boosting** \n",
    "Use prior model residual as target lable to train next model, use subset of data to train and use subset of features to train. Solve overuse same features in Gradient boosting"
   ],
   "cell_type": "markdown",
   "metadata": {}
  },
  {
   "cell_type": "code",
   "execution_count": 168,
   "metadata": {},
   "outputs": [],
   "source": [
    "from sklearn.model_selection import train_test_split\n",
    "\n",
    "df = \\\n",
    "(pd\n",
    " .read_csv('../dataset/bike_sharing_train.csv', parse_dates=['datetime'])\n",
    " .assign(hour = lambda x : x['datetime'].dt.hour)\n",
    " .assign(mth = lambda x : x['datetime'].dt.month)\n",
    " .assign(yr = lambda x : x['datetime'].dt.year)\n",
    " .drop(['casual', 'registered', 'datetime'], axis='columns')\n",
    ")\n",
    "y = df['count']\n",
    "X = df.drop(['count'], axis='columns')\n",
    "\n",
    "X_train, X_test, y_train, y_test = train_test_split(X, y, train_size=0.7, random_state=1)"
   ]
  },
  {
   "cell_type": "code",
   "execution_count": 171,
   "metadata": {},
   "outputs": [
    {
     "output_type": "stream",
     "name": "stdout",
     "text": [
      "Test set RMSE of sgbr: 46.751\n"
     ]
    }
   ],
   "source": [
    "from sklearn.ensemble import GradientBoostingRegressor\n",
    "from sklearn.metrics import mean_squared_error as MSE\n",
    "\n",
    "sgbr = GradientBoostingRegressor(max_depth=4, \n",
    "            subsample=0.9, # subset of train\n",
    "            max_features=0.75, # subset of features\n",
    "            n_estimators=200,                                \n",
    "            random_state=2)\n",
    "sgbr.fit(X_train, y_train)\n",
    "y_pred = sgbr.predict(X_test)\n",
    "mse_test = MSE(y_test, y_pred)\n",
    "rmse_test = mse_test**(1/2)\n",
    "print('Test set RMSE of sgbr: {:.3f}'.format(rmse_test))"
   ]
  },
  {
   "source": [
    "# Tuning CART Hyper-parameter\n",
    "With GridSearchCV  \n",
    "Key take-away\n",
    "- **parameters** : what model learn from data  \n",
    "- **hyper-parameters** : what modeler define for model  \n"
   ],
   "cell_type": "markdown",
   "metadata": {}
  },
  {
   "cell_type": "code",
   "execution_count": 183,
   "metadata": {},
   "outputs": [],
   "source": [
    "from sklearn.preprocessing import LabelBinarizer\n",
    "from sklearn.model_selection import train_test_split, GridSearchCV\n",
    "from sklearn.tree import DecisionTreeClassifier\n",
    "from sklearn.metrics import roc_auc_score\n",
    "\n",
    "df = \\\n",
    "(pd\n",
    " .read_csv('../dataset/ILPD.csv')\n",
    " .dropna()\n",
    " .assign(gender = lambda x : LabelBinarizer().fit_transform(x['gender']))\n",
    ")\n",
    "\n",
    "X = df.drop(['is_patient'], axis='columns')\n",
    "y = df['is_patient']\n",
    "\n",
    "X_train, X_test, y_train, y_test = train_test_split(X, y, train_size=0.7, random_state=1, stratify=y)"
   ]
  },
  {
   "cell_type": "code",
   "execution_count": 184,
   "metadata": {},
   "outputs": [
    {
     "output_type": "execute_result",
     "data": {
      "text/plain": [
       "{'ccp_alpha': 0.0,\n",
       " 'class_weight': None,\n",
       " 'criterion': 'gini',\n",
       " 'max_depth': None,\n",
       " 'max_features': None,\n",
       " 'max_leaf_nodes': None,\n",
       " 'min_impurity_decrease': 0.0,\n",
       " 'min_impurity_split': None,\n",
       " 'min_samples_leaf': 1,\n",
       " 'min_samples_split': 2,\n",
       " 'min_weight_fraction_leaf': 0.0,\n",
       " 'random_state': None,\n",
       " 'splitter': 'best'}"
      ]
     },
     "metadata": {},
     "execution_count": 184
    }
   ],
   "source": [
    "# list of hyper parameter could be tune\n",
    "DecisionTreeClassifier().get_params()"
   ]
  },
  {
   "cell_type": "code",
   "execution_count": 185,
   "metadata": {},
   "outputs": [],
   "source": [
    "# Define params_dt\n",
    "params_dt = {'max_depth':[2,3,4],\n",
    "             'min_samples_leaf':[0.12, 0.14, 0.16, 0.18]}"
   ]
  },
  {
   "cell_type": "code",
   "execution_count": 186,
   "metadata": {},
   "outputs": [
    {
     "output_type": "execute_result",
     "data": {
      "text/plain": [
       "GridSearchCV(cv=5, estimator=DecisionTreeClassifier(), n_jobs=-1,\n",
       "             param_grid={'max_depth': [2, 3, 4],\n",
       "                         'min_samples_leaf': [0.12, 0.14, 0.16, 0.18]},\n",
       "             scoring='roc_auc')"
      ]
     },
     "metadata": {},
     "execution_count": 186
    }
   ],
   "source": [
    "dt = DecisionTreeClassifier()\n",
    "\n",
    "# Instantiate grid_dt\n",
    "grid_dt = GridSearchCV(estimator=dt,\n",
    "                       param_grid=params_dt,\n",
    "                       scoring='roc_auc',\n",
    "                       cv=5,\n",
    "                       n_jobs=-1)\n",
    "\n",
    "grid_dt.fit(X_train, y_train)"
   ]
  },
  {
   "cell_type": "code",
   "execution_count": 187,
   "metadata": {},
   "outputs": [
    {
     "output_type": "execute_result",
     "data": {
      "text/plain": [
       "{'max_depth': 3, 'min_samples_leaf': 0.16}"
      ]
     },
     "metadata": {},
     "execution_count": 187
    }
   ],
   "source": [
    "grid_dt.best_params_"
   ]
  },
  {
   "cell_type": "code",
   "execution_count": 188,
   "metadata": {},
   "outputs": [
    {
     "output_type": "stream",
     "name": "stdout",
     "text": [
      "Test set ROC AUC score: 0.681\n"
     ]
    }
   ],
   "source": [
    "best_model = grid_dt.best_estimator_\n",
    "y_pred_proba = grid_dt.predict_proba(X_test)[:,1]\n",
    "test_roc_auc = roc_auc_score(y_test, y_pred_proba)\n",
    "print('Test set ROC AUC score: {:.3f}'.format(test_roc_auc))"
   ]
  },
  {
   "source": [
    "Tuning RandomForest"
   ],
   "cell_type": "markdown",
   "metadata": {}
  },
  {
   "cell_type": "code",
   "execution_count": 204,
   "metadata": {},
   "outputs": [],
   "source": [
    "from sklearn.model_selection import train_test_split, GridSearchCV\n",
    "from sklearn.ensemble import RandomForestRegressor\n",
    "from sklearn.metrics import mean_squared_error as MSE\n",
    "\n",
    "df = \\\n",
    "(pd\n",
    " .read_csv('../dataset/bike_sharing_train.csv', parse_dates=['datetime'])\n",
    " .assign(hour = lambda x : x['datetime'].dt.hour)\n",
    " .assign(mth = lambda x : x['datetime'].dt.month)\n",
    " .assign(yr = lambda x : x['datetime'].dt.year)\n",
    " .drop(['casual', 'registered', 'datetime'], axis='columns')\n",
    ")\n",
    "y = df['count']\n",
    "X = df.drop(['count'], axis='columns')\n",
    "\n",
    "X_train, X_test, y_train, y_test = train_test_split(X, y, train_size=0.7, random_state=1)"
   ]
  },
  {
   "cell_type": "code",
   "execution_count": 209,
   "metadata": {},
   "outputs": [],
   "source": [
    "rf = RandomForestRegressor()\n",
    "\n",
    "# Define the dictionary 'params_rf'\n",
    "params_rf = {'n_estimators':[100, 350],\n",
    "             'max_features':['log2', 'auto', 'sqrt'],\n",
    "             'min_samples_leaf':[2,10]}\n",
    "\n",
    "grid_rf = GridSearchCV(estimator=rf,\n",
    "                       param_grid=params_rf,\n",
    "                       scoring='neg_mean_squared_error',\n",
    "                       cv=2,\n",
    "                       verbose=2,\n",
    "                       n_jobs=-1)"
   ]
  },
  {
   "cell_type": "code",
   "execution_count": 210,
   "metadata": {},
   "outputs": [
    {
     "output_type": "stream",
     "name": "stdout",
     "text": [
      "Fitting 2 folds for each of 12 candidates, totalling 24 fits\n"
     ]
    },
    {
     "output_type": "execute_result",
     "data": {
      "text/plain": [
       "GridSearchCV(cv=2, estimator=RandomForestRegressor(), n_jobs=-1,\n",
       "             param_grid={'max_features': ['log2', 'auto', 'sqrt'],\n",
       "                         'min_samples_leaf': [2, 10],\n",
       "                         'n_estimators': [100, 350]},\n",
       "             scoring='neg_mean_squared_error', verbose=2)"
      ]
     },
     "metadata": {},
     "execution_count": 210
    }
   ],
   "source": [
    "grid_rf.fit(X_train, y_train)"
   ]
  },
  {
   "cell_type": "code",
   "execution_count": 211,
   "metadata": {},
   "outputs": [
    {
     "output_type": "stream",
     "name": "stdout",
     "text": [
      "Test RMSE of best model: 43.588\n"
     ]
    }
   ],
   "source": [
    "best_model = grid_rf.best_estimator_\n",
    "y_pred = best_model.predict(X_test)\n",
    "rmse_test = MSE(y_test, y_pred)**(1/2)\n",
    "print('Test RMSE of best model: {:.3f}'.format(rmse_test)) "
   ]
  },
  {
   "cell_type": "code",
   "execution_count": null,
   "metadata": {},
   "outputs": [],
   "source": []
  }
 ]
}
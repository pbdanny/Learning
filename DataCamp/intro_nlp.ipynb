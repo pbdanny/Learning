{
    "cells": [
        {
            "cell_type": "markdown",
            "source": [
                "# Regex"
            ],
            "metadata": {}
        },
        {
            "cell_type": "code",
            "execution_count": 1,
            "source": [
                "import re"
            ],
            "outputs": [],
            "metadata": {}
        },
        {
            "cell_type": "code",
            "execution_count": 2,
            "source": [
                "my_string = \"Let's write RegEx!  Won't that be fun?  I sure think so.  Can you find 4 sentences?  Or perhaps, all 19 words?\""
            ],
            "outputs": [],
            "metadata": {}
        },
        {
            "cell_type": "code",
            "execution_count": 3,
            "source": [
                "# Write a pattern to match sentence endings: sentence_endings\n",
                "sentence_endings = r\"[!.?]\"\n",
                "\n",
                "# Split my_string on sentence endings and print the result\n",
                "print(re.split(sentence_endings, my_string))\n",
                "\n",
                "# Find all capitalized words in my_string and print the result\n",
                "capitalized_words = r\"[A-Z]\\w+\"\n",
                "print(re.findall(capitalized_words, my_string))\n",
                "\n",
                "# Split my_string on spaces and print the result\n",
                "spaces = r\"\\s+\"\n",
                "print(re.split(spaces, my_string))\n",
                "\n",
                "# Find all digits in my_string and print the result\n",
                "digits = r\"\\d+\"\n",
                "print(re.findall(digits, my_string))"
            ],
            "outputs": [
                {
                    "output_type": "stream",
                    "name": "stdout",
                    "text": [
                        "[\"Let's write RegEx\", \"  Won't that be fun\", '  I sure think so', '  Can you find 4 sentences', '  Or perhaps, all 19 words', '']\n",
                        "['Let', 'RegEx', 'Won', 'Can', 'Or']\n",
                        "[\"Let's\", 'write', 'RegEx!', \"Won't\", 'that', 'be', 'fun?', 'I', 'sure', 'think', 'so.', 'Can', 'you', 'find', '4', 'sentences?', 'Or', 'perhaps,', 'all', '19', 'words?']\n",
                        "['4', '19']\n"
                    ]
                }
            ],
            "metadata": {}
        },
        {
            "cell_type": "code",
            "execution_count": 5,
            "source": [
                "with open('../dataset/nlp_scene_one.txt', 'r') as f:\n",
                "    scene_one = f.read()"
            ],
            "outputs": [],
            "metadata": {}
        },
        {
            "cell_type": "code",
            "execution_count": 9,
            "source": [
                "# Import necessary modules\n",
                "from nltk.tokenize import sent_tokenize, word_tokenize\n",
                "\n",
                "# Split scene_one into sentences: sentences\n",
                "sentences = sent_tokenize(scene_one)\n",
                "\n",
                "# Use word_tokenize to tokenize the fourth sentence: tokenized_sent\n",
                "tokenized_sent = word_tokenize(sentences[3])\n",
                "\n",
                "# Make a set of unique tokens in the entire scene: unique_tokens\n",
                "unique_tokens = set(word_tokenize(scene_one))\n",
                "\n",
                "# Print the unique tokens result\n",
                "print(unique_tokens)\n"
            ],
            "outputs": [
                {
                    "output_type": "stream",
                    "name": "stdout",
                    "text": [
                        "{'weight', 'goes', 'Ridden', 'my', 'empty', 'south', 'sun', 'not', 'Oh', 'swallow', 'is', 'grip', 'search', 'but', 'son', 'The', 'speak', 'But', 'yeah', 'house', 'covered', 'Wait', 'then', 'Saxons', '!', 'line', 'defeator', 'that', 'length', 'all', 'SCENE', 'coconut', 'maybe', 'wind', 'sovereign', 'seek', 'use', 'guiding', \"'em\", 'Well', 'are', 'Am', 'bring', 'its', 'tropical', 'he', 'here', 'King', 'could', 'lord', 'We', 'times', 'ounce', 'minute', ':', 'breadth', 'warmer', 'Britons', 'anyway', ']', 'will', 'Uther', 'by', 'our', 'air-speed', 'grips', 'climes', 'carry', 'temperate', \"'s\", 'It', 'me', 'am', 'where', 'together', 'pound', \"'ve\", \"'\", 'bird', 'velocity', 'this', 'interested', 'to', 'agree', 'mean', 'under', '#', 'dorsal', 'these', 'SOLDIER', 'KING', 'What', 'snows', 'So', 'found', \"n't\", 'Supposing', 'Listen', 'bangin', 'husk', '[', 'No', 'who', 'on', 'That', 'at', 'swallows', 'Who', 'they', 'needs', 'every', 'other', 'Arthur', 'Found', 'of', 'European', 'coconuts', 'Pull', 'does', 'Where', 'strand', 'must', 'an', 'land', 'carried', 'African', 'from', ',', 'and', 'plover', 'why', \"'d\", 'halves', 'Will', '?', 'with', 'strangers', 'maintain', 'They', 'one', 'creeper', 'using', 'point', 'Yes', 'do', 'zone', 'Please', 'held', 'clop', 'matter', '--', 'A', 'knights', 'ratios', 'wings', 'Whoa', 'In', 'court', 'fly', 'Mercea', 'servant', 'simple', 'if', 'through', 'second', 'two', 'England', 'go', 'non-migratory', 'You', 'you', 'master', 'ridden', '2', 'Patsy', 'feathers', 'ARTHUR', 'Camelot', 'forty-three', 'Halt', '.', 'kingdom', 'your', 'migrate', 'it', 'martin', 'question', 'get', 'got', 'there', 'winter', 'a', 'ask', 'castle', 'back', 'Are', 'wants', 'horse', 'Court', 'them', 'course', 'carrying', 'five', 'have', 'since', 'in', 'yet', 'order', 'join', 'may', 'right', '1', 'or', '...', 'tell', 'the', \"'re\", 'I', 'trusty', 'suggesting', 'Not', 'be', 'beat', 'Pendragon', \"'m\", 'just'}\n"
                    ]
                }
            ],
            "metadata": {}
        },
        {
            "cell_type": "code",
            "execution_count": 10,
            "source": [
                "# Search for the first occurrence of \"coconuts\" in scene_one: match\n",
                "match = re.search(\"coconuts\", scene_one)\n",
                "\n",
                "# Print the start and end indexes of match\n",
                "print(match.start(), match.end())"
            ],
            "outputs": [
                {
                    "output_type": "stream",
                    "name": "stdout",
                    "text": [
                        "581 589\n"
                    ]
                }
            ],
            "metadata": {}
        },
        {
            "cell_type": "code",
            "execution_count": 11,
            "source": [
                "pattern1 = r\"\\[.*]\"\n",
                "print(re.search(pattern1, scene_one))"
            ],
            "outputs": [
                {
                    "output_type": "stream",
                    "name": "stdout",
                    "text": [
                        "<re.Match object; span=(10, 33), match='[wind] [clop clop clop]'>\n"
                    ]
                }
            ],
            "metadata": {}
        },
        {
            "cell_type": "code",
            "execution_count": 12,
            "source": [
                "pattern2 = r\"[\\w\\s#]+:\"\n",
                "print(re.match(pattern2, sentences[3]))"
            ],
            "outputs": [
                {
                    "output_type": "stream",
                    "name": "stdout",
                    "text": [
                        "<re.Match object; span=(0, 7), match='ARTHUR:'>\n"
                    ]
                }
            ],
            "metadata": {}
        },
        {
            "cell_type": "code",
            "execution_count": 15,
            "source": [
                "from nltk.tokenize import TweetTokenizer, regexp_tokenize\n",
                "\n",
                "tweets = ['This is the best #nlp exercise ive found online! #python',\n",
                " '#NLP is super fun! <3 #learning',\n",
                " 'Thanks @datacamp :) #nlp #python']"
            ],
            "outputs": [],
            "metadata": {}
        },
        {
            "cell_type": "code",
            "execution_count": 16,
            "source": [
                "# Define a regex pattern to find hashtags: pattern1\n",
                "pattern1 = r\"#\\w+\"\n",
                "# Use the pattern on the first tweet in the tweets list\n",
                "hashtags = regexp_tokenize(tweets[0], pattern1)\n",
                "print(hashtags)"
            ],
            "outputs": [
                {
                    "output_type": "stream",
                    "name": "stdout",
                    "text": [
                        "['#nlp', '#python']\n"
                    ]
                }
            ],
            "metadata": {}
        },
        {
            "cell_type": "code",
            "execution_count": 17,
            "source": [
                "pattern2 = r\"([@#]\\w+)\"\n",
                "mentions_hashtags = regexp_tokenize(tweets[-1], pattern2)\n",
                "print(mentions_hashtags)"
            ],
            "outputs": [
                {
                    "output_type": "stream",
                    "name": "stdout",
                    "text": [
                        "['@datacamp', '#nlp', '#python']\n"
                    ]
                }
            ],
            "metadata": {}
        },
        {
            "cell_type": "code",
            "execution_count": 18,
            "source": [
                "tknzr = TweetTokenizer()\n",
                "all_tokens = [tknzr.tokenize(t) for t in tweets]\n",
                "print(all_tokens)"
            ],
            "outputs": [
                {
                    "output_type": "stream",
                    "name": "stdout",
                    "text": [
                        "[['This', 'is', 'the', 'best', '#nlp', 'exercise', 'ive', 'found', 'online', '!', '#python'], ['#NLP', 'is', 'super', 'fun', '!', '<3', '#learning'], ['Thanks', '@datacamp', ':)', '#nlp', '#python']]\n"
                    ]
                }
            ],
            "metadata": {}
        },
        {
            "cell_type": "markdown",
            "source": [
                "Unicode ranges for emoji are:\n",
                "\n",
                "('\\U0001F300'-'\\U0001F5FF'), ('\\U0001F600-\\U0001F64F'), ('\\U0001F680-\\U0001F6FF'), and ('\\u2600'-\\u26FF-\\u2700-\\u27BF').\n"
            ],
            "metadata": {}
        },
        {
            "cell_type": "code",
            "execution_count": 19,
            "source": [
                "german_text = \"Wann gehen wir Pizza essen? 🍕 Und fährst du mit Über? 🚕\""
            ],
            "outputs": [],
            "metadata": {}
        },
        {
            "cell_type": "code",
            "execution_count": 20,
            "source": [
                "all_words = word_tokenize(german_text)\n",
                "print(all_words)\n",
                "\n",
                "# Tokenize and print only capital words\n",
                "capital_words = r\"[A-ZÜ]\\w+\"\n",
                "print(regexp_tokenize(german_text, capital_words))\n",
                "\n",
                "# Tokenize and print only emoji\n",
                "emoji = \"['\\U0001F300-\\U0001F5FF'|'\\U0001F600-\\U0001F64F'|'\\U0001F680-\\U0001F6FF'|'\\u2600-\\u26FF\\u2700-\\u27BF']\"\n",
                "print(regexp_tokenize(german_text, emoji))"
            ],
            "outputs": [
                {
                    "output_type": "stream",
                    "name": "stdout",
                    "text": [
                        "['Wann', 'gehen', 'wir', 'Pizza', 'essen', '?', '🍕', 'Und', 'fährst', 'du', 'mit', 'Über', '?', '🚕']\n",
                        "['Wann', 'Pizza', 'Und', 'Über']\n",
                        "['🍕', '🚕']\n"
                    ]
                }
            ],
            "metadata": {}
        },
        {
            "cell_type": "code",
            "execution_count": 23,
            "source": [
                "from matplotlib import pyplot as plt\n",
                "\n",
                "# Split the script into lines: lines\n",
                "lines = scene_one.split('\\n')\n",
                "\n",
                "# Replace all script lines for speaker\n",
                "pattern = \"[A-Z]{2,}(\\s)?(#\\d)?([A-Z]{2,})?:\"\n",
                "lines = [re.sub(pattern, '', l) for l in lines]\n",
                "\n",
                "# Tokenize each line: tokenized_lines\n",
                "tokenized_lines = [regexp_tokenize(s, '\\w+') for s in lines]\n",
                "\n",
                "# Make a frequency list of lengths: line_num_words\n",
                "line_num_words = [len(t_line) for t_line in tokenized_lines]\n",
                "\n",
                "# Plot a histogram of the line lengths\n",
                "plt.hist(line_num_words)\n",
                "\n",
                "# Show the plot\n",
                "plt.show()"
            ],
            "outputs": [
                {
                    "output_type": "display_data",
                    "data": {
                        "text/plain": [
                            "<Figure size 432x288 with 1 Axes>"
                        ],
                        "image/png": "[encoded data removed]"
                    },
                    "metadata": {
                        "needs_background": "light"
                    }
                }
            ],
            "metadata": {}
        },
        {
            "cell_type": "markdown",
            "source": [
                "# Topics Identification"
            ],
            "metadata": {}
        },
        {
            "cell_type": "code",
            "execution_count": 33,
            "source": [
                "from nltk.tokenize import word_tokenize\n",
                "from collections import Counter, defaultdict\n",
                "from nltk.stem import WordNetLemmatizer\n",
                "from nltk.corpus import stopwords\n",
                "import itertools"
            ],
            "outputs": [],
            "metadata": {}
        },
        {
            "cell_type": "code",
            "execution_count": 2,
            "source": [
                "with open('../dataset/nlp_article.txt', 'r') as f:\n",
                "    article = f.read()"
            ],
            "outputs": [],
            "metadata": {}
        },
        {
            "cell_type": "code",
            "execution_count": 3,
            "source": [
                "tokens = word_tokenize(article)\n",
                "lower_tokens = [w.lower() for w in tokens]\n",
                "bow_simple = Counter(lower_tokens)\n",
                "print(bow_simple.most_common(10))"
            ],
            "outputs": [
                {
                    "output_type": "stream",
                    "name": "stdout",
                    "text": [
                        "[(',', 151), ('the', 150), ('.', 89), ('of', 81), (\"''\", 66), ('to', 63), ('a', 60), ('``', 47), ('in', 44), ('and', 41)]\n"
                    ]
                }
            ],
            "metadata": {}
        },
        {
            "cell_type": "code",
            "execution_count": 16,
            "source": [
                "from nltk import download\n",
                "download('stopwords')\n",
                "download('wordnet')"
            ],
            "outputs": [
                {
                    "output_type": "stream",
                    "name": "stderr",
                    "text": [
                        "[nltk_data] Downloading package stopwords to /Users/Danny/nltk_data...\n",
                        "[nltk_data]   Package stopwords is already up-to-date!\n",
                        "[nltk_data] Downloading package wordnet to /Users/Danny/nltk_data...\n",
                        "[nltk_data]   Unzipping corpora/wordnet.zip.\n"
                    ]
                },
                {
                    "output_type": "execute_result",
                    "data": {
                        "text/plain": [
                            "True"
                        ]
                    },
                    "metadata": {},
                    "execution_count": 16
                }
            ],
            "metadata": {}
        },
        {
            "cell_type": "code",
            "execution_count": 4,
            "source": [
                "english_stops = stopwords.words('english')"
            ],
            "outputs": [],
            "metadata": {}
        },
        {
            "cell_type": "code",
            "execution_count": 5,
            "source": [
                "alpha_only = [t for t in lower_tokens if t.isalpha()]\n",
                "no_stops = [t for t in alpha_only if t not in english_stops]\n",
                "wordnet_lemmatizer = WordNetLemmatizer()\n",
                "lemmatized = [wordnet_lemmatizer.lemmatize(t) for t in no_stops]\n",
                "bow = Counter(lemmatized)\n",
                "print(bow.most_common(10))"
            ],
            "outputs": [
                {
                    "output_type": "stream",
                    "name": "stdout",
                    "text": [
                        "[('debugging', 40), ('system', 25), ('bug', 17), ('software', 16), ('problem', 15), ('tool', 15), ('computer', 14), ('process', 13), ('term', 13), ('debugger', 13)]\n"
                    ]
                }
            ],
            "metadata": {}
        },
        {
            "cell_type": "code",
            "execution_count": 6,
            "source": [
                "from gensim.corpora import Dictionary"
            ],
            "outputs": [],
            "metadata": {}
        },
        {
            "cell_type": "code",
            "execution_count": 26,
            "source": [
                "dictionary = Dictionary([lemmatized])\n",
                "file_id = dictionary.token2id.get('file')\n",
                "print(dictionary.get(file_id))\n",
                "\n",
                "corpus = [dictionary.doc2bow([article]) for article in [article]]"
            ],
            "outputs": [
                {
                    "output_type": "stream",
                    "name": "stdout",
                    "text": [
                        "file\n"
                    ]
                }
            ],
            "metadata": {}
        },
        {
            "cell_type": "code",
            "execution_count": 35,
            "source": [
                "doc = corpus[0]\n",
                "\n",
                "# Sort the doc for frequency: bow_doc\n",
                "bow_doc = sorted(doc, key=lambda w: w[1], reverse=True)\n",
                "\n",
                "# Print the top 5 words of the document alongside the count\n",
                "for word_id, word_count in bow_doc[:5]:\n",
                "    print(dictionary.get(word_id), word_count)\n",
                "    \n",
                "# Create the defaultdict: total_word_count\n",
                "total_word_count = defaultdict(int)\n",
                "for word_id, word_count in itertools.chain.from_iterable(corpus):\n",
                "    total_word_count[word_id] += word_count"
            ],
            "outputs": [],
            "metadata": {}
        },
        {
            "cell_type": "code",
            "execution_count": 36,
            "source": [
                "from gensim.models.tfidfmodel import TfidfModel"
            ],
            "outputs": [],
            "metadata": {}
        },
        {
            "cell_type": "code",
            "execution_count": 37,
            "source": [
                "tfidf = TfidfModel(corpus)"
            ],
            "outputs": [],
            "metadata": {}
        },
        {
            "cell_type": "code",
            "execution_count": 38,
            "source": [
                "tfidf_weights = tfidf[doc]"
            ],
            "outputs": [],
            "metadata": {}
        },
        {
            "cell_type": "code",
            "execution_count": 40,
            "source": [
                "print(tfidf_weights[:5])\n",
                "\n",
                "sorted_tfidf_weights = sorted(tfidf_weights, key=lambda w: w[1], reverse=True)\n",
                "\n",
                "for term_id, weight in sorted_tfidf_weights[:5]:\n",
                "    print(dictionary.get(term_id), weight)"
            ],
            "outputs": [
                {
                    "output_type": "stream",
                    "name": "stdout",
                    "text": [
                        "[]\n"
                    ]
                }
            ],
            "metadata": {}
        },
        {
            "cell_type": "markdown",
            "source": [
                "# Name Entity Recognition "
            ],
            "metadata": {}
        },
        {
            "cell_type": "code",
            "execution_count": 137,
            "source": [
                "from collections import defaultdict\n",
                "from nltk.tokenize import sent_tokenize, word_tokenize\n",
                "from nltk.stem import WordNetLemmatizer\n",
                "from nltk.corpus import stopwords\n",
                "from nltk import pos_tag\n",
                "from nltk import ne_chunk_sents\n",
                "\n",
                "from matplotlib import pyplot as plt\n",
                "\n",
                "wordnet_lemmatizer = WordNetLemmatizer()\n",
                "eng_stopwords = stopwords.words('english')"
            ],
            "outputs": [],
            "metadata": {}
        },
        {
            "cell_type": "code",
            "execution_count": 132,
            "source": [
                "with open('../dataset/nlp_ner_article.txt', 'r') as f:\n",
                "    article = f.read()"
            ],
            "outputs": [],
            "metadata": {}
        },
        {
            "cell_type": "code",
            "execution_count": 149,
            "source": [
                "sentences = sent_tokenize(article)\n",
                "token_sentences = [word_tokenize(sent) for sent in sentences]\n",
                "token_sentences_rm_punc = [[w for w in sent if w.isalpha()] for sent in token_sentences]\n",
                "token_sentences_rm_stop = [[w for w in sent if w not in eng_stopwords] for sent in token_sentences_rm_punc]\n",
                "token_sentences_stem = [[wordnet_lemmatizer.lemmatize(w) for w in sent] for sent in token_sentences_rm_stop]\n"
            ],
            "outputs": [],
            "metadata": {}
        },
        {
            "cell_type": "code",
            "execution_count": 150,
            "source": [
                "pos_sentences = [pos_tag(sent) for sent in token_sentences_stem]\n",
                "chunked_sentences = ne_chunk_sents(pos_sentences, binary=True)"
            ],
            "outputs": [],
            "metadata": {}
        },
        {
            "cell_type": "code",
            "execution_count": null,
            "source": [
                "for sent in chunked_sentences:\n",
                "    for chunk in sent:\n",
                "        if hasattr(chunk, \"label\") and chunk.label() == \"NE\":\n",
                "            print(chunk)"
            ],
            "outputs": [],
            "metadata": {}
        },
        {
            "cell_type": "code",
            "execution_count": null,
            "source": [
                "for sent in chunked_sentences:\n",
                "    for chunk in sent:\n",
                "        print(chunk)"
            ],
            "outputs": [],
            "metadata": {}
        },
        {
            "cell_type": "code",
            "execution_count": 152,
            "source": [
                "chunked_sentences = ne_chunk_sents(pos_sentences)\n",
                "\n",
                "ner_categories = defaultdict(int)\n",
                "\n",
                "# count entity, stored in defaultdict\n",
                "for sent in chunked_sentences:\n",
                "    for chunk in sent:\n",
                "        if hasattr(chunk, 'label'):\n",
                "            ner_categories[chunk.label()] += 1"
            ],
            "outputs": [],
            "metadata": {}
        },
        {
            "cell_type": "code",
            "execution_count": 153,
            "source": [
                "labels, values = [], []\n",
                "for k, v in ner_categories.items():\n",
                "    labels.append(k)\n",
                "    values.append(v)"
            ],
            "outputs": [],
            "metadata": {}
        },
        {
            "cell_type": "code",
            "execution_count": 154,
            "source": [
                "plt.pie(values, labels=labels, autopct='%1.1f%%', startangle=140)\n",
                "plt.show()"
            ],
            "outputs": [
                {
                    "output_type": "display_data",
                    "data": {
                        "text/plain": [
                            "<Figure size 432x288 with 1 Axes>"
                        ],
                        "image/png": "[encoded data removed]"
                    },
                    "metadata": {}
                }
            ],
            "metadata": {}
        },
        {
            "cell_type": "markdown",
            "source": [
                "# SpaCy"
            ],
            "metadata": {}
        },
        {
            "cell_type": "code",
            "execution_count": 1,
            "source": [
                "import spacy"
            ],
            "outputs": [],
            "metadata": {}
        },
        {
            "cell_type": "markdown",
            "source": [
                "!python -m spacy download en_core_web_sm"
            ],
            "metadata": {}
        },
        {
            "cell_type": "code",
            "execution_count": 2,
            "source": [
                "nlp = spacy.load('en_core_web_sm')"
            ],
            "outputs": [],
            "metadata": {}
        },
        {
            "cell_type": "code",
            "execution_count": 3,
            "source": [
                "with open('../dataset/nlp_ner_article.txt', 'r') as f:\n",
                "    article = f.read()"
            ],
            "outputs": [],
            "metadata": {}
        },
        {
            "cell_type": "code",
            "execution_count": 4,
            "source": [
                "doc = nlp(article)"
            ],
            "outputs": [],
            "metadata": {}
        },
        {
            "cell_type": "code",
            "execution_count": 5,
            "source": [
                "for ent in doc.ents:\n",
                "    print(ent.label_, ent.text)"
            ],
            "outputs": [
                {
                    "output_type": "stream",
                    "name": "stdout",
                    "text": [
                        "ORG Apple\n",
                        "PERSON Uber\n",
                        "FAC Travis Kalanick of Uber\n",
                        "PERSON Tim Cook\n",
                        "ORG Apple\n",
                        "CARDINAL Millions\n",
                        "PERSON Uber\n",
                        "LOC Silicon Valley\n",
                        "ORG Yahoo\n",
                        "PERSON Marissa Mayer\n",
                        "MONEY 186\n"
                    ]
                }
            ],
            "metadata": {}
        },
        {
            "cell_type": "markdown",
            "source": [
                "----"
            ],
            "metadata": {}
        },
        {
            "cell_type": "markdown",
            "source": [
                "# Sklearn Bag of Word"
            ],
            "metadata": {}
        },
        {
            "cell_type": "code",
            "execution_count": null,
            "source": [
                "# Import the necessary modules\n",
                "from sklearn.naive_bayes import MultinomialNB\n",
                "from sklearn import metrics\n",
                "\n",
                "# Instantiate a Multinomial Naive Bayes classifier: nb_classifier\n",
                "nb_classifier = MultinomialNB()\n",
                "\n",
                "# Fit the classifier to the training data\n",
                "nb_classifier.fit(count_train, y_train)\n",
                "\n",
                "# Create the predicted tags: pred\n",
                "pred = nb_classifier.predict(count_test)\n",
                "\n",
                "# Calculate the accuracy score: score\n",
                "score = metrics.accuracy_score(pred, y_test)\n",
                "print(score)\n",
                "\n",
                "# Calculate the confusion matrix: cm\n",
                "cm = metrics.confusion_matrix(y_test, pred, labels=['FAKE', 'REAL'])\n",
                "print(cm)"
            ],
            "outputs": [],
            "metadata": {}
        },
        {
            "cell_type": "code",
            "execution_count": null,
            "source": [
                "# Get the class labels: class_labels\n",
                "class_labels = nb_classifier.classes_\n",
                "\n",
                "# Extract the features: feature_names\n",
                "feature_names = tfidf_vectorizer.get_feature_names()\n",
                "\n",
                "# Zip the feature names together with the coefficient array and sort by weights: feat_with_weights\n",
                "feat_with_weights = sorted(zip(nb_classifier.coef_[0], feature_names))\n",
                "\n",
                "# Print the first class label and the top 20 feat_with_weights entries\n",
                "print(class_labels[0], feat_with_weights[:20])\n",
                "\n",
                "# Print the second class label and the bottom 20 feat_with_weights entries\n",
                "print(class_labels[1], feat_with_weights[-20:])\n"
            ],
            "outputs": [],
            "metadata": {}
        }
    ],
    "metadata": {
        "orig_nbformat": 4,
        "language_info": {
            "name": "python",
            "version": "3.8.2",
            "mimetype": "text/x-python",
            "codemirror_mode": {
                "name": "ipython",
                "version": 3
            },
            "pygments_lexer": "ipython3",
            "nbconvert_exporter": "python",
            "file_extension": ".py"
        },
        "kernelspec": {
            "name": "python3",
            "display_name": "Python 3.8.2 64-bit ('base': conda)"
        },
        "interpreter": {
            "hash": "569d6b7e9215e11aba41c6454007e5c1b78bad7df09dab765d8cf00362c40f03"
        }
    },
    "nbformat": 4,
    "nbformat_minor": 2
}
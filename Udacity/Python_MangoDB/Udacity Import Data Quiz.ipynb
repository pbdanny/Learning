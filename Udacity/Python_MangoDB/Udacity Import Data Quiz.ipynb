{
 "cells": [
  {
   "cell_type": "code",
   "execution_count": null,
   "metadata": {
    "collapsed": false
   },
   "outputs": [],
   "source": [
    "import csv\n",
    "import os\n",
    "\n",
    "DATADIR = \"/Users/Danny/Documents/Python Project/UdactiyMangoDB/\"\n",
    "DATAFILE = \"745090.csv\"\n",
    "\n",
    "\n",
    "def parse_file(datafile):\n",
    "    name = \"\"\n",
    "    data = []\n",
    "    with open(datafile,'rb') as f:\n",
    "        reader = csv.reader(f)\n",
    "        for row in reader:\n",
    "            data.append(row)\n",
    "\n",
    "    # Do not change the line below\n",
    "    return (name, data)\n",
    "\n",
    "def main():\n",
    "    datafile = os.path.join(DATADIR, DATAFILE)\n",
    "    name, data = parse_file(datafile)\n",
    "    print(data)"
   ]
  },
  {
   "cell_type": "code",
   "execution_count": 61,
   "metadata": {
    "collapsed": false
   },
   "outputs": [
    {
     "name": "stdout",
     "output_type": "stream",
     "text": [
      "['Station', 'Year', 'Month', 'Day', 'Hour', 'Max Load']\n",
      "[['Station', 'Year', 'Month', 'Day', 'Hour', 'Max Load'], ['COAST', 2013, 8, 13, 17, 18779.025510000003], ['EAST', 2013, 8, 5, 17, 2380.1654089999956], ['FAR_WEST', 2013, 6, 26, 17, 2281.2722140000024], ['NORTH', 2013, 8, 7, 17, 1544.7707140000005], ['NORTH_C', 2013, 8, 7, 18, 24415.570226999993], ['SOUTHERN', 2013, 8, 8, 16, 5494.157645], ['SOUTH_C', 2013, 8, 8, 18, 11433.30491600001], ['WEST', 2013, 8, 7, 17, 1862.6137649999998], ['ERCOT', 2013, 8, 7, 17, 67595.81819800012]]\n"
     ]
    }
   ],
   "source": [
    "import xlrd\n",
    "import csv\n",
    "\n",
    "datafile = \"/Users/Danny/Documents/Python Project/UdactiyMangoDB/2013_ERCOT_Hourly_Load_Data.xls\"\n",
    "outfile = \"2013_Max_Loads.csv\"\n",
    "\n",
    "\n",
    "workbook = xlrd.open_workbook(datafile)\n",
    "sheet = workbook.sheet_by_index(0)\n",
    "nr = sheet.nrows\n",
    "nc = sheet.ncols\n",
    "\n",
    "\n",
    "data = []\n",
    "header = [\"Station\",\"Year\",\"Month\",\"Day\",\"Hour\",\"Max Load\"]\n",
    "data.append(header)\n",
    "\n",
    "for i in range(1, nc):\n",
    "    station = sheet.cell_value(rowx = 0, colx = i)\n",
    "    dat = sheet.col_values(i, start_rowx = 1)\n",
    "    time = xlrd.xldate_as_tuple(sheet.cell_value(rowx = dat.index(max(dat))+1, colx = 0), 0)\n",
    "    data.append([station, time[0], time[1], time[2], time[3], max(dat)])\n",
    "\n",
    "print(header)\n",
    "print(data)\n",
    "\n",
    "with open('2013_Max_Loads.csv', 'w') as outfile:\n",
    "    writer = csv.writer(outfile, delimiter = '|')\n",
    "    for i in range(0, len(data)-1):\n",
    "        writer.writerow(data[i])\n",
    "    \n",
    "\n",
    "    # data = None\n",
    "    # YOUR CODE HERE\n",
    "    # Remember that you can use xlrd.xldate_as_tuple(sometime, 0) to convert\n",
    "    # Excel date to Python tuple of (year, month, day, hour, minute, second)\n",
    "    # return data\n",
    "\n",
    "# def save_file(data, filename):\n",
    "    # YOUR CODE HERE"
   ]
  },
  {
   "cell_type": "code",
   "execution_count": 58,
   "metadata": {
    "collapsed": false
   },
   "outputs": [
    {
     "data": {
      "text/plain": [
       "6"
      ]
     },
     "execution_count": 58,
     "metadata": {},
     "output_type": "execute_result"
    }
   ],
   "source": [
    "len(time)"
   ]
  },
  {
   "cell_type": "code",
   "execution_count": null,
   "metadata": {
    "collapsed": true
   },
   "outputs": [],
   "source": []
  }
 ],
 "metadata": {
  "kernelspec": {
   "display_name": "Python [default]",
   "language": "python",
   "name": "python3"
  },
  "language_info": {
   "codemirror_mode": {
    "name": "ipython",
    "version": 3
   },
   "file_extension": ".py",
   "mimetype": "text/x-python",
   "name": "python",
   "nbconvert_exporter": "python",
   "pygments_lexer": "ipython3",
   "version": "3.5.2"
  }
 },
 "nbformat": 4,
 "nbformat_minor": 2
}

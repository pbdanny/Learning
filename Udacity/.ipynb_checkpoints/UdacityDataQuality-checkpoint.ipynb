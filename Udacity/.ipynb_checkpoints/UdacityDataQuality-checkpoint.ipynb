{
 "cells": [
  {
   "cell_type": "code",
   "execution_count": 1,
   "metadata": {
    "collapsed": false
   },
   "outputs": [
    {
     "data": {
      "text/plain": [
       "'\\nYour task is to check the \"productionStartYear\" of the DBPedia autos datafile for valid values.\\nThe following things should be done:\\n- check if the field \"productionStartYear\" contains a year\\n- check if the year is in range 1886-2014\\n- convert the value of the field to be just a year (not full datetime)\\n- the rest of the fields and values should stay the same\\n- if the value of the field is a valid year in the range as described above,\\n  write that line to the output_good file\\n- if the value of the field is not a valid year as described above, \\n  write that line to the output_bad file\\n- discard rows (neither write to good nor bad) if the URI is not from dbpedia.org\\n- you should use the provided way of reading and writing data (DictReader and DictWriter)\\n  They will take care of dealing with the header.\\n\\nYou can write helper functions for checking the data and writing the files, but we will call only the \\n\\'process_file\\' with 3 arguments (inputfile, output_good, output_bad).\\n'"
      ]
     },
     "execution_count": 1,
     "metadata": {},
     "output_type": "execute_result"
    }
   ],
   "source": [
    "\"\"\"\n",
    "Your task is to check the \"productionStartYear\" of the DBPedia autos datafile for valid values.\n",
    "The following things should be done:\n",
    "- check if the field \"productionStartYear\" contains a year\n",
    "- check if the year is in range 1886-2014\n",
    "- convert the value of the field to be just a year (not full datetime)\n",
    "- the rest of the fields and values should stay the same\n",
    "- if the value of the field is a valid year in the range as described above,\n",
    "  write that line to the output_good file\n",
    "- if the value of the field is not a valid year as described above, \n",
    "  write that line to the output_bad file\n",
    "- discard rows (neither write to good nor bad) if the URI is not from dbpedia.org\n",
    "- you should use the provided way of reading and writing data (DictReader and DictWriter)\n",
    "  They will take care of dealing with the header.\n",
    "\n",
    "You can write helper functions for checking the data and writing the files, but we will call only the \n",
    "'process_file' with 3 arguments (inputfile, output_good, output_bad).\n",
    "\"\"\""
   ]
  },
  {
   "cell_type": "code",
   "execution_count": 1,
   "metadata": {
    "collapsed": true
   },
   "outputs": [],
   "source": [
    "import csv\n",
    "import pprint"
   ]
  },
  {
   "cell_type": "code",
   "execution_count": 2,
   "metadata": {
    "collapsed": true
   },
   "outputs": [],
   "source": [
    "INPUT_FILE = 'autos.csv'\n",
    "OUTPUT_GOOD = 'autos-valid.csv'\n",
    "OUTPUT_BAD = 'FIXME-autos.csv'"
   ]
  },
  {
   "cell_type": "code",
   "execution_count": 58,
   "metadata": {
    "collapsed": false
   },
   "outputs": [],
   "source": [
    "def process_file(input_file, output_good, output_bad):\n",
    "\n",
    "    with open(input_file, \"r\") as f:\n",
    "        reader = csv.DictReader(f)\n",
    "        header = reader.fieldnames\n",
    "        \n",
    "        goodRow = []\n",
    "        badRow = []\n",
    "        \n",
    "        for row in reader:\n",
    "            \n",
    "            if 'dbpedia.org' in row['URI']:  # skip if URI not contain dbpedia.org\n",
    "                yearString = row['productionStartYear'][0:4] # Extract first 4 text in year\n",
    "                if yearString.isdigit():  # if string all are digit\n",
    "                    yearInt = int(yearString)  # calcualte digit\n",
    "                    if yearInt >= 1886 and yearInt <= 2014:  # if year in range\n",
    "                        row['productionStartYear'] = yearInt  # re-assing value to\n",
    "                        goodRow.append(row)\n",
    "                    else:\n",
    "                        badRow.append(row)\n",
    "                else:\n",
    "                    badRow.append(row)\n",
    "    \n",
    "        with open(output_bad, \"w+\") as b:\n",
    "            writer = csv.DictWriter(b, delimiter = \",\", fieldnames = header)\n",
    "            writer.writeheader()\n",
    "            for row in badRow:\n",
    "                writer.writerow(row)\n",
    "        \n",
    "        with open(output_good, \"w+\") as g:\n",
    "            writer = csv.DictWriter(g, delimiter = \",\", fieldnames = header)\n",
    "            writer.writeheader()\n",
    "            for row in goodRow:\n",
    "                writer.writerow(row)"
   ]
  },
  {
   "cell_type": "code",
   "execution_count": 57,
   "metadata": {
    "collapsed": false
   },
   "outputs": [],
   "source": [
    "process_file(INPUT_FILE, OUTPUT_GOOD, OUTPUT_BAD)"
   ]
  },
  {
   "cell_type": "code",
   "execution_count": null,
   "metadata": {
    "collapsed": true
   },
   "outputs": [],
   "source": []
  }
 ],
 "metadata": {
  "kernelspec": {
   "display_name": "Python [default]",
   "language": "python",
   "name": "python3"
  },
  "language_info": {
   "codemirror_mode": {
    "name": "ipython",
    "version": 3
   },
   "file_extension": ".py",
   "mimetype": "text/x-python",
   "name": "python",
   "nbconvert_exporter": "python",
   "pygments_lexer": "ipython3",
   "version": "3.5.3"
  }
 },
 "nbformat": 4,
 "nbformat_minor": 2
}

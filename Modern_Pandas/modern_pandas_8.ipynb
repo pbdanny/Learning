{
 "cells": [
  {
   "cell_type": "code",
   "execution_count": 1,
   "metadata": {},
   "outputs": [],
   "source": [
    "from pathlib import Path\n",
    "import pandas as pd\n",
    "import seaborn as sns\n",
    "import zipfile"
   ]
  },
  {
   "cell_type": "code",
   "execution_count": 30,
   "metadata": {},
   "outputs": [],
   "source": [
    "df = pd.read_table('./data/indiv10.zip', usecols=[11], names=['occupation'], encoding='latin-1', sep='|')"
   ]
  },
  {
   "cell_type": "code",
   "execution_count": 31,
   "metadata": {},
   "outputs": [
    {
     "data": {
      "text/plain": [
       "RETIRED                            160066\n",
       "SELF                               112005\n",
       "SELF-EMPLOYED                       89117\n",
       "NONE                                70016\n",
       "SELF EMPLOYED                       58344\n",
       "                                    ...  \n",
       "INTEL CORPORATION                     538\n",
       "AMERICAN INCOME LIFE                  537\n",
       "CITICORP / CITIBANK                   535\n",
       "JOHN DEERE SHARED SERVICES INC.       535\n",
       "BKD, LLP                              534\n",
       "Name: occupation, Length: 100, dtype: int64"
      ]
     },
     "execution_count": 31,
     "metadata": {},
     "output_type": "execute_result"
    }
   ],
   "source": [
    "df.occupation.value_counts().nlargest(100)"
   ]
  },
  {
   "cell_type": "code",
   "execution_count": 3,
   "metadata": {},
   "outputs": [],
   "source": [
    "files = sorted(Path('data/').glob('indiv*.zip'))"
   ]
  },
  {
   "cell_type": "code",
   "execution_count": 4,
   "metadata": {},
   "outputs": [
    {
     "data": {
      "text/plain": [
       "[PosixPath('data/indiv10.zip'), PosixPath('data/indiv12.zip')]"
      ]
     },
     "execution_count": 4,
     "metadata": {},
     "output_type": "execute_result"
    }
   ],
   "source": [
    "files"
   ]
  },
  {
   "cell_type": "code",
   "execution_count": 71,
   "metadata": {},
   "outputs": [],
   "source": [
    "for year in files:\n",
    "    zf = zipfile.ZipFile(year)\n",
    "    df = pd.read_table(zf.open('itcont.txt'), sep='|', encoding='latin-1', usecols=[11], names=['occupation'])\n",
    "    counts = df.occupation.value_counts()\n",
    "    total_counts = total_counts.add(counts, fill_value=0)"
   ]
  },
  {
   "cell_type": "code",
   "execution_count": 73,
   "metadata": {},
   "outputs": [
    {
     "data": {
      "text/plain": [
       "RETIRED                      670081.0\n",
       "SELF-EMPLOYED                384327.0\n",
       "SELF                         337635.0\n",
       "NONE                         239246.0\n",
       "SELF EMPLOYED                184627.0\n",
       "                               ...   \n",
       "JONES DAY                      1771.0\n",
       "SOUTHERN COMPANY SERVICES      1756.0\n",
       "WILLIAMS & JENSEN              1745.0\n",
       "CREDIT SUISSE                  1734.0\n",
       "DEAN FOODS COMPANY             1702.0\n",
       "Length: 100, dtype: float64"
      ]
     },
     "execution_count": 73,
     "metadata": {},
     "output_type": "execute_result"
    }
   ],
   "source": [
    "total_counts.nlargest(100).sort_values(ascending=False)"
   ]
  },
  {
   "cell_type": "markdown",
   "metadata": {},
   "source": [
    "### Dask"
   ]
  },
  {
   "cell_type": "code",
   "execution_count": 2,
   "metadata": {},
   "outputs": [],
   "source": [
    "# convert csv to parquet\n",
    "head = pd.read_csv('data/indiv_header_file.csv').rename(columns=str.lower)"
   ]
  },
  {
   "cell_type": "code",
   "execution_count": 5,
   "metadata": {},
   "outputs": [],
   "source": [
    "# save data in parquet format\n",
    "for year in files:\n",
    "    zf = zipfile.ZipFile(year)\n",
    "    df = pd.read_table(zf.open('itcont.txt'), sep='|', encoding='latin-1', names=head.columns, low_memory=False)\n",
    "    par_name = year.with_suffix('.parq')\n",
    "    df.to_parquet(par_name)"
   ]
  },
  {
   "cell_type": "code",
   "execution_count": 6,
   "metadata": {},
   "outputs": [],
   "source": [
    "# load \n",
    "import dask.dataframe as dd"
   ]
  },
  {
   "cell_type": "code",
   "execution_count": 8,
   "metadata": {},
   "outputs": [],
   "source": [
    "df = dd.read_parquet('data/indiv*.parq')"
   ]
  },
  {
   "cell_type": "code",
   "execution_count": 11,
   "metadata": {},
   "outputs": [
    {
     "data": {
      "text/plain": [
       "Index(['cmte_id', 'amndt_ind', 'rpt_tp', 'transaction_pgi', 'image_num',\n",
       "       'transaction_tp', 'entity_tp', 'name', 'city', 'state', 'zip_code',\n",
       "       'employer', 'occupation', 'transaction_dt', 'transaction_amt',\n",
       "       'other_id', 'tran_id', 'file_num', 'memo_cd', 'memo_text', 'sub_id'],\n",
       "      dtype='object')"
      ]
     },
     "execution_count": 11,
     "metadata": {},
     "output_type": "execute_result"
    }
   ],
   "source": [
    "df.columns"
   ]
  },
  {
   "cell_type": "code",
   "execution_count": 20,
   "metadata": {},
   "outputs": [
    {
     "data": {
      "text/plain": [
       "RETIRED                 837651\n",
       "ATTORNEY                395402\n",
       "PHYSICIAN               184082\n",
       "PRESIDENT               175055\n",
       "HOMEMAKER               165711\n",
       "                         ...  \n",
       "FIRE FIGHTER / EMS        4941\n",
       "BUSINESS EXECUTIVE        4908\n",
       "SMALL BUSINESS OWNER      4899\n",
       "DOCTOR OF OPTOMETRY       4849\n",
       "INFO REQUESTED            4724\n",
       "Name: occupation, Length: 100, dtype: int64"
      ]
     },
     "execution_count": 20,
     "metadata": {},
     "output_type": "execute_result"
    }
   ],
   "source": [
    "most_common = df.occupation.value_counts().nlargest(100)\n",
    "most_common.compute().sort_values(ascending=False)"
   ]
  },
  {
   "cell_type": "code",
   "execution_count": 23,
   "metadata": {},
   "outputs": [
    {
     "data": {
      "text/plain": [
       "[(('getitem-5d77430cfb6f8afc31fc1d7a4f5596b2', 0),\n",
       "  (subgraph_callable,\n",
       "   ('read-parquet-11a1dcf32f077ae994c95c71dfdfb0d4', 0),\n",
       "   'occupation')),\n",
       " (('getitem-5d77430cfb6f8afc31fc1d7a4f5596b2', 1),\n",
       "  (subgraph_callable,\n",
       "   ('read-parquet-11a1dcf32f077ae994c95c71dfdfb0d4', 1),\n",
       "   'occupation')),\n",
       " (('read-parquet-11a1dcf32f077ae994c95c71dfdfb0d4', 0),\n",
       "  (<function dask.dataframe.io.parquet.core.read_parquet_part(func, fs, meta, part, columns, index, kwargs)>,\n",
       "   <bound method ArrowEngine.read_partition of <class 'dask.dataframe.io.parquet.arrow.ArrowEngine'>>,\n",
       "   <fsspec.implementations.local.LocalFileSystem at 0x7fbdf1cdd910>,\n",
       "   Empty DataFrame\n",
       "   Columns: [cmte_id, amndt_ind, rpt_tp, transaction_pgi, image_num, transaction_tp, entity_tp, name, city, state, zip_code, employer, occupation, transaction_dt, transaction_amt, other_id, tran_id, file_num, memo_cd, memo_text, sub_id]\n",
       "   Index: []\n",
       "   \n",
       "   [0 rows x 21 columns],\n",
       "   [('/Users/Danny/Documents/Learning/Modern_Pandas/data/indiv10.parq',\n",
       "     None,\n",
       "     None)],\n",
       "   ['cmte_id',\n",
       "    'amndt_ind',\n",
       "    'rpt_tp',\n",
       "    'transaction_pgi',\n",
       "    'image_num',\n",
       "    'transaction_tp',\n",
       "    'entity_tp',\n",
       "    'name',\n",
       "    'city',\n",
       "    'state',\n",
       "    'zip_code',\n",
       "    'employer',\n",
       "    'occupation',\n",
       "    'transaction_dt',\n",
       "    'transaction_amt',\n",
       "    'other_id',\n",
       "    'tran_id',\n",
       "    'file_num',\n",
       "    'memo_cd',\n",
       "    'memo_text',\n",
       "    'sub_id'],\n",
       "   [None],\n",
       "   {'partitions': None, 'categories': []})),\n",
       " (('read-parquet-11a1dcf32f077ae994c95c71dfdfb0d4', 1),\n",
       "  (<function dask.dataframe.io.parquet.core.read_parquet_part(func, fs, meta, part, columns, index, kwargs)>,\n",
       "   <bound method ArrowEngine.read_partition of <class 'dask.dataframe.io.parquet.arrow.ArrowEngine'>>,\n",
       "   <fsspec.implementations.local.LocalFileSystem at 0x7fbdf1cdd910>,\n",
       "   Empty DataFrame\n",
       "   Columns: [cmte_id, amndt_ind, rpt_tp, transaction_pgi, image_num, transaction_tp, entity_tp, name, city, state, zip_code, employer, occupation, transaction_dt, transaction_amt, other_id, tran_id, file_num, memo_cd, memo_text, sub_id]\n",
       "   Index: []\n",
       "   \n",
       "   [0 rows x 21 columns],\n",
       "   [('/Users/Danny/Documents/Learning/Modern_Pandas/data/indiv12.parq',\n",
       "     None,\n",
       "     None)],\n",
       "   ['cmte_id',\n",
       "    'amndt_ind',\n",
       "    'rpt_tp',\n",
       "    'transaction_pgi',\n",
       "    'image_num',\n",
       "    'transaction_tp',\n",
       "    'entity_tp',\n",
       "    'name',\n",
       "    'city',\n",
       "    'state',\n",
       "    'zip_code',\n",
       "    'employer',\n",
       "    'occupation',\n",
       "    'transaction_dt',\n",
       "    'transaction_amt',\n",
       "    'other_id',\n",
       "    'tran_id',\n",
       "    'file_num',\n",
       "    'memo_cd',\n",
       "    'memo_text',\n",
       "    'sub_id'],\n",
       "   [None],\n",
       "   {'partitions': None, 'categories': []})),\n",
       " (('series-nlargest-agg-5314528604b173e945e1c85555d001bf', 0),\n",
       "  (<function dask.utils.apply(func, args, kwargs=None)>,\n",
       "   <methodcaller: nlargest>,\n",
       "   [(<function dask.dataframe.core._concat(args, ignore_index=False)>,\n",
       "     [('series-nlargest-chunk-5314528604b173e945e1c85555d001bf', 0, 0, 0)],\n",
       "     False)],\n",
       "   {'n': 100})),\n",
       " (('series-nlargest-chunk-5314528604b173e945e1c85555d001bf', 0, 0, 0),\n",
       "  (<function dask.utils.apply(func, args, kwargs=None)>,\n",
       "   <methodcaller: nlargest>,\n",
       "   [('value-counts-agg-5f808956f4d194ddf920173b0b9767d4', 0)],\n",
       "   {'n': 100})),\n",
       " (('value-counts-agg-5f808956f4d194ddf920173b0b9767d4', 0),\n",
       "  (<function dask.utils.apply(func, args, kwargs=None)>,\n",
       "   <function dask.dataframe.methods.value_counts_aggregate(x, sort=True, ascending=False, **groupby_kwargs)>,\n",
       "   [(<function dask.dataframe.core._concat(args, ignore_index=False)>,\n",
       "     [('value-counts-chunk-5f808956f4d194ddf920173b0b9767d4', 0, 0, 0),\n",
       "      ('value-counts-chunk-5f808956f4d194ddf920173b0b9767d4', 0, 1, 0)],\n",
       "     False)],\n",
       "   {'ascending': False})),\n",
       " (('value-counts-chunk-5f808956f4d194ddf920173b0b9767d4', 0, 0, 0),\n",
       "  (<function dask.utils.apply(func, args, kwargs=None)>,\n",
       "   <methodcaller: value_counts>,\n",
       "   [('getitem-5d77430cfb6f8afc31fc1d7a4f5596b2', 0)],\n",
       "   {'ascending': False})),\n",
       " (('value-counts-chunk-5f808956f4d194ddf920173b0b9767d4', 0, 1, 0),\n",
       "  (<function dask.utils.apply(func, args, kwargs=None)>,\n",
       "   <methodcaller: value_counts>,\n",
       "   [('getitem-5d77430cfb6f8afc31fc1d7a4f5596b2', 1)],\n",
       "   {'ascending': False}))]"
      ]
     },
     "execution_count": 23,
     "metadata": {},
     "output_type": "execute_result"
    }
   ],
   "source": [
    "sorted(most_common.dask.items())"
   ]
  },
  {
   "cell_type": "code",
   "execution_count": 25,
   "metadata": {},
   "outputs": [],
   "source": [
    "individual_cols = ['cmte_id', 'entity_tp', 'employer', 'occupation', 'transaction_dt', 'transaction_amt']\n",
    "indiv = dd.read_parquet('data/indiv*.parq', columns=individual_cols, engine='pyarrow')"
   ]
  },
  {
   "cell_type": "code",
   "execution_count": 26,
   "metadata": {},
   "outputs": [
    {
     "data": {
      "text/html": [
       "<div><strong>Dask DataFrame Structure:</strong></div>\n",
       "<div>\n",
       "<style scoped>\n",
       "    .dataframe tbody tr th:only-of-type {\n",
       "        vertical-align: middle;\n",
       "    }\n",
       "\n",
       "    .dataframe tbody tr th {\n",
       "        vertical-align: top;\n",
       "    }\n",
       "\n",
       "    .dataframe thead th {\n",
       "        text-align: right;\n",
       "    }\n",
       "</style>\n",
       "<table border=\"1\" class=\"dataframe\">\n",
       "  <thead>\n",
       "    <tr style=\"text-align: right;\">\n",
       "      <th></th>\n",
       "      <th>cmte_id</th>\n",
       "      <th>entity_tp</th>\n",
       "      <th>employer</th>\n",
       "      <th>occupation</th>\n",
       "      <th>transaction_dt</th>\n",
       "      <th>transaction_amt</th>\n",
       "    </tr>\n",
       "    <tr>\n",
       "      <th>npartitions=2</th>\n",
       "      <th></th>\n",
       "      <th></th>\n",
       "      <th></th>\n",
       "      <th></th>\n",
       "      <th></th>\n",
       "      <th></th>\n",
       "    </tr>\n",
       "  </thead>\n",
       "  <tbody>\n",
       "    <tr>\n",
       "      <th></th>\n",
       "      <td>object</td>\n",
       "      <td>object</td>\n",
       "      <td>object</td>\n",
       "      <td>object</td>\n",
       "      <td>float64</td>\n",
       "      <td>int64</td>\n",
       "    </tr>\n",
       "    <tr>\n",
       "      <th></th>\n",
       "      <td>...</td>\n",
       "      <td>...</td>\n",
       "      <td>...</td>\n",
       "      <td>...</td>\n",
       "      <td>...</td>\n",
       "      <td>...</td>\n",
       "    </tr>\n",
       "    <tr>\n",
       "      <th></th>\n",
       "      <td>...</td>\n",
       "      <td>...</td>\n",
       "      <td>...</td>\n",
       "      <td>...</td>\n",
       "      <td>...</td>\n",
       "      <td>...</td>\n",
       "    </tr>\n",
       "  </tbody>\n",
       "</table>\n",
       "</div>\n",
       "<div>Dask Name: read-parquet, 2 tasks</div>"
      ],
      "text/plain": [
       "Dask DataFrame Structure:\n",
       "              cmte_id entity_tp employer occupation transaction_dt transaction_amt\n",
       "npartitions=2                                                                     \n",
       "               object    object   object     object        float64           int64\n",
       "                  ...       ...      ...        ...            ...             ...\n",
       "                  ...       ...      ...        ...            ...             ...\n",
       "Dask Name: read-parquet, 2 tasks"
      ]
     },
     "execution_count": 26,
     "metadata": {},
     "output_type": "execute_result"
    }
   ],
   "source": [
    "indiv"
   ]
  },
  {
   "cell_type": "code",
   "execution_count": 44,
   "metadata": {},
   "outputs": [
    {
     "data": {
      "text/html": [
       "<div>\n",
       "<style scoped>\n",
       "    .dataframe tbody tr th:only-of-type {\n",
       "        vertical-align: middle;\n",
       "    }\n",
       "\n",
       "    .dataframe tbody tr th {\n",
       "        vertical-align: top;\n",
       "    }\n",
       "\n",
       "    .dataframe thead th {\n",
       "        text-align: right;\n",
       "    }\n",
       "</style>\n",
       "<table border=\"1\" class=\"dataframe\">\n",
       "  <thead>\n",
       "    <tr style=\"text-align: right;\">\n",
       "      <th></th>\n",
       "      <th>cmte_id</th>\n",
       "      <th>entity_tp</th>\n",
       "      <th>employer</th>\n",
       "      <th>occupation</th>\n",
       "      <th>transaction_dt</th>\n",
       "      <th>transaction_amt</th>\n",
       "    </tr>\n",
       "  </thead>\n",
       "  <tbody>\n",
       "    <tr>\n",
       "      <th>0</th>\n",
       "      <td>C00122176</td>\n",
       "      <td>IND</td>\n",
       "      <td>RETIRED</td>\n",
       "      <td>RETIRED</td>\n",
       "      <td>6292009.0</td>\n",
       "      <td>400</td>\n",
       "    </tr>\n",
       "    <tr>\n",
       "      <th>1</th>\n",
       "      <td>C00122176</td>\n",
       "      <td>IND</td>\n",
       "      <td>WINSTON &amp; STRAWN</td>\n",
       "      <td>ATTORNEY, RETIRED</td>\n",
       "      <td>6292009.0</td>\n",
       "      <td>250</td>\n",
       "    </tr>\n",
       "    <tr>\n",
       "      <th>2</th>\n",
       "      <td>C00122176</td>\n",
       "      <td>IND</td>\n",
       "      <td>FLANNER &amp; BUCHANAN, INC.</td>\n",
       "      <td>PRESIDENT</td>\n",
       "      <td>4142009.0</td>\n",
       "      <td>1000</td>\n",
       "    </tr>\n",
       "    <tr>\n",
       "      <th>3</th>\n",
       "      <td>C00122176</td>\n",
       "      <td>IND</td>\n",
       "      <td>INDIANA UNIVERSITY</td>\n",
       "      <td>RETIRED, PROFESSOR EMERITUS</td>\n",
       "      <td>5112009.0</td>\n",
       "      <td>500</td>\n",
       "    </tr>\n",
       "    <tr>\n",
       "      <th>4</th>\n",
       "      <td>C00122176</td>\n",
       "      <td>IND</td>\n",
       "      <td>SELF</td>\n",
       "      <td>ATTORNEY</td>\n",
       "      <td>5262009.0</td>\n",
       "      <td>250</td>\n",
       "    </tr>\n",
       "  </tbody>\n",
       "</table>\n",
       "</div>"
      ],
      "text/plain": [
       "     cmte_id entity_tp                  employer                   occupation  \\\n",
       "0  C00122176       IND                   RETIRED                      RETIRED   \n",
       "1  C00122176       IND          WINSTON & STRAWN            ATTORNEY, RETIRED   \n",
       "2  C00122176       IND  FLANNER & BUCHANAN, INC.                    PRESIDENT   \n",
       "3  C00122176       IND        INDIANA UNIVERSITY  RETIRED, PROFESSOR EMERITUS   \n",
       "4  C00122176       IND                      SELF                     ATTORNEY   \n",
       "\n",
       "   transaction_dt  transaction_amt  \n",
       "0       6292009.0              400  \n",
       "1       6292009.0              250  \n",
       "2       4142009.0             1000  \n",
       "3       5112009.0              500  \n",
       "4       5262009.0              250  "
      ]
     },
     "execution_count": 44,
     "metadata": {},
     "output_type": "execute_result"
    }
   ],
   "source": [
    "indiv.head()"
   ]
  },
  {
   "cell_type": "code",
   "execution_count": 27,
   "metadata": {},
   "outputs": [],
   "source": [
    "avg_tran = indiv.transaction_amt.mean()"
   ]
  },
  {
   "cell_type": "code",
   "execution_count": 31,
   "metadata": {},
   "outputs": [
    {
     "data": {
      "text/plain": [
       "1106.404532206981"
      ]
     },
     "execution_count": 31,
     "metadata": {},
     "output_type": "execute_result"
    }
   ],
   "source": [
    "avg_tran.compute()"
   ]
  },
  {
   "cell_type": "code",
   "execution_count": 54,
   "metadata": {},
   "outputs": [],
   "source": [
    "total_by_emp = (indiv.groupby(['employer'])\n",
    "                ['transaction_amt'].sum()\n",
    "                .nlargest(100)\n",
    "               )"
   ]
  },
  {
   "cell_type": "code",
   "execution_count": 55,
   "metadata": {},
   "outputs": [
    {
     "data": {
      "text/plain": [
       "employer\n",
       "RETIRED                          376108539\n",
       "SELF-EMPLOYED                    323222775\n",
       "SELF                             188623332\n",
       "HOMEMAKER                        149997902\n",
       "NONE                             130257437\n",
       "                                   ...    \n",
       "BOIES, SCHILLER & FLEXNER LLP      1616598\n",
       "ENCIMA GLOBAL LLC                  1613500\n",
       "FIDELITY INVESTMENTS               1608796\n",
       "H AND H                            1594598\n",
       "THE BLACKSTONE GROUP               1576986\n",
       "Name: transaction_amt, Length: 100, dtype: int64"
      ]
     },
     "execution_count": 55,
     "metadata": {},
     "output_type": "execute_result"
    }
   ],
   "source": [
    "total_by_emp.compute()"
   ]
  },
  {
   "cell_type": "code",
   "execution_count": 56,
   "metadata": {},
   "outputs": [],
   "source": [
    "top_occupations = (indiv['occupation'].value_counts()\n",
    "                  .nlargest(10).index).compute()"
   ]
  },
  {
   "cell_type": "code",
   "execution_count": 57,
   "metadata": {},
   "outputs": [
    {
     "data": {
      "text/plain": [
       "Index(['RETIRED', 'ATTORNEY', 'PHYSICIAN', 'PRESIDENT', 'HOMEMAKER',\n",
       "       'INFORMATION REQUESTED', 'EXECUTIVE', 'OWNER', 'CONSULTANT', 'CEO'],\n",
       "      dtype='object')"
      ]
     },
     "execution_count": 57,
     "metadata": {},
     "output_type": "execute_result"
    }
   ],
   "source": [
    "top_occupations"
   ]
  },
  {
   "cell_type": "code",
   "execution_count": 61,
   "metadata": {},
   "outputs": [],
   "source": [
    "donation = (indiv[indiv.occupation.isin(top_occupations)]\n",
    "            .groupby('occupation')\n",
    "            ['transaction_amt']\n",
    "            .agg(['count', 'mean', 'sum', 'max'])\n",
    "           )"
   ]
  },
  {
   "cell_type": "code",
   "execution_count": 62,
   "metadata": {},
   "outputs": [
    {
     "data": {
      "text/html": [
       "<div>\n",
       "<style scoped>\n",
       "    .dataframe tbody tr th:only-of-type {\n",
       "        vertical-align: middle;\n",
       "    }\n",
       "\n",
       "    .dataframe tbody tr th {\n",
       "        vertical-align: top;\n",
       "    }\n",
       "\n",
       "    .dataframe thead th {\n",
       "        text-align: right;\n",
       "    }\n",
       "</style>\n",
       "<table border=\"1\" class=\"dataframe\">\n",
       "  <thead>\n",
       "    <tr style=\"text-align: right;\">\n",
       "      <th></th>\n",
       "      <th>count</th>\n",
       "      <th>mean</th>\n",
       "      <th>sum</th>\n",
       "      <th>max</th>\n",
       "    </tr>\n",
       "    <tr>\n",
       "      <th>occupation</th>\n",
       "      <th></th>\n",
       "      <th></th>\n",
       "      <th></th>\n",
       "      <th></th>\n",
       "    </tr>\n",
       "  </thead>\n",
       "  <tbody>\n",
       "    <tr>\n",
       "      <th>ATTORNEY</th>\n",
       "      <td>395402</td>\n",
       "      <td>899.930036</td>\n",
       "      <td>355834136</td>\n",
       "      <td>1000000</td>\n",
       "    </tr>\n",
       "    <tr>\n",
       "      <th>CEO</th>\n",
       "      <td>80572</td>\n",
       "      <td>2549.677593</td>\n",
       "      <td>205432623</td>\n",
       "      <td>5000000</td>\n",
       "    </tr>\n",
       "    <tr>\n",
       "      <th>CONSULTANT</th>\n",
       "      <td>88479</td>\n",
       "      <td>872.923824</td>\n",
       "      <td>77235427</td>\n",
       "      <td>1200000</td>\n",
       "    </tr>\n",
       "    <tr>\n",
       "      <th>EXECUTIVE</th>\n",
       "      <td>101900</td>\n",
       "      <td>1544.182031</td>\n",
       "      <td>157352149</td>\n",
       "      <td>1500000</td>\n",
       "    </tr>\n",
       "    <tr>\n",
       "      <th>HOMEMAKER</th>\n",
       "      <td>165711</td>\n",
       "      <td>1686.066109</td>\n",
       "      <td>279399701</td>\n",
       "      <td>500000</td>\n",
       "    </tr>\n",
       "    <tr>\n",
       "      <th>INFORMATION REQUESTED</th>\n",
       "      <td>128998</td>\n",
       "      <td>691.263849</td>\n",
       "      <td>89171654</td>\n",
       "      <td>375137</td>\n",
       "    </tr>\n",
       "    <tr>\n",
       "      <th>OWNER</th>\n",
       "      <td>96502</td>\n",
       "      <td>1321.426582</td>\n",
       "      <td>127520308</td>\n",
       "      <td>5000000</td>\n",
       "    </tr>\n",
       "    <tr>\n",
       "      <th>PHYSICIAN</th>\n",
       "      <td>184082</td>\n",
       "      <td>891.414234</td>\n",
       "      <td>164093315</td>\n",
       "      <td>5000000</td>\n",
       "    </tr>\n",
       "    <tr>\n",
       "      <th>PRESIDENT</th>\n",
       "      <td>175055</td>\n",
       "      <td>1440.190860</td>\n",
       "      <td>252112611</td>\n",
       "      <td>2000000</td>\n",
       "    </tr>\n",
       "    <tr>\n",
       "      <th>RETIRED</th>\n",
       "      <td>837651</td>\n",
       "      <td>733.330461</td>\n",
       "      <td>614274994</td>\n",
       "      <td>2000000</td>\n",
       "    </tr>\n",
       "  </tbody>\n",
       "</table>\n",
       "</div>"
      ],
      "text/plain": [
       "                        count         mean        sum      max\n",
       "occupation                                                    \n",
       "ATTORNEY               395402   899.930036  355834136  1000000\n",
       "CEO                     80572  2549.677593  205432623  5000000\n",
       "CONSULTANT              88479   872.923824   77235427  1200000\n",
       "EXECUTIVE              101900  1544.182031  157352149  1500000\n",
       "HOMEMAKER              165711  1686.066109  279399701   500000\n",
       "INFORMATION REQUESTED  128998   691.263849   89171654   375137\n",
       "OWNER                   96502  1321.426582  127520308  5000000\n",
       "PHYSICIAN              184082   891.414234  164093315  5000000\n",
       "PRESIDENT              175055  1440.190860  252112611  2000000\n",
       "RETIRED                837651   733.330461  614274994  2000000"
      ]
     },
     "execution_count": 62,
     "metadata": {},
     "output_type": "execute_result"
    }
   ],
   "source": [
    "donation.compute()"
   ]
  },
  {
   "cell_type": "code",
   "execution_count": null,
   "metadata": {},
   "outputs": [],
   "source": []
  }
 ],
 "metadata": {
  "kernelspec": {
   "display_name": "Python 3",
   "language": "python",
   "name": "python3"
  },
  "language_info": {
   "codemirror_mode": {
    "name": "ipython",
    "version": 3
   },
   "file_extension": ".py",
   "mimetype": "text/x-python",
   "name": "python",
   "nbconvert_exporter": "python",
   "pygments_lexer": "ipython3",
   "version": "3.7.9"
  }
 },
 "nbformat": 4,
 "nbformat_minor": 4
}
